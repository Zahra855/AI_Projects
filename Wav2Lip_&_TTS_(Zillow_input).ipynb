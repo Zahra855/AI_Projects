{
  "cells": [
    {
      "cell_type": "code",
      "source": [
        "!nvcc --version"
      ],
      "metadata": {
        "colab": {
          "base_uri": "https://localhost:8080/"
        },
        "id": "XF-zbh-0wpii",
        "outputId": "6398cdc6-00d5-4044-aad4-1cd47fcd609b"
      },
      "execution_count": null,
      "outputs": [
        {
          "output_type": "stream",
          "name": "stdout",
          "text": [
            "nvcc: NVIDIA (R) Cuda compiler driver\n",
            "Copyright (c) 2005-2021 NVIDIA Corporation\n",
            "Built on Sun_Feb_14_21:12:58_PST_2021\n",
            "Cuda compilation tools, release 11.2, V11.2.152\n",
            "Build cuda_11.2.r11.2/compiler.29618528_0\n"
          ]
        }
      ]
    },
    {
      "cell_type": "code",
      "source": [
        "from google.colab import drive\n",
        "drive.mount('/content/gdrive')"
      ],
      "metadata": {
        "colab": {
          "base_uri": "https://localhost:8080/"
        },
        "id": "V_ly8s6Nwq5v",
        "outputId": "ac98bd20-e169-4c78-e499-2b60ac460758"
      },
      "execution_count": null,
      "outputs": [
        {
          "output_type": "stream",
          "name": "stdout",
          "text": [
            "Mounted at /content/gdrive\n"
          ]
        }
      ]
    },
    {
      "cell_type": "code",
      "source": [
        "!git clone https://github.com/Rudrabha/Wav2Lip.git"
      ],
      "metadata": {
        "colab": {
          "base_uri": "https://localhost:8080/"
        },
        "id": "h3jBe-eawtM8",
        "outputId": "1f27165b-2782-42b8-bd20-11e283549c17"
      },
      "execution_count": null,
      "outputs": [
        {
          "output_type": "stream",
          "name": "stdout",
          "text": [
            "Cloning into 'Wav2Lip'...\n",
            "remote: Enumerating objects: 360, done.\u001b[K\n",
            "remote: Total 360 (delta 0), reused 0 (delta 0), pack-reused 360\u001b[K\n",
            "Receiving objects: 100% (360/360), 522.30 KiB | 12.15 MiB/s, done.\n",
            "Resolving deltas: 100% (198/198), done.\n"
          ]
        }
      ]
    },
    {
      "cell_type": "code",
      "source": [
        "!ls /content/gdrive/MyDrive/Wav2Lip"
      ],
      "metadata": {
        "colab": {
          "base_uri": "https://localhost:8080/"
        },
        "id": "nNR_z6MZwtxI",
        "outputId": "e0246ac2-0cc5-4ce1-ebd8-13fc3f9e4bf3"
      },
      "execution_count": null,
      "outputs": [
        {
          "output_type": "stream",
          "name": "stdout",
          "text": [
            "wav2lip_gan.pth  Wav2Lip_quick_trial.ipynb\n"
          ]
        }
      ]
    },
    {
      "cell_type": "code",
      "source": [
        "\n",
        "!cp -ri \"/content/gdrive/MyDrive/Wav2Lip/wav2lip_gan.pth\" /content/Wav2Lip/checkpoints/"
      ],
      "metadata": {
        "id": "8Oftnu-TwvK6"
      },
      "execution_count": null,
      "outputs": []
    },
    {
      "cell_type": "code",
      "source": [
        "\n",
        "!pip install gTTs"
      ],
      "metadata": {
        "colab": {
          "base_uri": "https://localhost:8080/"
        },
        "id": "bePbMXM9wxK5",
        "outputId": "2d16947c-c66d-485e-d588-e4e7b170cab7"
      },
      "execution_count": null,
      "outputs": [
        {
          "output_type": "stream",
          "name": "stdout",
          "text": [
            "Looking in indexes: https://pypi.org/simple, https://us-python.pkg.dev/colab-wheels/public/simple/\n",
            "Collecting gTTs\n",
            "  Downloading gTTS-2.3.1-py3-none-any.whl (28 kB)\n",
            "Collecting requests<3,>=2.27\n",
            "  Downloading requests-2.28.2-py3-none-any.whl (62 kB)\n",
            "\u001b[2K     \u001b[90m━━━━━━━━━━━━━━━━━━━━━━━━━━━━━━━━━━━━━━━━\u001b[0m \u001b[32m62.8/62.8 KB\u001b[0m \u001b[31m7.1 MB/s\u001b[0m eta \u001b[36m0:00:00\u001b[0m\n",
            "\u001b[?25hRequirement already satisfied: click<8.2,>=7.1 in /usr/local/lib/python3.8/dist-packages (from gTTs) (7.1.2)\n",
            "Requirement already satisfied: urllib3<1.27,>=1.21.1 in /usr/local/lib/python3.8/dist-packages (from requests<3,>=2.27->gTTs) (1.24.3)\n",
            "Requirement already satisfied: idna<4,>=2.5 in /usr/local/lib/python3.8/dist-packages (from requests<3,>=2.27->gTTs) (2.10)\n",
            "Requirement already satisfied: charset-normalizer<4,>=2 in /usr/local/lib/python3.8/dist-packages (from requests<3,>=2.27->gTTs) (2.1.1)\n",
            "Requirement already satisfied: certifi>=2017.4.17 in /usr/local/lib/python3.8/dist-packages (from requests<3,>=2.27->gTTs) (2022.12.7)\n",
            "Installing collected packages: requests, gTTs\n",
            "  Attempting uninstall: requests\n",
            "    Found existing installation: requests 2.25.1\n",
            "    Uninstalling requests-2.25.1:\n",
            "      Successfully uninstalled requests-2.25.1\n",
            "Successfully installed gTTs-2.3.1 requests-2.28.2\n"
          ]
        }
      ]
    },
    {
      "cell_type": "code",
      "source": [
        "!pip uninstall tensorflow tensorflow-gpu"
      ],
      "metadata": {
        "colab": {
          "base_uri": "https://localhost:8080/"
        },
        "id": "OL1Xhwfaw0dT",
        "outputId": "521eee86-9f98-46c4-aee5-df1d341075c7"
      },
      "execution_count": null,
      "outputs": [
        {
          "output_type": "stream",
          "name": "stdout",
          "text": [
            "Found existing installation: tensorflow 2.9.2\n",
            "Uninstalling tensorflow-2.9.2:\n",
            "  Would remove:\n",
            "    /usr/local/bin/estimator_ckpt_converter\n",
            "    /usr/local/bin/import_pb_to_tensorboard\n",
            "    /usr/local/bin/saved_model_cli\n",
            "    /usr/local/bin/tensorboard\n",
            "    /usr/local/bin/tf_upgrade_v2\n",
            "    /usr/local/bin/tflite_convert\n",
            "    /usr/local/bin/toco\n",
            "    /usr/local/bin/toco_from_protos\n",
            "    /usr/local/lib/python3.8/dist-packages/tensorflow-2.9.2.dist-info/*\n",
            "    /usr/local/lib/python3.8/dist-packages/tensorflow/*\n",
            "Proceed (Y/n)? Y\n",
            "  Successfully uninstalled tensorflow-2.9.2\n",
            "\u001b[33mWARNING: Skipping tensorflow-gpu as it is not installed.\u001b[0m\u001b[33m\n",
            "\u001b[0m"
          ]
        }
      ]
    },
    {
      "cell_type": "code",
      "source": [
        "!cd Wav2Lip && pip install -r requirements.txt"
      ],
      "metadata": {
        "colab": {
          "base_uri": "https://localhost:8080/"
        },
        "id": "opotK3eQw2lf",
        "outputId": "7a6136d9-f070-4e4c-ed9c-ed2170bc247a"
      },
      "execution_count": null,
      "outputs": [
        {
          "output_type": "stream",
          "name": "stdout",
          "text": [
            "Looking in indexes: https://pypi.org/simple, https://us-python.pkg.dev/colab-wheels/public/simple/\n",
            "Collecting librosa==0.7.0\n",
            "  Downloading librosa-0.7.0.tar.gz (1.6 MB)\n",
            "\u001b[?25l     \u001b[90m━━━━━━━━━━━━━━━━━━━━━━━━━━━━━━━━━━━━━━━━\u001b[0m \u001b[32m0.0/1.6 MB\u001b[0m \u001b[31m?\u001b[0m eta \u001b[36m-:--:--\u001b[0m\r\u001b[2K     \u001b[90m━━━━━━━━━━━━━━━━━━━━━━━━━━━━━━━━━━━━━━━━\u001b[0m \u001b[32m1.6/1.6 MB\u001b[0m \u001b[31m51.4 MB/s\u001b[0m eta \u001b[36m0:00:00\u001b[0m\n",
            "\u001b[?25h  Preparing metadata (setup.py) ... \u001b[?25l\u001b[?25hdone\n",
            "Collecting numpy==1.17.1\n",
            "  Downloading numpy-1.17.1.zip (6.5 MB)\n",
            "\u001b[2K     \u001b[90m━━━━━━━━━━━━━━━━━━━━━━━━━━━━━━━━━━━━━━━━\u001b[0m \u001b[32m6.5/6.5 MB\u001b[0m \u001b[31m88.4 MB/s\u001b[0m eta \u001b[36m0:00:00\u001b[0m\n",
            "\u001b[?25h  Preparing metadata (setup.py) ... \u001b[?25l\u001b[?25hdone\n",
            "Requirement already satisfied: opencv-contrib-python>=4.2.0.34 in /usr/local/lib/python3.8/dist-packages (from -r requirements.txt (line 3)) (4.6.0.66)\n",
            "\u001b[31mERROR: Could not find a version that satisfies the requirement opencv-python==4.1.0.25 (from versions: 3.4.0.14, 3.4.8.29, 3.4.9.31, 3.4.9.33, 3.4.10.35, 3.4.10.37, 3.4.11.39, 3.4.11.41, 3.4.11.43, 3.4.11.45, 3.4.13.47, 3.4.14.51, 3.4.14.53, 3.4.15.55, 3.4.16.57, 3.4.16.59, 3.4.17.61, 3.4.17.63, 3.4.18.65, 4.1.2.30, 4.2.0.32, 4.2.0.34, 4.3.0.36, 4.3.0.38, 4.4.0.40, 4.4.0.42, 4.4.0.44, 4.4.0.46, 4.5.1.48, 4.5.2.52, 4.5.2.54, 4.5.3.56, 4.5.4.58, 4.5.4.60, 4.5.5.62, 4.5.5.64, 4.6.0.66, 4.7.0.68)\u001b[0m\u001b[31m\n",
            "\u001b[0m\u001b[31mERROR: No matching distribution found for opencv-python==4.1.0.25\u001b[0m\u001b[31m\n",
            "\u001b[0m"
          ]
        }
      ]
    },
    {
      "cell_type": "code",
      "source": [
        "!wget \"https://www.adrianbulat.com/downloads/python-fan/s3fd-619a316812.pth\" -O \"Wav2Lip/face_detection/detection/sfd/s3fd.pth\"\n"
      ],
      "metadata": {
        "colab": {
          "base_uri": "https://localhost:8080/"
        },
        "id": "n2nmM5Wdw4ue",
        "outputId": "9177d7d8-23e3-4c80-db5d-c184f2c54a2e"
      },
      "execution_count": null,
      "outputs": [
        {
          "output_type": "stream",
          "name": "stdout",
          "text": [
            "--2023-01-31 07:47:40--  https://www.adrianbulat.com/downloads/python-fan/s3fd-619a316812.pth\n",
            "Resolving www.adrianbulat.com (www.adrianbulat.com)... 45.136.29.207\n",
            "Connecting to www.adrianbulat.com (www.adrianbulat.com)|45.136.29.207|:443... connected.\n",
            "HTTP request sent, awaiting response... 200 OK\n",
            "Length: 89843225 (86M) [application/octet-stream]\n",
            "Saving to: ‘Wav2Lip/face_detection/detection/sfd/s3fd.pth’\n",
            "\n",
            "Wav2Lip/face_detect 100%[===================>]  85.68M  23.8MB/s    in 3.6s    \n",
            "\n",
            "2023-01-31 07:47:44 (23.8 MB/s) - ‘Wav2Lip/face_detection/detection/sfd/s3fd.pth’ saved [89843225/89843225]\n",
            "\n"
          ]
        }
      ]
    },
    {
      "cell_type": "code",
      "source": [
        "\n",
        "def get_user_input():\n",
        "    ##user_input = input(\"Please enter your text: \")\n",
        "    ##return user_input\n",
        "\n",
        "    text = get_user_input()\n",
        "    print(\"You entered: \", text)\n"
      ],
      "metadata": {
        "id": "bksBoFcsw74i"
      },
      "execution_count": null,
      "outputs": []
    },
    {
      "cell_type": "code",
      "source": [
        "from gtts import gTTS\n",
        "\n",
        "import os\n",
        "\n",
        "##mytext = get_user_input()\n",
        "text = \"Hi. I am Abby and I'm creating a custom avatar for my website.\"\n",
        "\n",
        "language = 'en'\n",
        "\n",
        "myobj = gTTS(text=text, lang=language, slow=False)\n",
        "\n",
        "myobj.save(\"/content/gdrive/MyDrive/Wav2Lip (1)/Zillow_Audio.wav\")"
      ],
      "metadata": {
        "id": "V4pBfwhVxqed"
      },
      "execution_count": null,
      "outputs": []
    },
    {
      "cell_type": "code",
      "source": [
        "!cp \"/content/gdrive/MyDrive/Wav2Lip (1)/Zillow_Video.mp4\" \"/content/gdrive/MyDrive/Wav2Lip (1)/Zillow_Audio.wav\" sample_data/\n",
        "!ls sample_data/"
      ],
      "metadata": {
        "colab": {
          "base_uri": "https://localhost:8080/"
        },
        "id": "Owgfr1qMxLkB",
        "outputId": "e7a13a2f-433c-4e08-a8e3-a923b1c0b6c1"
      },
      "execution_count": null,
      "outputs": [
        {
          "output_type": "stream",
          "name": "stdout",
          "text": [
            "anscombe.json\t\t      mnist_test.csv\t     Zillow_Audio.wav\n",
            "california_housing_test.csv   mnist_train_small.csv  Zillow_Video.mp4\n",
            "california_housing_train.csv  README.md\n"
          ]
        }
      ]
    },
    {
      "cell_type": "code",
      "source": [
        "!cd Wav2Lip && python inference.py --checkpoint_path checkpoints/wav2lip_gan.pth --face \"/content/sample_data/Zillow_Video.mp4\" --audio \"/content/sample_data/Zillow_Audio.wav\"\n"
      ],
      "metadata": {
        "colab": {
          "base_uri": "https://localhost:8080/"
        },
        "id": "6SFnUa7mxOBF",
        "outputId": "16aec81e-56db-4c79-bc10-ccd92e4b08d2"
      },
      "execution_count": null,
      "outputs": [
        {
          "output_type": "stream",
          "name": "stdout",
          "text": [
            "Using cpu for inference.\n",
            "Reading video frames...\n",
            "^C\n"
          ]
        }
      ]
    },
    {
      "cell_type": "code",
      "source": [
        "!cd Wav2Lip && python inference.py --checkpoint_path checkpoints/wav2lip_gan.pth --face \"/content/sample_data/Zillow_Video.mp4\" --audio \"/content/sample_data/Zillow_Audio.wav\" --pads 0 20 0 0\n"
      ],
      "metadata": {
        "colab": {
          "base_uri": "https://localhost:8080/"
        },
        "id": "-cnGabm3xWdb",
        "outputId": "ebf7358e-ff3e-4cea-b889-a3b1f0c3c7e5"
      },
      "execution_count": null,
      "outputs": [
        {
          "output_type": "stream",
          "name": "stdout",
          "text": [
            "Using cpu for inference.\n",
            "Reading video frames...\n",
            "^C\n"
          ]
        }
      ]
    },
    {
      "cell_type": "code",
      "source": [
        "\n",
        "\n",
        "!cd Wav2Lip && python inference.py --checkpoint_path checkpoints/wav2lip_gan.pth --face \"/content/sample_data/Zillow_Video.mp4\" --audio \"/content/sample_data/Zillow_Audio.wav\" --resize_factor 2\n"
      ],
      "metadata": {
        "id": "GYNXSgtAjv5g",
        "outputId": "2af932e5-16b2-4075-df2a-446e1ce2d084",
        "colab": {
          "base_uri": "https://localhost:8080/"
        }
      },
      "execution_count": null,
      "outputs": [
        {
          "output_type": "stream",
          "name": "stdout",
          "text": [
            "Using cpu for inference.\n",
            "Reading video frames...\n",
            "Number of frames available for inference: 2384\n",
            "/usr/local/lib/python3.8/dist-packages/librosa/core/audio.py:165: UserWarning: PySoundFile failed. Trying audioread instead.\n",
            "  warnings.warn(\"PySoundFile failed. Trying audioread instead.\")\n",
            "(80, 425)\n",
            "Length of mel chunks: 155\n",
            "  0% 0/2 [00:00<?, ?it/s]\n",
            "  0% 0/10 [00:00<?, ?it/s]\u001b[Atcmalloc: large alloc 2123366400 bytes == 0x33d90000 @  0x7f1320970680 0x7f1320991824 0x7f1320991b8a 0x7f1286cbfdc5 0x7f1286c9d053 0x7f12b434cc12 0x7f12b434dc2a 0x7f12b434d08b 0x7f12b4da4b1a 0x7f12b475d5f9 0x7f12b4fdd2e1 0x7f12b4895ddc 0x7f12b40dc79a 0x7f12b4fdb365 0x7f12b487eac0 0x7f12b40d1e95 0x7f12b4fdadd5 0x7f12b4832abe 0x7f12b61fbd51 0x7f12b61fccb7 0x7f12b487e0b7 0x7f12b40d946c 0x7f12b5196ee1 0x7f12b4da082c 0x7f12dcabeba6 0x5f5b39 0x5f6706 0x571143 0x50b22e 0x570b82 0x5f5ee6\n",
            "tcmalloc: large alloc 2123366400 bytes == 0xb2690000 @  0x7f1320970680 0x7f1320991824 0x7f1320991b8a 0x7f1286cbfdc5 0x7f1286c9d053 0x7f12b3d6112f 0x7f12b3d61f50 0x7f12b3d61fa4 0x7f12b3d620ef 0x7f12b4e59d3b 0x7f12b4eafd12 0x7f12b3dc4d80 0x7f12b3dc94ea 0x7f12b3dcad34 0x7f12b43e4e61 0x7f12b4e8667a 0x7f12b4e866f0 0x7f12b4c93cc4 0x7f12b400d92a 0x7f12b4e5330d 0x7f12b4d5233b 0x7f12b652da93 0x7f12b652e100 0x7f12b4d8c823 0x7f12dcb4ad9d 0x5f5b39 0x5f6706 0x571143 0x569d8a 0x5f60c3 0x570b82\n",
            "tcmalloc: large alloc 2123366400 bytes == 0x33d90000 @  0x7f1320970680 0x7f1320991824 0x7f1320991b8a 0x7f1286cbfdc5 0x7f1286c9d053 0x7f12b434cc12 0x7f12b434dc2a 0x7f12b434d08b 0x7f12b4da4b1a 0x7f12b475d5f9 0x7f12b4fdd2e1 0x7f12b4895ddc 0x7f12b40dc79a 0x7f12b4fdb365 0x7f12b487eac0 0x7f12b40d1e95 0x7f12b4fdadd5 0x7f12b4832abe 0x7f12b61fbd51 0x7f12b61fccb7 0x7f12b487e0b7 0x7f12b40d946c 0x7f12b5196ee1 0x7f12b4da082c 0x7f12dcabeba6 0x5f5b39 0x5f6706 0x571143 0x50b22e 0x570b82 0x5f5ee6\n",
            "tcmalloc: large alloc 2123366400 bytes == 0x166418000 @  0x7f1320970680 0x7f1320991824 0x7f1320991b8a 0x7f1286cbfdc5 0x7f1286c9d053 0x7f12b3d6112f 0x7f12b3d61f50 0x7f12b3d61fa4 0x7f12b3d620ef 0x7f12b4e59d3b 0x7f12b4eafd12 0x7f12b3dc4d80 0x7f12b3dc94ea 0x7f12b3dcad34 0x7f12b43e4e61 0x7f12b4e8667a 0x7f12b4e866f0 0x7f12b4c93cc4 0x7f12b400d92a 0x7f12b4e5330d 0x7f12b4d5233b 0x7f12b652da93 0x7f12b652e100 0x7f12b4d8c823 0x7f12dcb4ad9d 0x5f5b39 0x5f6706 0x571143 0x569d8a 0x5f60c3 0x570b82\n",
            "\n",
            " 10% 1/10 [02:08<19:12, 128.10s/it]\u001b[Atcmalloc: large alloc 2123366400 bytes == 0x166418000 @  0x7f1320970680 0x7f1320991824 0x7f1320991b8a 0x7f1286cbfdc5 0x7f1286c9d053 0x7f12b434cc12 0x7f12b434dc2a 0x7f12b434d08b 0x7f12b4da4b1a 0x7f12b475d5f9 0x7f12b4fdd2e1 0x7f12b4895ddc 0x7f12b40dc79a 0x7f12b4fdb365 0x7f12b487eac0 0x7f12b40d1e95 0x7f12b4fdadd5 0x7f12b4832abe 0x7f12b61fbd51 0x7f12b61fccb7 0x7f12b487e0b7 0x7f12b40d946c 0x7f12b5196ee1 0x7f12b4da082c 0x7f12dcabeba6 0x5f5b39 0x5f6706 0x571143 0x50b22e 0x570b82 0x5f5ee6\n",
            "tcmalloc: large alloc 2123366400 bytes == 0x73210000 @  0x7f1320970680 0x7f1320991824 0x7f1320991b8a 0x7f1286cbfdc5 0x7f1286c9d053 0x7f12b3d6112f 0x7f12b3d61f50 0x7f12b3d61fa4 0x7f12b3d620ef 0x7f12b4e59d3b 0x7f12b4eafd12 0x7f12b3dc4d80 0x7f12b3dc94ea 0x7f12b3dcad34 0x7f12b43e4e61 0x7f12b4e8667a 0x7f12b4e866f0 0x7f12b4c93cc4 0x7f12b400d92a 0x7f12b4e5330d 0x7f12b4d5233b 0x7f12b652da93 0x7f12b652e100 0x7f12b4d8c823 0x7f12dcb4ad9d 0x5f5b39 0x5f6706 0x571143 0x569d8a 0x5f60c3 0x570b82\n",
            "\n",
            " 20% 2/10 [04:16<17:04, 128.02s/it]\u001b[A\n",
            " 30% 3/10 [06:19<14:42, 126.09s/it]\u001b[A\n",
            " 40% 4/10 [08:25<12:34, 125.80s/it]\u001b[A\n",
            " 50% 5/10 [10:28<10:23, 124.78s/it]\u001b[A\n",
            " 60% 6/10 [12:37<08:25, 126.38s/it]\u001b[A\n",
            " 70% 7/10 [14:41<06:16, 125.62s/it]\u001b[A\n",
            " 80% 8/10 [16:47<04:11, 125.51s/it]\u001b[A\n",
            " 90% 9/10 [19:00<02:07, 127.96s/it]\u001b[A\n",
            "100% 10/10 [20:23<00:00, 122.37s/it]\n",
            "Load checkpoint from: checkpoints/wav2lip_gan.pth\n",
            "Model loaded\n",
            "100% 2/2 [20:53<00:00, 626.54s/it]\n",
            "ffmpeg version 4.2.7-0ubuntu0.1 Copyright (c) 2000-2022 the FFmpeg developers\n",
            "  built with gcc 9 (Ubuntu 9.4.0-1ubuntu1~20.04.1)\n",
            "  configuration: --prefix=/usr --extra-version=0ubuntu0.1 --toolchain=hardened --libdir=/usr/lib/x86_64-linux-gnu --incdir=/usr/include/x86_64-linux-gnu --arch=amd64 --enable-gpl --disable-stripping --enable-avresample --disable-filter=resample --enable-avisynth --enable-gnutls --enable-ladspa --enable-libaom --enable-libass --enable-libbluray --enable-libbs2b --enable-libcaca --enable-libcdio --enable-libcodec2 --enable-libflite --enable-libfontconfig --enable-libfreetype --enable-libfribidi --enable-libgme --enable-libgsm --enable-libjack --enable-libmp3lame --enable-libmysofa --enable-libopenjpeg --enable-libopenmpt --enable-libopus --enable-libpulse --enable-librsvg --enable-librubberband --enable-libshine --enable-libsnappy --enable-libsoxr --enable-libspeex --enable-libssh --enable-libtheora --enable-libtwolame --enable-libvidstab --enable-libvorbis --enable-libvpx --enable-libwavpack --enable-libwebp --enable-libx265 --enable-libxml2 --enable-libxvid --enable-libzmq --enable-libzvbi --enable-lv2 --enable-omx --enable-openal --enable-opencl --enable-opengl --enable-sdl2 --enable-libdc1394 --enable-libdrm --enable-libiec61883 --enable-nvenc --enable-chromaprint --enable-frei0r --enable-libx264 --enable-shared\n",
            "  libavutil      56. 31.100 / 56. 31.100\n",
            "  libavcodec     58. 54.100 / 58. 54.100\n",
            "  libavformat    58. 29.100 / 58. 29.100\n",
            "  libavdevice    58.  8.100 / 58.  8.100\n",
            "  libavfilter     7. 57.100 /  7. 57.100\n",
            "  libavresample   4.  0.  0 /  4.  0.  0\n",
            "  libswscale      5.  5.100 /  5.  5.100\n",
            "  libswresample   3.  5.100 /  3.  5.100\n",
            "  libpostproc    55.  5.100 / 55.  5.100\n",
            "\u001b[0;35m[mp3 @ 0x55565a3b6000] \u001b[0m\u001b[0;33mEstimating duration from bitrate, this may be inaccurate\n",
            "\u001b[0mInput #0, mp3, from '/content/sample_data/Zillow_Audio.wav':\n",
            "  Duration: 00:00:05.30, start: 0.000000, bitrate: 32 kb/s\n",
            "    Stream #0:0: Audio: mp3, 24000 Hz, mono, fltp, 32 kb/s\n",
            "Input #1, avi, from 'temp/result.avi':\n",
            "  Metadata:\n",
            "    encoder         : Lavf58.76.100\n",
            "  Duration: 00:00:05.17, start: 0.000000, bitrate: 2640 kb/s\n",
            "    Stream #1:0: Video: mpeg4 (Simple Profile) (FMP4 / 0x34504D46), yuv420p, 960x540 [SAR 1:1 DAR 16:9], 2642 kb/s, 30 fps, 30 tbr, 30 tbn, 30 tbc\n",
            "Stream mapping:\n",
            "  Stream #1:0 -> #0:0 (mpeg4 (native) -> h264 (libx264))\n",
            "  Stream #0:0 -> #0:1 (mp3 (mp3float) -> aac (native))\n",
            "Press [q] to stop, [?] for help\n",
            "\u001b[1;36m[libx264 @ 0x55565a3b5600] \u001b[0m\u001b[0;33m-qscale is ignored, -crf is recommended.\n",
            "\u001b[0m\u001b[1;36m[libx264 @ 0x55565a3b5600] \u001b[0musing SAR=1/1\n",
            "\u001b[1;36m[libx264 @ 0x55565a3b5600] \u001b[0musing cpu capabilities: MMX2 SSE2Fast SSSE3 SSE4.2 AVX FMA3 BMI2 AVX2\n",
            "\u001b[1;36m[libx264 @ 0x55565a3b5600] \u001b[0mprofile High, level 3.1\n",
            "\u001b[1;36m[libx264 @ 0x55565a3b5600] \u001b[0m264 - core 155 r2917 0a84d98 - H.264/MPEG-4 AVC codec - Copyleft 2003-2018 - http://www.videolan.org/x264.html - options: cabac=1 ref=3 deblock=1:0:0 analyse=0x3:0x113 me=hex subme=7 psy=1 psy_rd=1.00:0.00 mixed_ref=1 me_range=16 chroma_me=1 trellis=1 8x8dct=1 cqm=0 deadzone=21,11 fast_pskip=1 chroma_qp_offset=-2 threads=3 lookahead_threads=1 sliced_threads=0 nr=0 decimate=1 interlaced=0 bluray_compat=0 constrained_intra=0 bframes=3 b_pyramid=2 b_adapt=1 b_bias=0 direct=1 weightb=1 open_gop=0 weightp=2 keyint=250 keyint_min=25 scenecut=40 intra_refresh=0 rc_lookahead=40 rc=crf mbtree=1 crf=23.0 qcomp=0.60 qpmin=0 qpmax=69 qpstep=4 ip_ratio=1.40 aq=1:1.00\n",
            "Output #0, mp4, to 'results/result_voice.mp4':\n",
            "  Metadata:\n",
            "    encoder         : Lavf58.29.100\n",
            "    Stream #0:0: Video: h264 (libx264) (avc1 / 0x31637661), yuv420p(progressive), 960x540 [SAR 1:1 DAR 16:9], q=-1--1, 30 fps, 15360 tbn, 30 tbc\n",
            "    Metadata:\n",
            "      encoder         : Lavc58.54.100 libx264\n",
            "    Side data:\n",
            "      cpb: bitrate max/min/avg: 0/0/0 buffer size: 0 vbv_delay: -1\n",
            "    Stream #0:1: Audio: aac (LC) (mp4a / 0x6134706D), 24000 Hz, mono, fltp, 69 kb/s\n",
            "    Metadata:\n",
            "      encoder         : Lavc58.54.100 aac\n",
            "frame=  155 fps= 58 q=-1.0 Lsize=     583kB time=00:00:05.33 bitrate= 895.1kbits/s speed=1.99x    \n",
            "video:536kB audio:41kB subtitle:0kB other streams:0kB global headers:0kB muxing overhead: 0.887643%\n",
            "\u001b[1;36m[libx264 @ 0x55565a3b5600] \u001b[0mframe I:1     Avg QP:22.45  size: 24450\n",
            "\u001b[1;36m[libx264 @ 0x55565a3b5600] \u001b[0mframe P:77    Avg QP:22.90  size:  6020\n",
            "\u001b[1;36m[libx264 @ 0x55565a3b5600] \u001b[0mframe B:77    Avg QP:27.75  size:   786\n",
            "\u001b[1;36m[libx264 @ 0x55565a3b5600] \u001b[0mconsecutive B-frames: 30.3%  9.0%  3.9% 56.8%\n",
            "\u001b[1;36m[libx264 @ 0x55565a3b5600] \u001b[0mmb I  I16..4: 16.8% 81.1%  2.1%\n",
            "\u001b[1;36m[libx264 @ 0x55565a3b5600] \u001b[0mmb P  I16..4:  0.8%  2.8%  0.1%  P16..4: 31.3%  9.5%  7.0%  0.0%  0.0%    skip:48.5%\n",
            "\u001b[1;36m[libx264 @ 0x55565a3b5600] \u001b[0mmb B  I16..4:  0.1%  0.6%  0.0%  B16..8: 28.0%  0.7%  0.1%  direct: 0.1%  skip:70.3%  L0:41.3% L1:55.7% BI: 3.0%\n",
            "\u001b[1;36m[libx264 @ 0x55565a3b5600] \u001b[0m8x8 transform intra:76.7% inter:78.1%\n",
            "\u001b[1;36m[libx264 @ 0x55565a3b5600] \u001b[0mcoded y,uvDC,uvAC intra: 57.9% 57.6% 11.4% inter: 8.8% 8.9% 0.7%\n",
            "\u001b[1;36m[libx264 @ 0x55565a3b5600] \u001b[0mi16 v,h,dc,p: 38% 28% 15% 19%\n",
            "\u001b[1;36m[libx264 @ 0x55565a3b5600] \u001b[0mi8 v,h,dc,ddl,ddr,vr,hd,vl,hu: 29% 27% 33%  2%  1%  2%  1%  2%  2%\n",
            "\u001b[1;36m[libx264 @ 0x55565a3b5600] \u001b[0mi4 v,h,dc,ddl,ddr,vr,hd,vl,hu: 40% 24%  8%  3%  6%  7%  4%  4%  5%\n",
            "\u001b[1;36m[libx264 @ 0x55565a3b5600] \u001b[0mi8c dc,h,v,p: 40% 28% 29%  4%\n",
            "\u001b[1;36m[libx264 @ 0x55565a3b5600] \u001b[0mWeighted P-Frames: Y:0.0% UV:0.0%\n",
            "\u001b[1;36m[libx264 @ 0x55565a3b5600] \u001b[0mref P L0: 70.3% 13.9% 11.8%  3.9%\n",
            "\u001b[1;36m[libx264 @ 0x55565a3b5600] \u001b[0mref B L0: 88.9%  8.9%  2.2%\n",
            "\u001b[1;36m[libx264 @ 0x55565a3b5600] \u001b[0mref B L1: 94.4%  5.6%\n",
            "\u001b[1;36m[libx264 @ 0x55565a3b5600] \u001b[0mkb/s:849.32\n",
            "\u001b[1;36m[aac @ 0x55565a41c480] \u001b[0mQavg: 14125.617\n"
          ]
        }
      ]
    }
  ],
  "metadata": {
    "colab": {
      "provenance": []
    },
    "kernelspec": {
      "display_name": "Python 3",
      "name": "python3"
    }
  },
  "nbformat": 4,
  "nbformat_minor": 0
}