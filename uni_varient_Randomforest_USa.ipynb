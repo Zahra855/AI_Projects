{
  "cells": [
    {
      "cell_type": "code",
      "execution_count": 1,
      "metadata": {
        "id": "oVQeyIjAOoRK"
      },
      "outputs": [],
      "source": [
        "from numpy import asarray\n",
        "from pandas import read_csv\n",
        "from pandas import DataFrame\n",
        "from pandas import concat\n",
        "from sklearn.metrics import mean_absolute_error\n",
        "from sklearn.ensemble import RandomForestRegressor\n",
        "from matplotlib import pyplot\n",
        "import pandas as pd"
      ]
    },
    {
      "cell_type": "code",
      "execution_count": 16,
      "metadata": {
        "colab": {
          "base_uri": "https://localhost:8080/"
        },
        "id": "kFZf7d5wO31R",
        "outputId": "24d56355-ef28-4d14-bffc-045208611eef"
      },
      "outputs": [
        {
          "output_type": "stream",
          "name": "stdout",
          "text": [
            "Drive already mounted at /content/drive; to attempt to forcibly remount, call drive.mount(\"/content/drive\", force_remount=True).\n",
            "connected to my drive\n"
          ]
        }
      ],
      "source": [
        "from google.colab import drive\n",
        "drive.mount('/content/drive')\n",
        "print(\"connected to my drive\")"
      ]
    },
    {
      "cell_type": "code",
      "execution_count": 32,
      "metadata": {
        "id": "UqwGGb7YPglp"
      },
      "outputs": [],
      "source": [
        "path2 = '/content/drive/MyDrive/USA_covidlatest_dataset_highlycoreleated.csv'\n",
        "df = pd.read_csv(path2)"
      ]
    },
    {
      "cell_type": "code",
      "execution_count": 4,
      "metadata": {
        "id": "CvMUELNfO677"
      },
      "outputs": [],
      "source": [
        "# df['date'] = pd.to_datetime(df['date'], dayfirst=True)\n",
        "# df['date'] = pd.to_datetime(df['date'], format='%Y-%m-%d')\n"
      ]
    },
    {
      "cell_type": "code",
      "execution_count": 33,
      "metadata": {
        "id": "W3EIRD0xYee7"
      },
      "outputs": [],
      "source": [
        "df3=df[['people_fully_vaccinated']]"
      ]
    },
    {
      "cell_type": "code",
      "execution_count": 22,
      "metadata": {
        "id": "pWmFRs_VX6lG"
      },
      "outputs": [],
      "source": [
        "\n",
        "# transform a time series dataset into a supervised learning dataset\n",
        "def series_to_supervised(data, n_in=1, n_out=1, dropnan=True):\n",
        "\tn_vars = 1 if type(data) is list else data.shape[1]\n",
        "\tdf = DataFrame(data)\n",
        "\tcols = list()\n",
        "\t# input sequence (t-n, ... t-1)\n",
        "\tfor i in range(n_in, 0, -1):\n",
        "\t\tcols.append(df.shift(i))\n",
        "\t# forecast sequence (t, t+1, ... t+n)\n",
        "\tfor i in range(0, n_out):\n",
        "\t\tcols.append(df.shift(-i))\n",
        "\t# put it all together\n",
        "\tagg = concat(cols, axis=1)\n",
        "\t# drop rows with NaN values\n",
        "\tif dropnan:\n",
        "\t\tagg.dropna(inplace=True)\n",
        "\treturn agg.values"
      ]
    },
    {
      "cell_type": "code",
      "execution_count": 23,
      "metadata": {
        "id": "anrQwSmPX72C"
      },
      "outputs": [],
      "source": [
        "#Create training and testing datasets\n",
        "train_start_dt = '2021-01-01'\n",
        "test_start_dt = '2022-01-01'"
      ]
    },
    {
      "cell_type": "code",
      "source": [
        ""
      ],
      "metadata": {
        "id": "D0mXd1IN4wkW"
      },
      "execution_count": 23,
      "outputs": []
    },
    {
      "cell_type": "code",
      "execution_count": 24,
      "metadata": {
        "id": "tNF0IK6BX_vE"
      },
      "outputs": [],
      "source": [
        "\n",
        "# split a univariate dataset into train/test sets\n",
        "def train_test_split(data, n_test):\n",
        "\treturn data[:-n_test, :], data[-n_test:, :]"
      ]
    },
    {
      "cell_type": "code",
      "execution_count": 25,
      "metadata": {
        "id": "_MuOh5ozYB4H"
      },
      "outputs": [],
      "source": [
        "\n",
        "# fit an random forest model and make a one step prediction\n",
        "def random_forest_forecast(train, testX):\n",
        "\t# transform list into array\n",
        "\ttrain = asarray(train)\n",
        "\t# split into input and output columns\n",
        "\ttrainX, trainy = train[:, :-1], train[:, -1]\n",
        "\t# fit model\n",
        "\tmodel = RandomForestRegressor(n_estimators=1000)\n",
        "\tmodel.fit(trainX, trainy)\n",
        "\t# make a one-step prediction\n",
        "\tyhat = model.predict([testX])\n",
        "\treturn yhat[0]"
      ]
    },
    {
      "cell_type": "code",
      "execution_count": 26,
      "metadata": {
        "id": "Xfp6IqecYFUm"
      },
      "outputs": [],
      "source": [
        "# load and plot the time series dataset\n",
        "from pandas import read_csv\n",
        "from matplotlib import pyplot\n",
        "# load dataset\n",
        "values = df3.values\n",
        "# plot dataset\n"
      ]
    },
    {
      "cell_type": "code",
      "execution_count": null,
      "metadata": {
        "id": "RGzSnM4gZyvL"
      },
      "outputs": [],
      "source": [
        "values"
      ]
    },
    {
      "cell_type": "code",
      "source": [
        "# walk-forward validation for univariate data\n",
        "def walk_forward_validation(data, n_test):\n",
        "\tpredictions = list()\n",
        "\t# split dataset\n",
        "\ttrain, test = train_test_split(data, n_test)\n",
        "\t# seed history with training dataset\n",
        "\thistory = [x for x in train]\n",
        "\t# step over each time-step in the test set\n",
        "\tfor i in range(len(test)):\n",
        "\t\t# split test row into input and output columns\n",
        "\t\ttestX, testy = test[i, :-1], test[i, -1]\n",
        "\t\t# fit model on history and make a prediction\n",
        "\t\tyhat = random_forest_forecast(history, testX)\n",
        "\t\t# store forecast in list of predictions\n",
        "\t\tpredictions.append(yhat)\n",
        "\t\t# add actual observation to history for the next loop\n",
        "\t\thistory.append(test[i])\n",
        "\t\t# summarize progress\n",
        "\t\tprint('>expected=%.3f, predicted=%.1f' % (testy, yhat))\n",
        "\t# estimate prediction error\n",
        "\terror = mean_absolute_error(test[:, -1], predictions)\n",
        "\treturn error, test[:, 1], predictions"
      ],
      "metadata": {
        "id": "72lgMIoRvb8V"
      },
      "execution_count": 28,
      "outputs": []
    },
    {
      "cell_type": "code",
      "execution_count": 29,
      "metadata": {
        "colab": {
          "base_uri": "https://localhost:8080/",
          "height": 502
        },
        "id": "N74Vcp4fYXA7",
        "outputId": "0c7e069d-821f-481a-b644-5f225f634aa6"
      },
      "outputs": [
        {
          "output_type": "stream",
          "name": "stdout",
          "text": [
            ">expected=376127683.000, predicted=376027200.7\n",
            ">expected=376188792.000, predicted=376094554.9\n",
            ">expected=376283883.000, predicted=376149143.9\n",
            ">expected=376361456.000, predicted=376236190.1\n",
            ">expected=376397434.000, predicted=376313653.7\n",
            ">expected=376418417.000, predicted=376368077.5\n",
            ">expected=376498576.000, predicted=376399168.1\n",
            ">expected=376555986.000, predicted=376462183.2\n",
            ">expected=376613773.000, predicted=376519242.8\n",
            ">expected=376672513.000, predicted=376581404.8\n",
            ">expected=377127587.000, predicted=376638506.9\n",
            ">expected=377160625.000, predicted=376946855.2\n",
            "MAE: 139211.9\n"
          ]
        },
        {
          "output_type": "display_data",
          "data": {
            "text/plain": [
              "<Figure size 432x288 with 1 Axes>"
            ],
            "image/png": "[encoded data removed]"
          },
          "metadata": {
            "needs_background": "light"
          }
        }
      ],
      "source": [
        "# transform the time series data into supervised learning\n",
        "data = series_to_supervised(values, n_in=6)\n",
        "mae, y, yhat = walk_forward_validation(data, 12)\n",
        "print('MAE: %.1f' % mae)\n",
        "# plot expected vs predicted\n",
        "pyplot.plot(y, label='Expected')\n",
        "pyplot.plot(yhat, label='Predicted')\n",
        "pyplot.legend()\n",
        "pyplot.show()"
      ]
    },
    {
      "cell_type": "code",
      "execution_count": 30,
      "metadata": {
        "colab": {
          "base_uri": "https://localhost:8080/"
        },
        "id": "I2GbQ0lzeuyk",
        "outputId": "0be9bdc2-a268-44c5-e487-da449435e057"
      },
      "outputs": [
        {
          "output_type": "stream",
          "name": "stdout",
          "text": [
            "Input: [3.76498576e+08 3.76555986e+08 3.76613773e+08 3.76672513e+08\n",
            " 3.77127587e+08 3.77160625e+08], Predicted: 377089829.728\n"
          ]
        }
      ],
      "source": [
        "\n",
        "# finalize model and make a prediction for monthly births with random forest\n",
        "from numpy import asarray\n",
        "from pandas import read_csv\n",
        "from pandas import DataFrame\n",
        "from pandas import concat\n",
        "from sklearn.ensemble import RandomForestRegressor\n",
        " \n",
        "# transform a time series dataset into a supervised learning dataset\n",
        "def series_to_supervised(data, n_in=1, n_out=1, dropnan=True):\n",
        "\tn_vars = 1 if type(data) is list else data.shape[1]\n",
        "\tdf = DataFrame(data)\n",
        "\tcols = list()\n",
        "\t# input sequence (t-n, ... t-1)\n",
        "\tfor i in range(n_in, 0, -1):\n",
        "\t\tcols.append(df.shift(i))\n",
        "\t# forecast sequence (t, t+1, ... t+n)\n",
        "\tfor i in range(0, n_out):\n",
        "\t\tcols.append(df.shift(-i))\n",
        "\t# put it all together\n",
        "\tagg = concat(cols, axis=1)\n",
        "\t# drop rows with NaN values\n",
        "\tif dropnan:\n",
        "\t\tagg.dropna(inplace=True)\n",
        "\treturn agg.values\n",
        " \n",
        "# load the dataset\n",
        "\n",
        "values = df3.values\n",
        "# transform the time series data into supervised learning\n",
        "train = series_to_supervised(values, n_in=6)\n",
        "# split into input and output columns\n",
        "trainX, trainy = train[:, :-1], train[:, -1]\n",
        "# fit model\n",
        "model = RandomForestRegressor(n_estimators=1000)\n",
        "model.fit(trainX, trainy)\n",
        "# construct an input for a new prediction\n",
        "row = values[-6:].flatten()\n",
        "# make a one-step prediction\n",
        "yhat = model.predict(asarray([row]))\n",
        "print('Input: %s, Predicted: %.3f' % (row, yhat[0]))"
      ]
    },
    {
      "cell_type": "code",
      "source": [
        "import numpy as np\n",
        "from sklearn import metrics"
      ],
      "metadata": {
        "id": "XB_hMwTmv5vW"
      },
      "execution_count": 31,
      "outputs": []
    }
  ],
  "metadata": {
    "colab": {
      "collapsed_sections": [],
      "name": "uni-varient-Randomforest-USa.ipynb",
      "provenance": []
    },
    "kernelspec": {
      "display_name": "Python 3",
      "name": "python3"
    },
    "language_info": {
      "name": "python"
    }
  },
  "nbformat": 4,
  "nbformat_minor": 0
}