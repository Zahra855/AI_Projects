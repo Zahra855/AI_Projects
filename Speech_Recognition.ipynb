{
  "nbformat": 4,
  "nbformat_minor": 0,
  "metadata": {
    "colab": {
      "provenance": []
    },
    "kernelspec": {
      "name": "python3",
      "display_name": "Python 3"
    },
    "language_info": {
      "name": "python"
    },
    "widgets": {
      "application/vnd.jupyter.widget-state+json": {
        "4dc49bee77174894a47f214128d66b30": {
          "model_module": "@jupyter-widgets/controls",
          "model_name": "HBoxModel",
          "state": {
            "_view_name": "HBoxView",
            "_dom_classes": [],
            "_model_name": "HBoxModel",
            "_view_module": "@jupyter-widgets/controls",
            "_model_module_version": "1.5.0",
            "_view_count": null,
            "_view_module_version": "1.5.0",
            "box_style": "",
            "layout": "IPY_MODEL_398f0f1269794a39b13c91024a9bc6ea",
            "_model_module": "@jupyter-widgets/controls",
            "children": [
              "IPY_MODEL_53d744b226d04abeb931f784e9cbadfe",
              "IPY_MODEL_844e28f4ae014a27aeb6b09030671f7b"
            ]
          },
          "model_module_version": "1.5.0"
        },
        "398f0f1269794a39b13c91024a9bc6ea": {
          "model_module": "@jupyter-widgets/base",
          "model_name": "LayoutModel",
          "state": {
            "_view_name": "LayoutView",
            "grid_template_rows": null,
            "right": null,
            "justify_content": null,
            "_view_module": "@jupyter-widgets/base",
            "overflow": null,
            "_model_module_version": "1.2.0",
            "_view_count": null,
            "flex_flow": null,
            "width": null,
            "min_width": null,
            "border": null,
            "align_items": null,
            "bottom": null,
            "_model_module": "@jupyter-widgets/base",
            "top": null,
            "grid_column": null,
            "overflow_y": null,
            "overflow_x": null,
            "grid_auto_flow": null,
            "grid_area": null,
            "grid_template_columns": null,
            "flex": null,
            "_model_name": "LayoutModel",
            "justify_items": null,
            "grid_row": null,
            "max_height": null,
            "align_content": null,
            "visibility": null,
            "align_self": null,
            "height": null,
            "min_height": null,
            "padding": null,
            "grid_auto_rows": null,
            "grid_gap": null,
            "max_width": null,
            "order": null,
            "_view_module_version": "1.2.0",
            "grid_template_areas": null,
            "object_position": null,
            "object_fit": null,
            "grid_auto_columns": null,
            "margin": null,
            "display": null,
            "left": null
          },
          "model_module_version": "1.2.0"
        },
        "53d744b226d04abeb931f784e9cbadfe": {
          "model_module": "@jupyter-widgets/controls",
          "model_name": "FloatProgressModel",
          "state": {
            "_view_name": "ProgressView",
            "style": "IPY_MODEL_cd42ba02b81647e8870bb8147c38f040",
            "_dom_classes": [],
            "description": "100%",
            "_model_name": "FloatProgressModel",
            "bar_style": "success",
            "max": 446,
            "_view_module": "@jupyter-widgets/controls",
            "_model_module_version": "1.5.0",
            "value": 446,
            "_view_count": null,
            "_view_module_version": "1.5.0",
            "orientation": "horizontal",
            "min": 0,
            "description_tooltip": null,
            "_model_module": "@jupyter-widgets/controls",
            "layout": "IPY_MODEL_101948a2132f4203b18e2ce27ded19e7"
          },
          "model_module_version": "1.5.0"
        },
        "844e28f4ae014a27aeb6b09030671f7b": {
          "model_module": "@jupyter-widgets/controls",
          "model_name": "HTMLModel",
          "state": {
            "_view_name": "HTMLView",
            "style": "IPY_MODEL_03c57d75781d46e1ba85296a46789031",
            "_dom_classes": [],
            "description": "",
            "_model_name": "HTMLModel",
            "placeholder": "​",
            "_view_module": "@jupyter-widgets/controls",
            "_model_module_version": "1.5.0",
            "value": " 446/446 [00:41&lt;00:00, 10.86ex/s]",
            "_view_count": null,
            "_view_module_version": "1.5.0",
            "description_tooltip": null,
            "_model_module": "@jupyter-widgets/controls",
            "layout": "IPY_MODEL_80ede9e77abd47449943af789c4688ac"
          },
          "model_module_version": "1.5.0"
        },
        "cd42ba02b81647e8870bb8147c38f040": {
          "model_module": "@jupyter-widgets/controls",
          "model_name": "ProgressStyleModel",
          "state": {
            "_view_name": "StyleView",
            "_model_name": "ProgressStyleModel",
            "description_width": "initial",
            "_view_module": "@jupyter-widgets/base",
            "_model_module_version": "1.5.0",
            "_view_count": null,
            "_view_module_version": "1.2.0",
            "bar_color": null,
            "_model_module": "@jupyter-widgets/controls"
          },
          "model_module_version": "1.5.0"
        },
        "101948a2132f4203b18e2ce27ded19e7": {
          "model_module": "@jupyter-widgets/base",
          "model_name": "LayoutModel",
          "state": {
            "_view_name": "LayoutView",
            "grid_template_rows": null,
            "right": null,
            "justify_content": null,
            "_view_module": "@jupyter-widgets/base",
            "overflow": null,
            "_model_module_version": "1.2.0",
            "_view_count": null,
            "flex_flow": null,
            "width": null,
            "min_width": null,
            "border": null,
            "align_items": null,
            "bottom": null,
            "_model_module": "@jupyter-widgets/base",
            "top": null,
            "grid_column": null,
            "overflow_y": null,
            "overflow_x": null,
            "grid_auto_flow": null,
            "grid_area": null,
            "grid_template_columns": null,
            "flex": null,
            "_model_name": "LayoutModel",
            "justify_items": null,
            "grid_row": null,
            "max_height": null,
            "align_content": null,
            "visibility": null,
            "align_self": null,
            "height": null,
            "min_height": null,
            "padding": null,
            "grid_auto_rows": null,
            "grid_gap": null,
            "max_width": null,
            "order": null,
            "_view_module_version": "1.2.0",
            "grid_template_areas": null,
            "object_position": null,
            "object_fit": null,
            "grid_auto_columns": null,
            "margin": null,
            "display": null,
            "left": null
          },
          "model_module_version": "1.2.0"
        },
        "03c57d75781d46e1ba85296a46789031": {
          "model_module": "@jupyter-widgets/controls",
          "model_name": "DescriptionStyleModel",
          "state": {
            "_view_name": "StyleView",
            "_model_name": "DescriptionStyleModel",
            "description_width": "",
            "_view_module": "@jupyter-widgets/base",
            "_model_module_version": "1.5.0",
            "_view_count": null,
            "_view_module_version": "1.2.0",
            "_model_module": "@jupyter-widgets/controls"
          },
          "model_module_version": "1.5.0"
        },
        "80ede9e77abd47449943af789c4688ac": {
          "model_module": "@jupyter-widgets/base",
          "model_name": "LayoutModel",
          "state": {
            "_view_name": "LayoutView",
            "grid_template_rows": null,
            "right": null,
            "justify_content": null,
            "_view_module": "@jupyter-widgets/base",
            "overflow": null,
            "_model_module_version": "1.2.0",
            "_view_count": null,
            "flex_flow": null,
            "width": null,
            "min_width": null,
            "border": null,
            "align_items": null,
            "bottom": null,
            "_model_module": "@jupyter-widgets/base",
            "top": null,
            "grid_column": null,
            "overflow_y": null,
            "overflow_x": null,
            "grid_auto_flow": null,
            "grid_area": null,
            "grid_template_columns": null,
            "flex": null,
            "_model_name": "LayoutModel",
            "justify_items": null,
            "grid_row": null,
            "max_height": null,
            "align_content": null,
            "visibility": null,
            "align_self": null,
            "height": null,
            "min_height": null,
            "padding": null,
            "grid_auto_rows": null,
            "grid_gap": null,
            "max_width": null,
            "order": null,
            "_view_module_version": "1.2.0",
            "grid_template_areas": null,
            "object_position": null,
            "object_fit": null,
            "grid_auto_columns": null,
            "margin": null,
            "display": null,
            "left": null
          },
          "model_module_version": "1.2.0"
        },
        "d24c20e137594b27b2e75bbce53f8ec9": {
          "model_module": "@jupyter-widgets/controls",
          "model_name": "HBoxModel",
          "state": {
            "_view_name": "HBoxView",
            "_dom_classes": [],
            "_model_name": "HBoxModel",
            "_view_module": "@jupyter-widgets/controls",
            "_model_module_version": "1.5.0",
            "_view_count": null,
            "_view_module_version": "1.5.0",
            "box_style": "",
            "layout": "IPY_MODEL_11af0659e3784209b8d94287447599bf",
            "_model_module": "@jupyter-widgets/controls",
            "children": [
              "IPY_MODEL_fb9b4ac1c34a460e926f86f567486dc5",
              "IPY_MODEL_8957ddf5aadb44d882b112af99de0250"
            ]
          },
          "model_module_version": "1.5.0"
        },
        "11af0659e3784209b8d94287447599bf": {
          "model_module": "@jupyter-widgets/base",
          "model_name": "LayoutModel",
          "state": {
            "_view_name": "LayoutView",
            "grid_template_rows": null,
            "right": null,
            "justify_content": null,
            "_view_module": "@jupyter-widgets/base",
            "overflow": null,
            "_model_module_version": "1.2.0",
            "_view_count": null,
            "flex_flow": null,
            "width": null,
            "min_width": null,
            "border": null,
            "align_items": null,
            "bottom": null,
            "_model_module": "@jupyter-widgets/base",
            "top": null,
            "grid_column": null,
            "overflow_y": null,
            "overflow_x": null,
            "grid_auto_flow": null,
            "grid_area": null,
            "grid_template_columns": null,
            "flex": null,
            "_model_name": "LayoutModel",
            "justify_items": null,
            "grid_row": null,
            "max_height": null,
            "align_content": null,
            "visibility": null,
            "align_self": null,
            "height": null,
            "min_height": null,
            "padding": null,
            "grid_auto_rows": null,
            "grid_gap": null,
            "max_width": null,
            "order": null,
            "_view_module_version": "1.2.0",
            "grid_template_areas": null,
            "object_position": null,
            "object_fit": null,
            "grid_auto_columns": null,
            "margin": null,
            "display": null,
            "left": null
          },
          "model_module_version": "1.2.0"
        },
        "fb9b4ac1c34a460e926f86f567486dc5": {
          "model_module": "@jupyter-widgets/controls",
          "model_name": "FloatProgressModel",
          "state": {
            "_view_name": "ProgressView",
            "style": "IPY_MODEL_5b50bedae332472cab204bc3fb21462b",
            "_dom_classes": [],
            "description": "100%",
            "_model_name": "FloatProgressModel",
            "bar_style": "success",
            "max": 169,
            "_view_module": "@jupyter-widgets/controls",
            "_model_module_version": "1.5.0",
            "value": 169,
            "_view_count": null,
            "_view_module_version": "1.5.0",
            "orientation": "horizontal",
            "min": 0,
            "description_tooltip": null,
            "_model_module": "@jupyter-widgets/controls",
            "layout": "IPY_MODEL_f73670f79343443c87faa193b5599dc2"
          },
          "model_module_version": "1.5.0"
        },
        "8957ddf5aadb44d882b112af99de0250": {
          "model_module": "@jupyter-widgets/controls",
          "model_name": "HTMLModel",
          "state": {
            "_view_name": "HTMLView",
            "style": "IPY_MODEL_d2a231d901c448faa8a099bf3e7f5d9a",
            "_dom_classes": [],
            "description": "",
            "_model_name": "HTMLModel",
            "placeholder": "​",
            "_view_module": "@jupyter-widgets/controls",
            "_model_module_version": "1.5.0",
            "value": " 169/169 [00:12&lt;00:00, 13.05ex/s]",
            "_view_count": null,
            "_view_module_version": "1.5.0",
            "description_tooltip": null,
            "_model_module": "@jupyter-widgets/controls",
            "layout": "IPY_MODEL_b8eb61a165af40ac99d686f9db1f6e30"
          },
          "model_module_version": "1.5.0"
        },
        "5b50bedae332472cab204bc3fb21462b": {
          "model_module": "@jupyter-widgets/controls",
          "model_name": "ProgressStyleModel",
          "state": {
            "_view_name": "StyleView",
            "_model_name": "ProgressStyleModel",
            "description_width": "initial",
            "_view_module": "@jupyter-widgets/base",
            "_model_module_version": "1.5.0",
            "_view_count": null,
            "_view_module_version": "1.2.0",
            "bar_color": null,
            "_model_module": "@jupyter-widgets/controls"
          },
          "model_module_version": "1.5.0"
        },
        "f73670f79343443c87faa193b5599dc2": {
          "model_module": "@jupyter-widgets/base",
          "model_name": "LayoutModel",
          "state": {
            "_view_name": "LayoutView",
            "grid_template_rows": null,
            "right": null,
            "justify_content": null,
            "_view_module": "@jupyter-widgets/base",
            "overflow": null,
            "_model_module_version": "1.2.0",
            "_view_count": null,
            "flex_flow": null,
            "width": null,
            "min_width": null,
            "border": null,
            "align_items": null,
            "bottom": null,
            "_model_module": "@jupyter-widgets/base",
            "top": null,
            "grid_column": null,
            "overflow_y": null,
            "overflow_x": null,
            "grid_auto_flow": null,
            "grid_area": null,
            "grid_template_columns": null,
            "flex": null,
            "_model_name": "LayoutModel",
            "justify_items": null,
            "grid_row": null,
            "max_height": null,
            "align_content": null,
            "visibility": null,
            "align_self": null,
            "height": null,
            "min_height": null,
            "padding": null,
            "grid_auto_rows": null,
            "grid_gap": null,
            "max_width": null,
            "order": null,
            "_view_module_version": "1.2.0",
            "grid_template_areas": null,
            "object_position": null,
            "object_fit": null,
            "grid_auto_columns": null,
            "margin": null,
            "display": null,
            "left": null
          },
          "model_module_version": "1.2.0"
        },
        "d2a231d901c448faa8a099bf3e7f5d9a": {
          "model_module": "@jupyter-widgets/controls",
          "model_name": "DescriptionStyleModel",
          "state": {
            "_view_name": "StyleView",
            "_model_name": "DescriptionStyleModel",
            "description_width": "",
            "_view_module": "@jupyter-widgets/base",
            "_model_module_version": "1.5.0",
            "_view_count": null,
            "_view_module_version": "1.2.0",
            "_model_module": "@jupyter-widgets/controls"
          },
          "model_module_version": "1.5.0"
        },
        "b8eb61a165af40ac99d686f9db1f6e30": {
          "model_module": "@jupyter-widgets/base",
          "model_name": "LayoutModel",
          "state": {
            "_view_name": "LayoutView",
            "grid_template_rows": null,
            "right": null,
            "justify_content": null,
            "_view_module": "@jupyter-widgets/base",
            "overflow": null,
            "_model_module_version": "1.2.0",
            "_view_count": null,
            "flex_flow": null,
            "width": null,
            "min_width": null,
            "border": null,
            "align_items": null,
            "bottom": null,
            "_model_module": "@jupyter-widgets/base",
            "top": null,
            "grid_column": null,
            "overflow_y": null,
            "overflow_x": null,
            "grid_auto_flow": null,
            "grid_area": null,
            "grid_template_columns": null,
            "flex": null,
            "_model_name": "LayoutModel",
            "justify_items": null,
            "grid_row": null,
            "max_height": null,
            "align_content": null,
            "visibility": null,
            "align_self": null,
            "height": null,
            "min_height": null,
            "padding": null,
            "grid_auto_rows": null,
            "grid_gap": null,
            "max_width": null,
            "order": null,
            "_view_module_version": "1.2.0",
            "grid_template_areas": null,
            "object_position": null,
            "object_fit": null,
            "grid_auto_columns": null,
            "margin": null,
            "display": null,
            "left": null
          },
          "model_module_version": "1.2.0"
        },
        "d46c4efe51f641f59ec7fa536ec61c06": {
          "model_module": "@jupyter-widgets/controls",
          "model_name": "HBoxModel",
          "state": {
            "_view_name": "HBoxView",
            "_dom_classes": [],
            "_model_name": "HBoxModel",
            "_view_module": "@jupyter-widgets/controls",
            "_model_module_version": "1.5.0",
            "_view_count": null,
            "_view_module_version": "1.5.0",
            "box_style": "",
            "layout": "IPY_MODEL_11c14dbda7874be9a8e9abce016a7250",
            "_model_module": "@jupyter-widgets/controls",
            "children": [
              "IPY_MODEL_452e891cc23442b9a2e6c9be2af200e1",
              "IPY_MODEL_46bcd554889a4b5c838560c9379a8650"
            ]
          },
          "model_module_version": "1.5.0"
        },
        "11c14dbda7874be9a8e9abce016a7250": {
          "model_module": "@jupyter-widgets/base",
          "model_name": "LayoutModel",
          "state": {
            "_view_name": "LayoutView",
            "grid_template_rows": null,
            "right": null,
            "justify_content": null,
            "_view_module": "@jupyter-widgets/base",
            "overflow": null,
            "_model_module_version": "1.2.0",
            "_view_count": null,
            "flex_flow": null,
            "width": null,
            "min_width": null,
            "border": null,
            "align_items": null,
            "bottom": null,
            "_model_module": "@jupyter-widgets/base",
            "top": null,
            "grid_column": null,
            "overflow_y": null,
            "overflow_x": null,
            "grid_auto_flow": null,
            "grid_area": null,
            "grid_template_columns": null,
            "flex": null,
            "_model_name": "LayoutModel",
            "justify_items": null,
            "grid_row": null,
            "max_height": null,
            "align_content": null,
            "visibility": null,
            "align_self": null,
            "height": null,
            "min_height": null,
            "padding": null,
            "grid_auto_rows": null,
            "grid_gap": null,
            "max_width": null,
            "order": null,
            "_view_module_version": "1.2.0",
            "grid_template_areas": null,
            "object_position": null,
            "object_fit": null,
            "grid_auto_columns": null,
            "margin": null,
            "display": null,
            "left": null
          },
          "model_module_version": "1.2.0"
        },
        "452e891cc23442b9a2e6c9be2af200e1": {
          "model_module": "@jupyter-widgets/controls",
          "model_name": "FloatProgressModel",
          "state": {
            "_view_name": "ProgressView",
            "style": "IPY_MODEL_e1fd88948e5a406db0cc254534eb9dbb",
            "_dom_classes": [],
            "description": "100%",
            "_model_name": "FloatProgressModel",
            "bar_style": "success",
            "max": 1,
            "_view_module": "@jupyter-widgets/controls",
            "_model_module_version": "1.5.0",
            "value": 1,
            "_view_count": null,
            "_view_module_version": "1.5.0",
            "orientation": "horizontal",
            "min": 0,
            "description_tooltip": null,
            "_model_module": "@jupyter-widgets/controls",
            "layout": "IPY_MODEL_e4dc69c889c14726b5e6e9e6ca551050"
          },
          "model_module_version": "1.5.0"
        },
        "46bcd554889a4b5c838560c9379a8650": {
          "model_module": "@jupyter-widgets/controls",
          "model_name": "HTMLModel",
          "state": {
            "_view_name": "HTMLView",
            "style": "IPY_MODEL_830226839650409fa83974a90d81ba53",
            "_dom_classes": [],
            "description": "",
            "_model_name": "HTMLModel",
            "placeholder": "​",
            "_view_module": "@jupyter-widgets/controls",
            "_model_module_version": "1.5.0",
            "value": " 1/1 [00:28&lt;00:00, 28.03s/ba]",
            "_view_count": null,
            "_view_module_version": "1.5.0",
            "description_tooltip": null,
            "_model_module": "@jupyter-widgets/controls",
            "layout": "IPY_MODEL_029744d1f8c2481c91644f6280a47ba1"
          },
          "model_module_version": "1.5.0"
        },
        "e1fd88948e5a406db0cc254534eb9dbb": {
          "model_module": "@jupyter-widgets/controls",
          "model_name": "ProgressStyleModel",
          "state": {
            "_view_name": "StyleView",
            "_model_name": "ProgressStyleModel",
            "description_width": "initial",
            "_view_module": "@jupyter-widgets/base",
            "_model_module_version": "1.5.0",
            "_view_count": null,
            "_view_module_version": "1.2.0",
            "bar_color": null,
            "_model_module": "@jupyter-widgets/controls"
          },
          "model_module_version": "1.5.0"
        },
        "e4dc69c889c14726b5e6e9e6ca551050": {
          "model_module": "@jupyter-widgets/base",
          "model_name": "LayoutModel",
          "state": {
            "_view_name": "LayoutView",
            "grid_template_rows": null,
            "right": null,
            "justify_content": null,
            "_view_module": "@jupyter-widgets/base",
            "overflow": null,
            "_model_module_version": "1.2.0",
            "_view_count": null,
            "flex_flow": null,
            "width": null,
            "min_width": null,
            "border": null,
            "align_items": null,
            "bottom": null,
            "_model_module": "@jupyter-widgets/base",
            "top": null,
            "grid_column": null,
            "overflow_y": null,
            "overflow_x": null,
            "grid_auto_flow": null,
            "grid_area": null,
            "grid_template_columns": null,
            "flex": null,
            "_model_name": "LayoutModel",
            "justify_items": null,
            "grid_row": null,
            "max_height": null,
            "align_content": null,
            "visibility": null,
            "align_self": null,
            "height": null,
            "min_height": null,
            "padding": null,
            "grid_auto_rows": null,
            "grid_gap": null,
            "max_width": null,
            "order": null,
            "_view_module_version": "1.2.0",
            "grid_template_areas": null,
            "object_position": null,
            "object_fit": null,
            "grid_auto_columns": null,
            "margin": null,
            "display": null,
            "left": null
          },
          "model_module_version": "1.2.0"
        },
        "830226839650409fa83974a90d81ba53": {
          "model_module": "@jupyter-widgets/controls",
          "model_name": "DescriptionStyleModel",
          "state": {
            "_view_name": "StyleView",
            "_model_name": "DescriptionStyleModel",
            "description_width": "",
            "_view_module": "@jupyter-widgets/base",
            "_model_module_version": "1.5.0",
            "_view_count": null,
            "_view_module_version": "1.2.0",
            "_model_module": "@jupyter-widgets/controls"
          },
          "model_module_version": "1.5.0"
        },
        "029744d1f8c2481c91644f6280a47ba1": {
          "model_module": "@jupyter-widgets/base",
          "model_name": "LayoutModel",
          "state": {
            "_view_name": "LayoutView",
            "grid_template_rows": null,
            "right": null,
            "justify_content": null,
            "_view_module": "@jupyter-widgets/base",
            "overflow": null,
            "_model_module_version": "1.2.0",
            "_view_count": null,
            "flex_flow": null,
            "width": null,
            "min_width": null,
            "border": null,
            "align_items": null,
            "bottom": null,
            "_model_module": "@jupyter-widgets/base",
            "top": null,
            "grid_column": null,
            "overflow_y": null,
            "overflow_x": null,
            "grid_auto_flow": null,
            "grid_area": null,
            "grid_template_columns": null,
            "flex": null,
            "_model_name": "LayoutModel",
            "justify_items": null,
            "grid_row": null,
            "max_height": null,
            "align_content": null,
            "visibility": null,
            "align_self": null,
            "height": null,
            "min_height": null,
            "padding": null,
            "grid_auto_rows": null,
            "grid_gap": null,
            "max_width": null,
            "order": null,
            "_view_module_version": "1.2.0",
            "grid_template_areas": null,
            "object_position": null,
            "object_fit": null,
            "grid_auto_columns": null,
            "margin": null,
            "display": null,
            "left": null
          },
          "model_module_version": "1.2.0"
        },
        "49c8c9d8335940e9b55259df4133d98e": {
          "model_module": "@jupyter-widgets/controls",
          "model_name": "HBoxModel",
          "state": {
            "_view_name": "HBoxView",
            "_dom_classes": [],
            "_model_name": "HBoxModel",
            "_view_module": "@jupyter-widgets/controls",
            "_model_module_version": "1.5.0",
            "_view_count": null,
            "_view_module_version": "1.5.0",
            "box_style": "",
            "layout": "IPY_MODEL_19079bb3bcd44beeb249201f10481f8a",
            "_model_module": "@jupyter-widgets/controls",
            "children": [
              "IPY_MODEL_982c8c71434846e297eaa994c1b2ff9d",
              "IPY_MODEL_4a35d68778b441b3a2adcf7d5f2eca0d"
            ]
          },
          "model_module_version": "1.5.0"
        },
        "19079bb3bcd44beeb249201f10481f8a": {
          "model_module": "@jupyter-widgets/base",
          "model_name": "LayoutModel",
          "state": {
            "_view_name": "LayoutView",
            "grid_template_rows": null,
            "right": null,
            "justify_content": null,
            "_view_module": "@jupyter-widgets/base",
            "overflow": null,
            "_model_module_version": "1.2.0",
            "_view_count": null,
            "flex_flow": null,
            "width": null,
            "min_width": null,
            "border": null,
            "align_items": null,
            "bottom": null,
            "_model_module": "@jupyter-widgets/base",
            "top": null,
            "grid_column": null,
            "overflow_y": null,
            "overflow_x": null,
            "grid_auto_flow": null,
            "grid_area": null,
            "grid_template_columns": null,
            "flex": null,
            "_model_name": "LayoutModel",
            "justify_items": null,
            "grid_row": null,
            "max_height": null,
            "align_content": null,
            "visibility": null,
            "align_self": null,
            "height": null,
            "min_height": null,
            "padding": null,
            "grid_auto_rows": null,
            "grid_gap": null,
            "max_width": null,
            "order": null,
            "_view_module_version": "1.2.0",
            "grid_template_areas": null,
            "object_position": null,
            "object_fit": null,
            "grid_auto_columns": null,
            "margin": null,
            "display": null,
            "left": null
          },
          "model_module_version": "1.2.0"
        },
        "982c8c71434846e297eaa994c1b2ff9d": {
          "model_module": "@jupyter-widgets/controls",
          "model_name": "FloatProgressModel",
          "state": {
            "_view_name": "ProgressView",
            "style": "IPY_MODEL_7edbd14c761d49ad8ab58c2f4b36512d",
            "_dom_classes": [],
            "description": "100%",
            "_model_name": "FloatProgressModel",
            "bar_style": "success",
            "max": 1,
            "_view_module": "@jupyter-widgets/controls",
            "_model_module_version": "1.5.0",
            "value": 1,
            "_view_count": null,
            "_view_module_version": "1.5.0",
            "orientation": "horizontal",
            "min": 0,
            "description_tooltip": null,
            "_model_module": "@jupyter-widgets/controls",
            "layout": "IPY_MODEL_6780affe6fb840569559922eb5606974"
          },
          "model_module_version": "1.5.0"
        },
        "4a35d68778b441b3a2adcf7d5f2eca0d": {
          "model_module": "@jupyter-widgets/controls",
          "model_name": "HTMLModel",
          "state": {
            "_view_name": "HTMLView",
            "style": "IPY_MODEL_b3302851561c44978984fb530d988ac7",
            "_dom_classes": [],
            "description": "",
            "_model_name": "HTMLModel",
            "placeholder": "​",
            "_view_module": "@jupyter-widgets/controls",
            "_model_module_version": "1.5.0",
            "value": " 1/1 [00:16&lt;00:00, 16.25s/ba]",
            "_view_count": null,
            "_view_module_version": "1.5.0",
            "description_tooltip": null,
            "_model_module": "@jupyter-widgets/controls",
            "layout": "IPY_MODEL_79e9ae2c1d65476f9f057447cdafa08b"
          },
          "model_module_version": "1.5.0"
        },
        "7edbd14c761d49ad8ab58c2f4b36512d": {
          "model_module": "@jupyter-widgets/controls",
          "model_name": "ProgressStyleModel",
          "state": {
            "_view_name": "StyleView",
            "_model_name": "ProgressStyleModel",
            "description_width": "initial",
            "_view_module": "@jupyter-widgets/base",
            "_model_module_version": "1.5.0",
            "_view_count": null,
            "_view_module_version": "1.2.0",
            "bar_color": null,
            "_model_module": "@jupyter-widgets/controls"
          },
          "model_module_version": "1.5.0"
        },
        "6780affe6fb840569559922eb5606974": {
          "model_module": "@jupyter-widgets/base",
          "model_name": "LayoutModel",
          "state": {
            "_view_name": "LayoutView",
            "grid_template_rows": null,
            "right": null,
            "justify_content": null,
            "_view_module": "@jupyter-widgets/base",
            "overflow": null,
            "_model_module_version": "1.2.0",
            "_view_count": null,
            "flex_flow": null,
            "width": null,
            "min_width": null,
            "border": null,
            "align_items": null,
            "bottom": null,
            "_model_module": "@jupyter-widgets/base",
            "top": null,
            "grid_column": null,
            "overflow_y": null,
            "overflow_x": null,
            "grid_auto_flow": null,
            "grid_area": null,
            "grid_template_columns": null,
            "flex": null,
            "_model_name": "LayoutModel",
            "justify_items": null,
            "grid_row": null,
            "max_height": null,
            "align_content": null,
            "visibility": null,
            "align_self": null,
            "height": null,
            "min_height": null,
            "padding": null,
            "grid_auto_rows": null,
            "grid_gap": null,
            "max_width": null,
            "order": null,
            "_view_module_version": "1.2.0",
            "grid_template_areas": null,
            "object_position": null,
            "object_fit": null,
            "grid_auto_columns": null,
            "margin": null,
            "display": null,
            "left": null
          },
          "model_module_version": "1.2.0"
        },
        "b3302851561c44978984fb530d988ac7": {
          "model_module": "@jupyter-widgets/controls",
          "model_name": "DescriptionStyleModel",
          "state": {
            "_view_name": "StyleView",
            "_model_name": "DescriptionStyleModel",
            "description_width": "",
            "_view_module": "@jupyter-widgets/base",
            "_model_module_version": "1.5.0",
            "_view_count": null,
            "_view_module_version": "1.2.0",
            "_model_module": "@jupyter-widgets/controls"
          },
          "model_module_version": "1.5.0"
        },
        "79e9ae2c1d65476f9f057447cdafa08b": {
          "model_module": "@jupyter-widgets/base",
          "model_name": "LayoutModel",
          "state": {
            "_view_name": "LayoutView",
            "grid_template_rows": null,
            "right": null,
            "justify_content": null,
            "_view_module": "@jupyter-widgets/base",
            "overflow": null,
            "_model_module_version": "1.2.0",
            "_view_count": null,
            "flex_flow": null,
            "width": null,
            "min_width": null,
            "border": null,
            "align_items": null,
            "bottom": null,
            "_model_module": "@jupyter-widgets/base",
            "top": null,
            "grid_column": null,
            "overflow_y": null,
            "overflow_x": null,
            "grid_auto_flow": null,
            "grid_area": null,
            "grid_template_columns": null,
            "flex": null,
            "_model_name": "LayoutModel",
            "justify_items": null,
            "grid_row": null,
            "max_height": null,
            "align_content": null,
            "visibility": null,
            "align_self": null,
            "height": null,
            "min_height": null,
            "padding": null,
            "grid_auto_rows": null,
            "grid_gap": null,
            "max_width": null,
            "order": null,
            "_view_module_version": "1.2.0",
            "grid_template_areas": null,
            "object_position": null,
            "object_fit": null,
            "grid_auto_columns": null,
            "margin": null,
            "display": null,
            "left": null
          },
          "model_module_version": "1.2.0"
        },
        "2f5a505e14d64ce1a756e0e1a8e1c218": {
          "model_module": "@jupyter-widgets/controls",
          "model_name": "HBoxModel",
          "state": {
            "_view_name": "HBoxView",
            "_dom_classes": [],
            "_model_name": "HBoxModel",
            "_view_module": "@jupyter-widgets/controls",
            "_model_module_version": "1.5.0",
            "_view_count": null,
            "_view_module_version": "1.5.0",
            "box_style": "",
            "layout": "IPY_MODEL_71f520cdef7f456aae2b321f36684561",
            "_model_module": "@jupyter-widgets/controls",
            "children": [
              "IPY_MODEL_06c105d0fdca438f95c5391f89ae7ebc",
              "IPY_MODEL_a75357aeeba947b49b3f1114eec76a86"
            ]
          },
          "model_module_version": "1.5.0"
        },
        "71f520cdef7f456aae2b321f36684561": {
          "model_module": "@jupyter-widgets/base",
          "model_name": "LayoutModel",
          "state": {
            "_view_name": "LayoutView",
            "grid_template_rows": null,
            "right": null,
            "justify_content": null,
            "_view_module": "@jupyter-widgets/base",
            "overflow": null,
            "_model_module_version": "1.2.0",
            "_view_count": null,
            "flex_flow": null,
            "width": null,
            "min_width": null,
            "border": null,
            "align_items": null,
            "bottom": null,
            "_model_module": "@jupyter-widgets/base",
            "top": null,
            "grid_column": null,
            "overflow_y": null,
            "overflow_x": null,
            "grid_auto_flow": null,
            "grid_area": null,
            "grid_template_columns": null,
            "flex": null,
            "_model_name": "LayoutModel",
            "justify_items": null,
            "grid_row": null,
            "max_height": null,
            "align_content": null,
            "visibility": null,
            "align_self": null,
            "height": null,
            "min_height": null,
            "padding": null,
            "grid_auto_rows": null,
            "grid_gap": null,
            "max_width": null,
            "order": null,
            "_view_module_version": "1.2.0",
            "grid_template_areas": null,
            "object_position": null,
            "object_fit": null,
            "grid_auto_columns": null,
            "margin": null,
            "display": null,
            "left": null
          },
          "model_module_version": "1.2.0"
        },
        "06c105d0fdca438f95c5391f89ae7ebc": {
          "model_module": "@jupyter-widgets/controls",
          "model_name": "FloatProgressModel",
          "state": {
            "_view_name": "ProgressView",
            "style": "IPY_MODEL_b8073f5d96dc4a4393efd042f51667bd",
            "_dom_classes": [],
            "description": "100%",
            "_model_name": "FloatProgressModel",
            "bar_style": "success",
            "max": 446,
            "_view_module": "@jupyter-widgets/controls",
            "_model_module_version": "1.5.0",
            "value": 446,
            "_view_count": null,
            "_view_module_version": "1.5.0",
            "orientation": "horizontal",
            "min": 0,
            "description_tooltip": null,
            "_model_module": "@jupyter-widgets/controls",
            "layout": "IPY_MODEL_81aedd765db84e6885160c1bc531232f"
          },
          "model_module_version": "1.5.0"
        },
        "a75357aeeba947b49b3f1114eec76a86": {
          "model_module": "@jupyter-widgets/controls",
          "model_name": "HTMLModel",
          "state": {
            "_view_name": "HTMLView",
            "style": "IPY_MODEL_9aab7968358849519a3222023e4d6283",
            "_dom_classes": [],
            "description": "",
            "_model_name": "HTMLModel",
            "placeholder": "​",
            "_view_module": "@jupyter-widgets/controls",
            "_model_module_version": "1.5.0",
            "value": " 446/446 [00:03&lt;00:00, 146.02ex/s]",
            "_view_count": null,
            "_view_module_version": "1.5.0",
            "description_tooltip": null,
            "_model_module": "@jupyter-widgets/controls",
            "layout": "IPY_MODEL_ae7960aff7d7411f955e3f69fec29ef5"
          },
          "model_module_version": "1.5.0"
        },
        "b8073f5d96dc4a4393efd042f51667bd": {
          "model_module": "@jupyter-widgets/controls",
          "model_name": "ProgressStyleModel",
          "state": {
            "_view_name": "StyleView",
            "_model_name": "ProgressStyleModel",
            "description_width": "initial",
            "_view_module": "@jupyter-widgets/base",
            "_model_module_version": "1.5.0",
            "_view_count": null,
            "_view_module_version": "1.2.0",
            "bar_color": null,
            "_model_module": "@jupyter-widgets/controls"
          },
          "model_module_version": "1.5.0"
        },
        "81aedd765db84e6885160c1bc531232f": {
          "model_module": "@jupyter-widgets/base",
          "model_name": "LayoutModel",
          "state": {
            "_view_name": "LayoutView",
            "grid_template_rows": null,
            "right": null,
            "justify_content": null,
            "_view_module": "@jupyter-widgets/base",
            "overflow": null,
            "_model_module_version": "1.2.0",
            "_view_count": null,
            "flex_flow": null,
            "width": null,
            "min_width": null,
            "border": null,
            "align_items": null,
            "bottom": null,
            "_model_module": "@jupyter-widgets/base",
            "top": null,
            "grid_column": null,
            "overflow_y": null,
            "overflow_x": null,
            "grid_auto_flow": null,
            "grid_area": null,
            "grid_template_columns": null,
            "flex": null,
            "_model_name": "LayoutModel",
            "justify_items": null,
            "grid_row": null,
            "max_height": null,
            "align_content": null,
            "visibility": null,
            "align_self": null,
            "height": null,
            "min_height": null,
            "padding": null,
            "grid_auto_rows": null,
            "grid_gap": null,
            "max_width": null,
            "order": null,
            "_view_module_version": "1.2.0",
            "grid_template_areas": null,
            "object_position": null,
            "object_fit": null,
            "grid_auto_columns": null,
            "margin": null,
            "display": null,
            "left": null
          },
          "model_module_version": "1.2.0"
        },
        "9aab7968358849519a3222023e4d6283": {
          "model_module": "@jupyter-widgets/controls",
          "model_name": "DescriptionStyleModel",
          "state": {
            "_view_name": "StyleView",
            "_model_name": "DescriptionStyleModel",
            "description_width": "",
            "_view_module": "@jupyter-widgets/base",
            "_model_module_version": "1.5.0",
            "_view_count": null,
            "_view_module_version": "1.2.0",
            "_model_module": "@jupyter-widgets/controls"
          },
          "model_module_version": "1.5.0"
        },
        "ae7960aff7d7411f955e3f69fec29ef5": {
          "model_module": "@jupyter-widgets/base",
          "model_name": "LayoutModel",
          "state": {
            "_view_name": "LayoutView",
            "grid_template_rows": null,
            "right": null,
            "justify_content": null,
            "_view_module": "@jupyter-widgets/base",
            "overflow": null,
            "_model_module_version": "1.2.0",
            "_view_count": null,
            "flex_flow": null,
            "width": null,
            "min_width": null,
            "border": null,
            "align_items": null,
            "bottom": null,
            "_model_module": "@jupyter-widgets/base",
            "top": null,
            "grid_column": null,
            "overflow_y": null,
            "overflow_x": null,
            "grid_auto_flow": null,
            "grid_area": null,
            "grid_template_columns": null,
            "flex": null,
            "_model_name": "LayoutModel",
            "justify_items": null,
            "grid_row": null,
            "max_height": null,
            "align_content": null,
            "visibility": null,
            "align_self": null,
            "height": null,
            "min_height": null,
            "padding": null,
            "grid_auto_rows": null,
            "grid_gap": null,
            "max_width": null,
            "order": null,
            "_view_module_version": "1.2.0",
            "grid_template_areas": null,
            "object_position": null,
            "object_fit": null,
            "grid_auto_columns": null,
            "margin": null,
            "display": null,
            "left": null
          },
          "model_module_version": "1.2.0"
        },
        "1b3d20074f874da1af1a5fa6739fdc7b": {
          "model_module": "@jupyter-widgets/controls",
          "model_name": "HBoxModel",
          "state": {
            "_view_name": "HBoxView",
            "_dom_classes": [],
            "_model_name": "HBoxModel",
            "_view_module": "@jupyter-widgets/controls",
            "_model_module_version": "1.5.0",
            "_view_count": null,
            "_view_module_version": "1.5.0",
            "box_style": "",
            "layout": "IPY_MODEL_cae47d74deac49699ea1128b5f813b10",
            "_model_module": "@jupyter-widgets/controls",
            "children": [
              "IPY_MODEL_2e060bf7d9524f699d42ea565989fffc",
              "IPY_MODEL_1ff0b30034694ec8b97790d0544fe2ef"
            ]
          },
          "model_module_version": "1.5.0"
        },
        "cae47d74deac49699ea1128b5f813b10": {
          "model_module": "@jupyter-widgets/base",
          "model_name": "LayoutModel",
          "state": {
            "_view_name": "LayoutView",
            "grid_template_rows": null,
            "right": null,
            "justify_content": null,
            "_view_module": "@jupyter-widgets/base",
            "overflow": null,
            "_model_module_version": "1.2.0",
            "_view_count": null,
            "flex_flow": null,
            "width": null,
            "min_width": null,
            "border": null,
            "align_items": null,
            "bottom": null,
            "_model_module": "@jupyter-widgets/base",
            "top": null,
            "grid_column": null,
            "overflow_y": null,
            "overflow_x": null,
            "grid_auto_flow": null,
            "grid_area": null,
            "grid_template_columns": null,
            "flex": null,
            "_model_name": "LayoutModel",
            "justify_items": null,
            "grid_row": null,
            "max_height": null,
            "align_content": null,
            "visibility": null,
            "align_self": null,
            "height": null,
            "min_height": null,
            "padding": null,
            "grid_auto_rows": null,
            "grid_gap": null,
            "max_width": null,
            "order": null,
            "_view_module_version": "1.2.0",
            "grid_template_areas": null,
            "object_position": null,
            "object_fit": null,
            "grid_auto_columns": null,
            "margin": null,
            "display": null,
            "left": null
          },
          "model_module_version": "1.2.0"
        },
        "2e060bf7d9524f699d42ea565989fffc": {
          "model_module": "@jupyter-widgets/controls",
          "model_name": "FloatProgressModel",
          "state": {
            "_view_name": "ProgressView",
            "style": "IPY_MODEL_c5a7be2241b34fc5b4a0fd10728527d5",
            "_dom_classes": [],
            "description": "100%",
            "_model_name": "FloatProgressModel",
            "bar_style": "success",
            "max": 169,
            "_view_module": "@jupyter-widgets/controls",
            "_model_module_version": "1.5.0",
            "value": 169,
            "_view_count": null,
            "_view_module_version": "1.5.0",
            "orientation": "horizontal",
            "min": 0,
            "description_tooltip": null,
            "_model_module": "@jupyter-widgets/controls",
            "layout": "IPY_MODEL_21eeebb1f74c488697196ba9b99fe6cf"
          },
          "model_module_version": "1.5.0"
        },
        "1ff0b30034694ec8b97790d0544fe2ef": {
          "model_module": "@jupyter-widgets/controls",
          "model_name": "HTMLModel",
          "state": {
            "_view_name": "HTMLView",
            "style": "IPY_MODEL_2d51e437b1ba454f9a60983c9181bc74",
            "_dom_classes": [],
            "description": "",
            "_model_name": "HTMLModel",
            "placeholder": "​",
            "_view_module": "@jupyter-widgets/controls",
            "_model_module_version": "1.5.0",
            "value": " 169/169 [01:16&lt;00:00,  2.21ex/s]",
            "_view_count": null,
            "_view_module_version": "1.5.0",
            "description_tooltip": null,
            "_model_module": "@jupyter-widgets/controls",
            "layout": "IPY_MODEL_db804b20a2ca49dd9cff4a61533206a9"
          },
          "model_module_version": "1.5.0"
        },
        "c5a7be2241b34fc5b4a0fd10728527d5": {
          "model_module": "@jupyter-widgets/controls",
          "model_name": "ProgressStyleModel",
          "state": {
            "_view_name": "StyleView",
            "_model_name": "ProgressStyleModel",
            "description_width": "initial",
            "_view_module": "@jupyter-widgets/base",
            "_model_module_version": "1.5.0",
            "_view_count": null,
            "_view_module_version": "1.2.0",
            "bar_color": null,
            "_model_module": "@jupyter-widgets/controls"
          },
          "model_module_version": "1.5.0"
        },
        "21eeebb1f74c488697196ba9b99fe6cf": {
          "model_module": "@jupyter-widgets/base",
          "model_name": "LayoutModel",
          "state": {
            "_view_name": "LayoutView",
            "grid_template_rows": null,
            "right": null,
            "justify_content": null,
            "_view_module": "@jupyter-widgets/base",
            "overflow": null,
            "_model_module_version": "1.2.0",
            "_view_count": null,
            "flex_flow": null,
            "width": null,
            "min_width": null,
            "border": null,
            "align_items": null,
            "bottom": null,
            "_model_module": "@jupyter-widgets/base",
            "top": null,
            "grid_column": null,
            "overflow_y": null,
            "overflow_x": null,
            "grid_auto_flow": null,
            "grid_area": null,
            "grid_template_columns": null,
            "flex": null,
            "_model_name": "LayoutModel",
            "justify_items": null,
            "grid_row": null,
            "max_height": null,
            "align_content": null,
            "visibility": null,
            "align_self": null,
            "height": null,
            "min_height": null,
            "padding": null,
            "grid_auto_rows": null,
            "grid_gap": null,
            "max_width": null,
            "order": null,
            "_view_module_version": "1.2.0",
            "grid_template_areas": null,
            "object_position": null,
            "object_fit": null,
            "grid_auto_columns": null,
            "margin": null,
            "display": null,
            "left": null
          },
          "model_module_version": "1.2.0"
        },
        "2d51e437b1ba454f9a60983c9181bc74": {
          "model_module": "@jupyter-widgets/controls",
          "model_name": "DescriptionStyleModel",
          "state": {
            "_view_name": "StyleView",
            "_model_name": "DescriptionStyleModel",
            "description_width": "",
            "_view_module": "@jupyter-widgets/base",
            "_model_module_version": "1.5.0",
            "_view_count": null,
            "_view_module_version": "1.2.0",
            "_model_module": "@jupyter-widgets/controls"
          },
          "model_module_version": "1.5.0"
        },
        "db804b20a2ca49dd9cff4a61533206a9": {
          "model_module": "@jupyter-widgets/base",
          "model_name": "LayoutModel",
          "state": {
            "_view_name": "LayoutView",
            "grid_template_rows": null,
            "right": null,
            "justify_content": null,
            "_view_module": "@jupyter-widgets/base",
            "overflow": null,
            "_model_module_version": "1.2.0",
            "_view_count": null,
            "flex_flow": null,
            "width": null,
            "min_width": null,
            "border": null,
            "align_items": null,
            "bottom": null,
            "_model_module": "@jupyter-widgets/base",
            "top": null,
            "grid_column": null,
            "overflow_y": null,
            "overflow_x": null,
            "grid_auto_flow": null,
            "grid_area": null,
            "grid_template_columns": null,
            "flex": null,
            "_model_name": "LayoutModel",
            "justify_items": null,
            "grid_row": null,
            "max_height": null,
            "align_content": null,
            "visibility": null,
            "align_self": null,
            "height": null,
            "min_height": null,
            "padding": null,
            "grid_auto_rows": null,
            "grid_gap": null,
            "max_width": null,
            "order": null,
            "_view_module_version": "1.2.0",
            "grid_template_areas": null,
            "object_position": null,
            "object_fit": null,
            "grid_auto_columns": null,
            "margin": null,
            "display": null,
            "left": null
          },
          "model_module_version": "1.2.0"
        },
        "a4cef8d0c7bd4ea1b5afef1cb942cec5": {
          "model_module": "@jupyter-widgets/controls",
          "model_name": "HBoxModel",
          "state": {
            "_view_name": "HBoxView",
            "_dom_classes": [],
            "_model_name": "HBoxModel",
            "_view_module": "@jupyter-widgets/controls",
            "_model_module_version": "1.5.0",
            "_view_count": null,
            "_view_module_version": "1.5.0",
            "box_style": "",
            "layout": "IPY_MODEL_e5301ee3716b4fdbb1c5566e39a83e5d",
            "_model_module": "@jupyter-widgets/controls",
            "children": [
              "IPY_MODEL_fdfab51b0ee549bfb1c1b59da6e7e081",
              "IPY_MODEL_a0aee3a80bd94e5cb16bcde4ea28c45f"
            ]
          },
          "model_module_version": "1.5.0"
        },
        "e5301ee3716b4fdbb1c5566e39a83e5d": {
          "model_module": "@jupyter-widgets/base",
          "model_name": "LayoutModel",
          "state": {
            "_view_name": "LayoutView",
            "grid_template_rows": null,
            "right": null,
            "justify_content": null,
            "_view_module": "@jupyter-widgets/base",
            "overflow": null,
            "_model_module_version": "1.2.0",
            "_view_count": null,
            "flex_flow": null,
            "width": null,
            "min_width": null,
            "border": null,
            "align_items": null,
            "bottom": null,
            "_model_module": "@jupyter-widgets/base",
            "top": null,
            "grid_column": null,
            "overflow_y": null,
            "overflow_x": null,
            "grid_auto_flow": null,
            "grid_area": null,
            "grid_template_columns": null,
            "flex": null,
            "_model_name": "LayoutModel",
            "justify_items": null,
            "grid_row": null,
            "max_height": null,
            "align_content": null,
            "visibility": null,
            "align_self": null,
            "height": null,
            "min_height": null,
            "padding": null,
            "grid_auto_rows": null,
            "grid_gap": null,
            "max_width": null,
            "order": null,
            "_view_module_version": "1.2.0",
            "grid_template_areas": null,
            "object_position": null,
            "object_fit": null,
            "grid_auto_columns": null,
            "margin": null,
            "display": null,
            "left": null
          },
          "model_module_version": "1.2.0"
        },
        "fdfab51b0ee549bfb1c1b59da6e7e081": {
          "model_module": "@jupyter-widgets/controls",
          "model_name": "FloatProgressModel",
          "state": {
            "_view_name": "ProgressView",
            "style": "IPY_MODEL_180e9039d0a34ce8b83d1221ab18603f",
            "_dom_classes": [],
            "description": "#0: 100%",
            "_model_name": "FloatProgressModel",
            "bar_style": "success",
            "max": 14,
            "_view_module": "@jupyter-widgets/controls",
            "_model_module_version": "1.5.0",
            "value": 14,
            "_view_count": null,
            "_view_module_version": "1.5.0",
            "orientation": "horizontal",
            "min": 0,
            "description_tooltip": null,
            "_model_module": "@jupyter-widgets/controls",
            "layout": "IPY_MODEL_d9ca5817339b4e44bcb65fa6caa91369"
          },
          "model_module_version": "1.5.0"
        },
        "a0aee3a80bd94e5cb16bcde4ea28c45f": {
          "model_module": "@jupyter-widgets/controls",
          "model_name": "HTMLModel",
          "state": {
            "_view_name": "HTMLView",
            "style": "IPY_MODEL_b50601f79ef4430cbdaa3dff43d8ad26",
            "_dom_classes": [],
            "description": "",
            "_model_name": "HTMLModel",
            "placeholder": "​",
            "_view_module": "@jupyter-widgets/controls",
            "_model_module_version": "1.5.0",
            "value": " 14/14 [00:11&lt;00:00,  1.18ba/s]",
            "_view_count": null,
            "_view_module_version": "1.5.0",
            "description_tooltip": null,
            "_model_module": "@jupyter-widgets/controls",
            "layout": "IPY_MODEL_f87a3f9a42cd43b9a72b6adf1d2d5a07"
          },
          "model_module_version": "1.5.0"
        },
        "180e9039d0a34ce8b83d1221ab18603f": {
          "model_module": "@jupyter-widgets/controls",
          "model_name": "ProgressStyleModel",
          "state": {
            "_view_name": "StyleView",
            "_model_name": "ProgressStyleModel",
            "description_width": "initial",
            "_view_module": "@jupyter-widgets/base",
            "_model_module_version": "1.5.0",
            "_view_count": null,
            "_view_module_version": "1.2.0",
            "bar_color": null,
            "_model_module": "@jupyter-widgets/controls"
          },
          "model_module_version": "1.5.0"
        },
        "d9ca5817339b4e44bcb65fa6caa91369": {
          "model_module": "@jupyter-widgets/base",
          "model_name": "LayoutModel",
          "state": {
            "_view_name": "LayoutView",
            "grid_template_rows": null,
            "right": null,
            "justify_content": null,
            "_view_module": "@jupyter-widgets/base",
            "overflow": null,
            "_model_module_version": "1.2.0",
            "_view_count": null,
            "flex_flow": null,
            "width": null,
            "min_width": null,
            "border": null,
            "align_items": null,
            "bottom": null,
            "_model_module": "@jupyter-widgets/base",
            "top": null,
            "grid_column": null,
            "overflow_y": null,
            "overflow_x": null,
            "grid_auto_flow": null,
            "grid_area": null,
            "grid_template_columns": null,
            "flex": null,
            "_model_name": "LayoutModel",
            "justify_items": null,
            "grid_row": null,
            "max_height": null,
            "align_content": null,
            "visibility": null,
            "align_self": null,
            "height": null,
            "min_height": null,
            "padding": null,
            "grid_auto_rows": null,
            "grid_gap": null,
            "max_width": null,
            "order": null,
            "_view_module_version": "1.2.0",
            "grid_template_areas": null,
            "object_position": null,
            "object_fit": null,
            "grid_auto_columns": null,
            "margin": null,
            "display": null,
            "left": null
          },
          "model_module_version": "1.2.0"
        },
        "b50601f79ef4430cbdaa3dff43d8ad26": {
          "model_module": "@jupyter-widgets/controls",
          "model_name": "DescriptionStyleModel",
          "state": {
            "_view_name": "StyleView",
            "_model_name": "DescriptionStyleModel",
            "description_width": "",
            "_view_module": "@jupyter-widgets/base",
            "_model_module_version": "1.5.0",
            "_view_count": null,
            "_view_module_version": "1.2.0",
            "_model_module": "@jupyter-widgets/controls"
          },
          "model_module_version": "1.5.0"
        },
        "f87a3f9a42cd43b9a72b6adf1d2d5a07": {
          "model_module": "@jupyter-widgets/base",
          "model_name": "LayoutModel",
          "state": {
            "_view_name": "LayoutView",
            "grid_template_rows": null,
            "right": null,
            "justify_content": null,
            "_view_module": "@jupyter-widgets/base",
            "overflow": null,
            "_model_module_version": "1.2.0",
            "_view_count": null,
            "flex_flow": null,
            "width": null,
            "min_width": null,
            "border": null,
            "align_items": null,
            "bottom": null,
            "_model_module": "@jupyter-widgets/base",
            "top": null,
            "grid_column": null,
            "overflow_y": null,
            "overflow_x": null,
            "grid_auto_flow": null,
            "grid_area": null,
            "grid_template_columns": null,
            "flex": null,
            "_model_name": "LayoutModel",
            "justify_items": null,
            "grid_row": null,
            "max_height": null,
            "align_content": null,
            "visibility": null,
            "align_self": null,
            "height": null,
            "min_height": null,
            "padding": null,
            "grid_auto_rows": null,
            "grid_gap": null,
            "max_width": null,
            "order": null,
            "_view_module_version": "1.2.0",
            "grid_template_areas": null,
            "object_position": null,
            "object_fit": null,
            "grid_auto_columns": null,
            "margin": null,
            "display": null,
            "left": null
          },
          "model_module_version": "1.2.0"
        },
        "6530b55003dc4565a52884f962a07d0d": {
          "model_module": "@jupyter-widgets/controls",
          "model_name": "HBoxModel",
          "state": {
            "_view_name": "HBoxView",
            "_dom_classes": [],
            "_model_name": "HBoxModel",
            "_view_module": "@jupyter-widgets/controls",
            "_model_module_version": "1.5.0",
            "_view_count": null,
            "_view_module_version": "1.5.0",
            "box_style": "",
            "layout": "IPY_MODEL_6ff471c23155400e8b5fbf34835af6ea",
            "_model_module": "@jupyter-widgets/controls",
            "children": [
              "IPY_MODEL_f83b3e36f48b44599f5de88bbf517ed1",
              "IPY_MODEL_7da2ae7e79774da2b875d063469d6a16"
            ]
          },
          "model_module_version": "1.5.0"
        },
        "6ff471c23155400e8b5fbf34835af6ea": {
          "model_module": "@jupyter-widgets/base",
          "model_name": "LayoutModel",
          "state": {
            "_view_name": "LayoutView",
            "grid_template_rows": null,
            "right": null,
            "justify_content": null,
            "_view_module": "@jupyter-widgets/base",
            "overflow": null,
            "_model_module_version": "1.2.0",
            "_view_count": null,
            "flex_flow": null,
            "width": null,
            "min_width": null,
            "border": null,
            "align_items": null,
            "bottom": null,
            "_model_module": "@jupyter-widgets/base",
            "top": null,
            "grid_column": null,
            "overflow_y": null,
            "overflow_x": null,
            "grid_auto_flow": null,
            "grid_area": null,
            "grid_template_columns": null,
            "flex": null,
            "_model_name": "LayoutModel",
            "justify_items": null,
            "grid_row": null,
            "max_height": null,
            "align_content": null,
            "visibility": null,
            "align_self": null,
            "height": null,
            "min_height": null,
            "padding": null,
            "grid_auto_rows": null,
            "grid_gap": null,
            "max_width": null,
            "order": null,
            "_view_module_version": "1.2.0",
            "grid_template_areas": null,
            "object_position": null,
            "object_fit": null,
            "grid_auto_columns": null,
            "margin": null,
            "display": null,
            "left": null
          },
          "model_module_version": "1.2.0"
        },
        "f83b3e36f48b44599f5de88bbf517ed1": {
          "model_module": "@jupyter-widgets/controls",
          "model_name": "FloatProgressModel",
          "state": {
            "_view_name": "ProgressView",
            "style": "IPY_MODEL_ad0dfb16404845b59ade26787dce730b",
            "_dom_classes": [],
            "description": "#1: 100%",
            "_model_name": "FloatProgressModel",
            "bar_style": "success",
            "max": 14,
            "_view_module": "@jupyter-widgets/controls",
            "_model_module_version": "1.5.0",
            "value": 14,
            "_view_count": null,
            "_view_module_version": "1.5.0",
            "orientation": "horizontal",
            "min": 0,
            "description_tooltip": null,
            "_model_module": "@jupyter-widgets/controls",
            "layout": "IPY_MODEL_0a56874ad024442da1dc86762c18e5bb"
          },
          "model_module_version": "1.5.0"
        },
        "7da2ae7e79774da2b875d063469d6a16": {
          "model_module": "@jupyter-widgets/controls",
          "model_name": "HTMLModel",
          "state": {
            "_view_name": "HTMLView",
            "style": "IPY_MODEL_9366508923a44ec9acc89feb82320d2b",
            "_dom_classes": [],
            "description": "",
            "_model_name": "HTMLModel",
            "placeholder": "​",
            "_view_module": "@jupyter-widgets/controls",
            "_model_module_version": "1.5.0",
            "value": " 14/14 [00:12&lt;00:00,  1.14ba/s]",
            "_view_count": null,
            "_view_module_version": "1.5.0",
            "description_tooltip": null,
            "_model_module": "@jupyter-widgets/controls",
            "layout": "IPY_MODEL_470d299a8b0443f68dc12ff6d8d979b7"
          },
          "model_module_version": "1.5.0"
        },
        "ad0dfb16404845b59ade26787dce730b": {
          "model_module": "@jupyter-widgets/controls",
          "model_name": "ProgressStyleModel",
          "state": {
            "_view_name": "StyleView",
            "_model_name": "ProgressStyleModel",
            "description_width": "initial",
            "_view_module": "@jupyter-widgets/base",
            "_model_module_version": "1.5.0",
            "_view_count": null,
            "_view_module_version": "1.2.0",
            "bar_color": null,
            "_model_module": "@jupyter-widgets/controls"
          },
          "model_module_version": "1.5.0"
        },
        "0a56874ad024442da1dc86762c18e5bb": {
          "model_module": "@jupyter-widgets/base",
          "model_name": "LayoutModel",
          "state": {
            "_view_name": "LayoutView",
            "grid_template_rows": null,
            "right": null,
            "justify_content": null,
            "_view_module": "@jupyter-widgets/base",
            "overflow": null,
            "_model_module_version": "1.2.0",
            "_view_count": null,
            "flex_flow": null,
            "width": null,
            "min_width": null,
            "border": null,
            "align_items": null,
            "bottom": null,
            "_model_module": "@jupyter-widgets/base",
            "top": null,
            "grid_column": null,
            "overflow_y": null,
            "overflow_x": null,
            "grid_auto_flow": null,
            "grid_area": null,
            "grid_template_columns": null,
            "flex": null,
            "_model_name": "LayoutModel",
            "justify_items": null,
            "grid_row": null,
            "max_height": null,
            "align_content": null,
            "visibility": null,
            "align_self": null,
            "height": null,
            "min_height": null,
            "padding": null,
            "grid_auto_rows": null,
            "grid_gap": null,
            "max_width": null,
            "order": null,
            "_view_module_version": "1.2.0",
            "grid_template_areas": null,
            "object_position": null,
            "object_fit": null,
            "grid_auto_columns": null,
            "margin": null,
            "display": null,
            "left": null
          },
          "model_module_version": "1.2.0"
        },
        "9366508923a44ec9acc89feb82320d2b": {
          "model_module": "@jupyter-widgets/controls",
          "model_name": "DescriptionStyleModel",
          "state": {
            "_view_name": "StyleView",
            "_model_name": "DescriptionStyleModel",
            "description_width": "",
            "_view_module": "@jupyter-widgets/base",
            "_model_module_version": "1.5.0",
            "_view_count": null,
            "_view_module_version": "1.2.0",
            "_model_module": "@jupyter-widgets/controls"
          },
          "model_module_version": "1.5.0"
        },
        "470d299a8b0443f68dc12ff6d8d979b7": {
          "model_module": "@jupyter-widgets/base",
          "model_name": "LayoutModel",
          "state": {
            "_view_name": "LayoutView",
            "grid_template_rows": null,
            "right": null,
            "justify_content": null,
            "_view_module": "@jupyter-widgets/base",
            "overflow": null,
            "_model_module_version": "1.2.0",
            "_view_count": null,
            "flex_flow": null,
            "width": null,
            "min_width": null,
            "border": null,
            "align_items": null,
            "bottom": null,
            "_model_module": "@jupyter-widgets/base",
            "top": null,
            "grid_column": null,
            "overflow_y": null,
            "overflow_x": null,
            "grid_auto_flow": null,
            "grid_area": null,
            "grid_template_columns": null,
            "flex": null,
            "_model_name": "LayoutModel",
            "justify_items": null,
            "grid_row": null,
            "max_height": null,
            "align_content": null,
            "visibility": null,
            "align_self": null,
            "height": null,
            "min_height": null,
            "padding": null,
            "grid_auto_rows": null,
            "grid_gap": null,
            "max_width": null,
            "order": null,
            "_view_module_version": "1.2.0",
            "grid_template_areas": null,
            "object_position": null,
            "object_fit": null,
            "grid_auto_columns": null,
            "margin": null,
            "display": null,
            "left": null
          },
          "model_module_version": "1.2.0"
        },
        "0bdd9b02d6da4c2d94b6b406641256d8": {
          "model_module": "@jupyter-widgets/controls",
          "model_name": "HBoxModel",
          "state": {
            "_view_name": "HBoxView",
            "_dom_classes": [],
            "_model_name": "HBoxModel",
            "_view_module": "@jupyter-widgets/controls",
            "_model_module_version": "1.5.0",
            "_view_count": null,
            "_view_module_version": "1.5.0",
            "box_style": "",
            "layout": "IPY_MODEL_c148db8191d64189af9e0214c3f85224",
            "_model_module": "@jupyter-widgets/controls",
            "children": [
              "IPY_MODEL_7d87bcc123bf4eb4b1261c9f9762f401",
              "IPY_MODEL_35b1d17050524d95a98ff275a1379a2a"
            ]
          },
          "model_module_version": "1.5.0"
        },
        "c148db8191d64189af9e0214c3f85224": {
          "model_module": "@jupyter-widgets/base",
          "model_name": "LayoutModel",
          "state": {
            "_view_name": "LayoutView",
            "grid_template_rows": null,
            "right": null,
            "justify_content": null,
            "_view_module": "@jupyter-widgets/base",
            "overflow": null,
            "_model_module_version": "1.2.0",
            "_view_count": null,
            "flex_flow": null,
            "width": null,
            "min_width": null,
            "border": null,
            "align_items": null,
            "bottom": null,
            "_model_module": "@jupyter-widgets/base",
            "top": null,
            "grid_column": null,
            "overflow_y": null,
            "overflow_x": null,
            "grid_auto_flow": null,
            "grid_area": null,
            "grid_template_columns": null,
            "flex": null,
            "_model_name": "LayoutModel",
            "justify_items": null,
            "grid_row": null,
            "max_height": null,
            "align_content": null,
            "visibility": null,
            "align_self": null,
            "height": null,
            "min_height": null,
            "padding": null,
            "grid_auto_rows": null,
            "grid_gap": null,
            "max_width": null,
            "order": null,
            "_view_module_version": "1.2.0",
            "grid_template_areas": null,
            "object_position": null,
            "object_fit": null,
            "grid_auto_columns": null,
            "margin": null,
            "display": null,
            "left": null
          },
          "model_module_version": "1.2.0"
        },
        "7d87bcc123bf4eb4b1261c9f9762f401": {
          "model_module": "@jupyter-widgets/controls",
          "model_name": "FloatProgressModel",
          "state": {
            "_view_name": "ProgressView",
            "style": "IPY_MODEL_658e35e8a94144b1afea76543625aa90",
            "_dom_classes": [],
            "description": "#2: 100%",
            "_model_name": "FloatProgressModel",
            "bar_style": "success",
            "max": 14,
            "_view_module": "@jupyter-widgets/controls",
            "_model_module_version": "1.5.0",
            "value": 14,
            "_view_count": null,
            "_view_module_version": "1.5.0",
            "orientation": "horizontal",
            "min": 0,
            "description_tooltip": null,
            "_model_module": "@jupyter-widgets/controls",
            "layout": "IPY_MODEL_1a414d3b78ae494c9cb89d2a56916823"
          },
          "model_module_version": "1.5.0"
        },
        "35b1d17050524d95a98ff275a1379a2a": {
          "model_module": "@jupyter-widgets/controls",
          "model_name": "HTMLModel",
          "state": {
            "_view_name": "HTMLView",
            "style": "IPY_MODEL_78799dbfaf4b450dbebafbf64393377a",
            "_dom_classes": [],
            "description": "",
            "_model_name": "HTMLModel",
            "placeholder": "​",
            "_view_module": "@jupyter-widgets/controls",
            "_model_module_version": "1.5.0",
            "value": " 14/14 [00:11&lt;00:00,  1.24ba/s]",
            "_view_count": null,
            "_view_module_version": "1.5.0",
            "description_tooltip": null,
            "_model_module": "@jupyter-widgets/controls",
            "layout": "IPY_MODEL_28172546ad0a43f8b73b7883aab1ff5d"
          },
          "model_module_version": "1.5.0"
        },
        "658e35e8a94144b1afea76543625aa90": {
          "model_module": "@jupyter-widgets/controls",
          "model_name": "ProgressStyleModel",
          "state": {
            "_view_name": "StyleView",
            "_model_name": "ProgressStyleModel",
            "description_width": "initial",
            "_view_module": "@jupyter-widgets/base",
            "_model_module_version": "1.5.0",
            "_view_count": null,
            "_view_module_version": "1.2.0",
            "bar_color": null,
            "_model_module": "@jupyter-widgets/controls"
          },
          "model_module_version": "1.5.0"
        },
        "1a414d3b78ae494c9cb89d2a56916823": {
          "model_module": "@jupyter-widgets/base",
          "model_name": "LayoutModel",
          "state": {
            "_view_name": "LayoutView",
            "grid_template_rows": null,
            "right": null,
            "justify_content": null,
            "_view_module": "@jupyter-widgets/base",
            "overflow": null,
            "_model_module_version": "1.2.0",
            "_view_count": null,
            "flex_flow": null,
            "width": null,
            "min_width": null,
            "border": null,
            "align_items": null,
            "bottom": null,
            "_model_module": "@jupyter-widgets/base",
            "top": null,
            "grid_column": null,
            "overflow_y": null,
            "overflow_x": null,
            "grid_auto_flow": null,
            "grid_area": null,
            "grid_template_columns": null,
            "flex": null,
            "_model_name": "LayoutModel",
            "justify_items": null,
            "grid_row": null,
            "max_height": null,
            "align_content": null,
            "visibility": null,
            "align_self": null,
            "height": null,
            "min_height": null,
            "padding": null,
            "grid_auto_rows": null,
            "grid_gap": null,
            "max_width": null,
            "order": null,
            "_view_module_version": "1.2.0",
            "grid_template_areas": null,
            "object_position": null,
            "object_fit": null,
            "grid_auto_columns": null,
            "margin": null,
            "display": null,
            "left": null
          },
          "model_module_version": "1.2.0"
        },
        "78799dbfaf4b450dbebafbf64393377a": {
          "model_module": "@jupyter-widgets/controls",
          "model_name": "DescriptionStyleModel",
          "state": {
            "_view_name": "StyleView",
            "_model_name": "DescriptionStyleModel",
            "description_width": "",
            "_view_module": "@jupyter-widgets/base",
            "_model_module_version": "1.5.0",
            "_view_count": null,
            "_view_module_version": "1.2.0",
            "_model_module": "@jupyter-widgets/controls"
          },
          "model_module_version": "1.5.0"
        },
        "28172546ad0a43f8b73b7883aab1ff5d": {
          "model_module": "@jupyter-widgets/base",
          "model_name": "LayoutModel",
          "state": {
            "_view_name": "LayoutView",
            "grid_template_rows": null,
            "right": null,
            "justify_content": null,
            "_view_module": "@jupyter-widgets/base",
            "overflow": null,
            "_model_module_version": "1.2.0",
            "_view_count": null,
            "flex_flow": null,
            "width": null,
            "min_width": null,
            "border": null,
            "align_items": null,
            "bottom": null,
            "_model_module": "@jupyter-widgets/base",
            "top": null,
            "grid_column": null,
            "overflow_y": null,
            "overflow_x": null,
            "grid_auto_flow": null,
            "grid_area": null,
            "grid_template_columns": null,
            "flex": null,
            "_model_name": "LayoutModel",
            "justify_items": null,
            "grid_row": null,
            "max_height": null,
            "align_content": null,
            "visibility": null,
            "align_self": null,
            "height": null,
            "min_height": null,
            "padding": null,
            "grid_auto_rows": null,
            "grid_gap": null,
            "max_width": null,
            "order": null,
            "_view_module_version": "1.2.0",
            "grid_template_areas": null,
            "object_position": null,
            "object_fit": null,
            "grid_auto_columns": null,
            "margin": null,
            "display": null,
            "left": null
          },
          "model_module_version": "1.2.0"
        },
        "6f6caddfd27b42b0876bffffe8758920": {
          "model_module": "@jupyter-widgets/controls",
          "model_name": "HBoxModel",
          "state": {
            "_view_name": "HBoxView",
            "_dom_classes": [],
            "_model_name": "HBoxModel",
            "_view_module": "@jupyter-widgets/controls",
            "_model_module_version": "1.5.0",
            "_view_count": null,
            "_view_module_version": "1.5.0",
            "box_style": "",
            "layout": "IPY_MODEL_e7113b9c721c4ad7bdc6d3c5f069ec03",
            "_model_module": "@jupyter-widgets/controls",
            "children": [
              "IPY_MODEL_360d8a6205024dfc89fe76307b51a68c",
              "IPY_MODEL_cede2a663f294e2896f32c9455cc8ce8"
            ]
          },
          "model_module_version": "1.5.0"
        },
        "e7113b9c721c4ad7bdc6d3c5f069ec03": {
          "model_module": "@jupyter-widgets/base",
          "model_name": "LayoutModel",
          "state": {
            "_view_name": "LayoutView",
            "grid_template_rows": null,
            "right": null,
            "justify_content": null,
            "_view_module": "@jupyter-widgets/base",
            "overflow": null,
            "_model_module_version": "1.2.0",
            "_view_count": null,
            "flex_flow": null,
            "width": null,
            "min_width": null,
            "border": null,
            "align_items": null,
            "bottom": null,
            "_model_module": "@jupyter-widgets/base",
            "top": null,
            "grid_column": null,
            "overflow_y": null,
            "overflow_x": null,
            "grid_auto_flow": null,
            "grid_area": null,
            "grid_template_columns": null,
            "flex": null,
            "_model_name": "LayoutModel",
            "justify_items": null,
            "grid_row": null,
            "max_height": null,
            "align_content": null,
            "visibility": null,
            "align_self": null,
            "height": null,
            "min_height": null,
            "padding": null,
            "grid_auto_rows": null,
            "grid_gap": null,
            "max_width": null,
            "order": null,
            "_view_module_version": "1.2.0",
            "grid_template_areas": null,
            "object_position": null,
            "object_fit": null,
            "grid_auto_columns": null,
            "margin": null,
            "display": null,
            "left": null
          },
          "model_module_version": "1.2.0"
        },
        "360d8a6205024dfc89fe76307b51a68c": {
          "model_module": "@jupyter-widgets/controls",
          "model_name": "FloatProgressModel",
          "state": {
            "_view_name": "ProgressView",
            "style": "IPY_MODEL_a6f9a1dfa0394dc0b4121110e4916e77",
            "_dom_classes": [],
            "description": "#3: 100%",
            "_model_name": "FloatProgressModel",
            "bar_style": "success",
            "max": 14,
            "_view_module": "@jupyter-widgets/controls",
            "_model_module_version": "1.5.0",
            "value": 14,
            "_view_count": null,
            "_view_module_version": "1.5.0",
            "orientation": "horizontal",
            "min": 0,
            "description_tooltip": null,
            "_model_module": "@jupyter-widgets/controls",
            "layout": "IPY_MODEL_ac6d8700c79a4318a3c37e3ed1e0f2f7"
          },
          "model_module_version": "1.5.0"
        },
        "cede2a663f294e2896f32c9455cc8ce8": {
          "model_module": "@jupyter-widgets/controls",
          "model_name": "HTMLModel",
          "state": {
            "_view_name": "HTMLView",
            "style": "IPY_MODEL_f97e1d65af3f45ae80815c3009da1be8",
            "_dom_classes": [],
            "description": "",
            "_model_name": "HTMLModel",
            "placeholder": "​",
            "_view_module": "@jupyter-widgets/controls",
            "_model_module_version": "1.5.0",
            "value": " 14/14 [00:10&lt;00:00,  1.38ba/s]",
            "_view_count": null,
            "_view_module_version": "1.5.0",
            "description_tooltip": null,
            "_model_module": "@jupyter-widgets/controls",
            "layout": "IPY_MODEL_bb5a9f2c9fc64a38a4813918a4a4f807"
          },
          "model_module_version": "1.5.0"
        },
        "a6f9a1dfa0394dc0b4121110e4916e77": {
          "model_module": "@jupyter-widgets/controls",
          "model_name": "ProgressStyleModel",
          "state": {
            "_view_name": "StyleView",
            "_model_name": "ProgressStyleModel",
            "description_width": "initial",
            "_view_module": "@jupyter-widgets/base",
            "_model_module_version": "1.5.0",
            "_view_count": null,
            "_view_module_version": "1.2.0",
            "bar_color": null,
            "_model_module": "@jupyter-widgets/controls"
          },
          "model_module_version": "1.5.0"
        },
        "ac6d8700c79a4318a3c37e3ed1e0f2f7": {
          "model_module": "@jupyter-widgets/base",
          "model_name": "LayoutModel",
          "state": {
            "_view_name": "LayoutView",
            "grid_template_rows": null,
            "right": null,
            "justify_content": null,
            "_view_module": "@jupyter-widgets/base",
            "overflow": null,
            "_model_module_version": "1.2.0",
            "_view_count": null,
            "flex_flow": null,
            "width": null,
            "min_width": null,
            "border": null,
            "align_items": null,
            "bottom": null,
            "_model_module": "@jupyter-widgets/base",
            "top": null,
            "grid_column": null,
            "overflow_y": null,
            "overflow_x": null,
            "grid_auto_flow": null,
            "grid_area": null,
            "grid_template_columns": null,
            "flex": null,
            "_model_name": "LayoutModel",
            "justify_items": null,
            "grid_row": null,
            "max_height": null,
            "align_content": null,
            "visibility": null,
            "align_self": null,
            "height": null,
            "min_height": null,
            "padding": null,
            "grid_auto_rows": null,
            "grid_gap": null,
            "max_width": null,
            "order": null,
            "_view_module_version": "1.2.0",
            "grid_template_areas": null,
            "object_position": null,
            "object_fit": null,
            "grid_auto_columns": null,
            "margin": null,
            "display": null,
            "left": null
          },
          "model_module_version": "1.2.0"
        },
        "f97e1d65af3f45ae80815c3009da1be8": {
          "model_module": "@jupyter-widgets/controls",
          "model_name": "DescriptionStyleModel",
          "state": {
            "_view_name": "StyleView",
            "_model_name": "DescriptionStyleModel",
            "description_width": "",
            "_view_module": "@jupyter-widgets/base",
            "_model_module_version": "1.5.0",
            "_view_count": null,
            "_view_module_version": "1.2.0",
            "_model_module": "@jupyter-widgets/controls"
          },
          "model_module_version": "1.5.0"
        },
        "bb5a9f2c9fc64a38a4813918a4a4f807": {
          "model_module": "@jupyter-widgets/base",
          "model_name": "LayoutModel",
          "state": {
            "_view_name": "LayoutView",
            "grid_template_rows": null,
            "right": null,
            "justify_content": null,
            "_view_module": "@jupyter-widgets/base",
            "overflow": null,
            "_model_module_version": "1.2.0",
            "_view_count": null,
            "flex_flow": null,
            "width": null,
            "min_width": null,
            "border": null,
            "align_items": null,
            "bottom": null,
            "_model_module": "@jupyter-widgets/base",
            "top": null,
            "grid_column": null,
            "overflow_y": null,
            "overflow_x": null,
            "grid_auto_flow": null,
            "grid_area": null,
            "grid_template_columns": null,
            "flex": null,
            "_model_name": "LayoutModel",
            "justify_items": null,
            "grid_row": null,
            "max_height": null,
            "align_content": null,
            "visibility": null,
            "align_self": null,
            "height": null,
            "min_height": null,
            "padding": null,
            "grid_auto_rows": null,
            "grid_gap": null,
            "max_width": null,
            "order": null,
            "_view_module_version": "1.2.0",
            "grid_template_areas": null,
            "object_position": null,
            "object_fit": null,
            "grid_auto_columns": null,
            "margin": null,
            "display": null,
            "left": null
          },
          "model_module_version": "1.2.0"
        },
        "a57a5ee13d2c49e5be0b170a3aeee5ee": {
          "model_module": "@jupyter-widgets/controls",
          "model_name": "HBoxModel",
          "state": {
            "_view_name": "HBoxView",
            "_dom_classes": [],
            "_model_name": "HBoxModel",
            "_view_module": "@jupyter-widgets/controls",
            "_model_module_version": "1.5.0",
            "_view_count": null,
            "_view_module_version": "1.5.0",
            "box_style": "",
            "layout": "IPY_MODEL_73eb01745c4b4612acb46feab9fd0b59",
            "_model_module": "@jupyter-widgets/controls",
            "children": [
              "IPY_MODEL_42eb79d66e6b459eb2692598f3b8770f",
              "IPY_MODEL_fa8e5e86889d485a99491145e0e250ee"
            ]
          },
          "model_module_version": "1.5.0"
        },
        "73eb01745c4b4612acb46feab9fd0b59": {
          "model_module": "@jupyter-widgets/base",
          "model_name": "LayoutModel",
          "state": {
            "_view_name": "LayoutView",
            "grid_template_rows": null,
            "right": null,
            "justify_content": null,
            "_view_module": "@jupyter-widgets/base",
            "overflow": null,
            "_model_module_version": "1.2.0",
            "_view_count": null,
            "flex_flow": null,
            "width": null,
            "min_width": null,
            "border": null,
            "align_items": null,
            "bottom": null,
            "_model_module": "@jupyter-widgets/base",
            "top": null,
            "grid_column": null,
            "overflow_y": null,
            "overflow_x": null,
            "grid_auto_flow": null,
            "grid_area": null,
            "grid_template_columns": null,
            "flex": null,
            "_model_name": "LayoutModel",
            "justify_items": null,
            "grid_row": null,
            "max_height": null,
            "align_content": null,
            "visibility": null,
            "align_self": null,
            "height": null,
            "min_height": null,
            "padding": null,
            "grid_auto_rows": null,
            "grid_gap": null,
            "max_width": null,
            "order": null,
            "_view_module_version": "1.2.0",
            "grid_template_areas": null,
            "object_position": null,
            "object_fit": null,
            "grid_auto_columns": null,
            "margin": null,
            "display": null,
            "left": null
          },
          "model_module_version": "1.2.0"
        },
        "42eb79d66e6b459eb2692598f3b8770f": {
          "model_module": "@jupyter-widgets/controls",
          "model_name": "FloatProgressModel",
          "state": {
            "_view_name": "ProgressView",
            "style": "IPY_MODEL_6c500ba4780c4a0fa09cf7aef9df7e51",
            "_dom_classes": [],
            "description": "#0: 100%",
            "_model_name": "FloatProgressModel",
            "bar_style": "success",
            "max": 6,
            "_view_module": "@jupyter-widgets/controls",
            "_model_module_version": "1.5.0",
            "value": 6,
            "_view_count": null,
            "_view_module_version": "1.5.0",
            "orientation": "horizontal",
            "min": 0,
            "description_tooltip": null,
            "_model_module": "@jupyter-widgets/controls",
            "layout": "IPY_MODEL_bbd496f024614ddc90f5ab829abcbd64"
          },
          "model_module_version": "1.5.0"
        },
        "fa8e5e86889d485a99491145e0e250ee": {
          "model_module": "@jupyter-widgets/controls",
          "model_name": "HTMLModel",
          "state": {
            "_view_name": "HTMLView",
            "style": "IPY_MODEL_5859c279dc9d4775adf884746293aed7",
            "_dom_classes": [],
            "description": "",
            "_model_name": "HTMLModel",
            "placeholder": "​",
            "_view_module": "@jupyter-widgets/controls",
            "_model_module_version": "1.5.0",
            "value": " 6/6 [00:06&lt;00:00,  1.02s/ba]",
            "_view_count": null,
            "_view_module_version": "1.5.0",
            "description_tooltip": null,
            "_model_module": "@jupyter-widgets/controls",
            "layout": "IPY_MODEL_e886e5dfb555412c9d0b6451d4b5bc36"
          },
          "model_module_version": "1.5.0"
        },
        "6c500ba4780c4a0fa09cf7aef9df7e51": {
          "model_module": "@jupyter-widgets/controls",
          "model_name": "ProgressStyleModel",
          "state": {
            "_view_name": "StyleView",
            "_model_name": "ProgressStyleModel",
            "description_width": "initial",
            "_view_module": "@jupyter-widgets/base",
            "_model_module_version": "1.5.0",
            "_view_count": null,
            "_view_module_version": "1.2.0",
            "bar_color": null,
            "_model_module": "@jupyter-widgets/controls"
          },
          "model_module_version": "1.5.0"
        },
        "bbd496f024614ddc90f5ab829abcbd64": {
          "model_module": "@jupyter-widgets/base",
          "model_name": "LayoutModel",
          "state": {
            "_view_name": "LayoutView",
            "grid_template_rows": null,
            "right": null,
            "justify_content": null,
            "_view_module": "@jupyter-widgets/base",
            "overflow": null,
            "_model_module_version": "1.2.0",
            "_view_count": null,
            "flex_flow": null,
            "width": null,
            "min_width": null,
            "border": null,
            "align_items": null,
            "bottom": null,
            "_model_module": "@jupyter-widgets/base",
            "top": null,
            "grid_column": null,
            "overflow_y": null,
            "overflow_x": null,
            "grid_auto_flow": null,
            "grid_area": null,
            "grid_template_columns": null,
            "flex": null,
            "_model_name": "LayoutModel",
            "justify_items": null,
            "grid_row": null,
            "max_height": null,
            "align_content": null,
            "visibility": null,
            "align_self": null,
            "height": null,
            "min_height": null,
            "padding": null,
            "grid_auto_rows": null,
            "grid_gap": null,
            "max_width": null,
            "order": null,
            "_view_module_version": "1.2.0",
            "grid_template_areas": null,
            "object_position": null,
            "object_fit": null,
            "grid_auto_columns": null,
            "margin": null,
            "display": null,
            "left": null
          },
          "model_module_version": "1.2.0"
        },
        "5859c279dc9d4775adf884746293aed7": {
          "model_module": "@jupyter-widgets/controls",
          "model_name": "DescriptionStyleModel",
          "state": {
            "_view_name": "StyleView",
            "_model_name": "DescriptionStyleModel",
            "description_width": "",
            "_view_module": "@jupyter-widgets/base",
            "_model_module_version": "1.5.0",
            "_view_count": null,
            "_view_module_version": "1.2.0",
            "_model_module": "@jupyter-widgets/controls"
          },
          "model_module_version": "1.5.0"
        },
        "e886e5dfb555412c9d0b6451d4b5bc36": {
          "model_module": "@jupyter-widgets/base",
          "model_name": "LayoutModel",
          "state": {
            "_view_name": "LayoutView",
            "grid_template_rows": null,
            "right": null,
            "justify_content": null,
            "_view_module": "@jupyter-widgets/base",
            "overflow": null,
            "_model_module_version": "1.2.0",
            "_view_count": null,
            "flex_flow": null,
            "width": null,
            "min_width": null,
            "border": null,
            "align_items": null,
            "bottom": null,
            "_model_module": "@jupyter-widgets/base",
            "top": null,
            "grid_column": null,
            "overflow_y": null,
            "overflow_x": null,
            "grid_auto_flow": null,
            "grid_area": null,
            "grid_template_columns": null,
            "flex": null,
            "_model_name": "LayoutModel",
            "justify_items": null,
            "grid_row": null,
            "max_height": null,
            "align_content": null,
            "visibility": null,
            "align_self": null,
            "height": null,
            "min_height": null,
            "padding": null,
            "grid_auto_rows": null,
            "grid_gap": null,
            "max_width": null,
            "order": null,
            "_view_module_version": "1.2.0",
            "grid_template_areas": null,
            "object_position": null,
            "object_fit": null,
            "grid_auto_columns": null,
            "margin": null,
            "display": null,
            "left": null
          },
          "model_module_version": "1.2.0"
        },
        "f1f3757a23d64ef2a22931f05f4261cb": {
          "model_module": "@jupyter-widgets/controls",
          "model_name": "HBoxModel",
          "state": {
            "_view_name": "HBoxView",
            "_dom_classes": [],
            "_model_name": "HBoxModel",
            "_view_module": "@jupyter-widgets/controls",
            "_model_module_version": "1.5.0",
            "_view_count": null,
            "_view_module_version": "1.5.0",
            "box_style": "",
            "layout": "IPY_MODEL_b5861778878e4eb1832792cab86190bc",
            "_model_module": "@jupyter-widgets/controls",
            "children": [
              "IPY_MODEL_a34c090054384044b97c5d206212ac7b",
              "IPY_MODEL_f4fa8ee4252e49149fbd7077c52bfb91"
            ]
          },
          "model_module_version": "1.5.0"
        },
        "b5861778878e4eb1832792cab86190bc": {
          "model_module": "@jupyter-widgets/base",
          "model_name": "LayoutModel",
          "state": {
            "_view_name": "LayoutView",
            "grid_template_rows": null,
            "right": null,
            "justify_content": null,
            "_view_module": "@jupyter-widgets/base",
            "overflow": null,
            "_model_module_version": "1.2.0",
            "_view_count": null,
            "flex_flow": null,
            "width": null,
            "min_width": null,
            "border": null,
            "align_items": null,
            "bottom": null,
            "_model_module": "@jupyter-widgets/base",
            "top": null,
            "grid_column": null,
            "overflow_y": null,
            "overflow_x": null,
            "grid_auto_flow": null,
            "grid_area": null,
            "grid_template_columns": null,
            "flex": null,
            "_model_name": "LayoutModel",
            "justify_items": null,
            "grid_row": null,
            "max_height": null,
            "align_content": null,
            "visibility": null,
            "align_self": null,
            "height": null,
            "min_height": null,
            "padding": null,
            "grid_auto_rows": null,
            "grid_gap": null,
            "max_width": null,
            "order": null,
            "_view_module_version": "1.2.0",
            "grid_template_areas": null,
            "object_position": null,
            "object_fit": null,
            "grid_auto_columns": null,
            "margin": null,
            "display": null,
            "left": null
          },
          "model_module_version": "1.2.0"
        },
        "a34c090054384044b97c5d206212ac7b": {
          "model_module": "@jupyter-widgets/controls",
          "model_name": "FloatProgressModel",
          "state": {
            "_view_name": "ProgressView",
            "style": "IPY_MODEL_002c5f38ee074ef0a4a4295c0a1d2c10",
            "_dom_classes": [],
            "description": "#1: 100%",
            "_model_name": "FloatProgressModel",
            "bar_style": "success",
            "max": 6,
            "_view_module": "@jupyter-widgets/controls",
            "_model_module_version": "1.5.0",
            "value": 6,
            "_view_count": null,
            "_view_module_version": "1.5.0",
            "orientation": "horizontal",
            "min": 0,
            "description_tooltip": null,
            "_model_module": "@jupyter-widgets/controls",
            "layout": "IPY_MODEL_f311a3fbc801400bab83313892f0bbbe"
          },
          "model_module_version": "1.5.0"
        },
        "f4fa8ee4252e49149fbd7077c52bfb91": {
          "model_module": "@jupyter-widgets/controls",
          "model_name": "HTMLModel",
          "state": {
            "_view_name": "HTMLView",
            "style": "IPY_MODEL_a6ba08520e6a42eb9e228d82a991680f",
            "_dom_classes": [],
            "description": "",
            "_model_name": "HTMLModel",
            "placeholder": "​",
            "_view_module": "@jupyter-widgets/controls",
            "_model_module_version": "1.5.0",
            "value": " 6/6 [00:06&lt;00:00,  1.13s/ba]",
            "_view_count": null,
            "_view_module_version": "1.5.0",
            "description_tooltip": null,
            "_model_module": "@jupyter-widgets/controls",
            "layout": "IPY_MODEL_9f94ece447cc4af486f880ec1c01b05a"
          },
          "model_module_version": "1.5.0"
        },
        "002c5f38ee074ef0a4a4295c0a1d2c10": {
          "model_module": "@jupyter-widgets/controls",
          "model_name": "ProgressStyleModel",
          "state": {
            "_view_name": "StyleView",
            "_model_name": "ProgressStyleModel",
            "description_width": "initial",
            "_view_module": "@jupyter-widgets/base",
            "_model_module_version": "1.5.0",
            "_view_count": null,
            "_view_module_version": "1.2.0",
            "bar_color": null,
            "_model_module": "@jupyter-widgets/controls"
          },
          "model_module_version": "1.5.0"
        },
        "f311a3fbc801400bab83313892f0bbbe": {
          "model_module": "@jupyter-widgets/base",
          "model_name": "LayoutModel",
          "state": {
            "_view_name": "LayoutView",
            "grid_template_rows": null,
            "right": null,
            "justify_content": null,
            "_view_module": "@jupyter-widgets/base",
            "overflow": null,
            "_model_module_version": "1.2.0",
            "_view_count": null,
            "flex_flow": null,
            "width": null,
            "min_width": null,
            "border": null,
            "align_items": null,
            "bottom": null,
            "_model_module": "@jupyter-widgets/base",
            "top": null,
            "grid_column": null,
            "overflow_y": null,
            "overflow_x": null,
            "grid_auto_flow": null,
            "grid_area": null,
            "grid_template_columns": null,
            "flex": null,
            "_model_name": "LayoutModel",
            "justify_items": null,
            "grid_row": null,
            "max_height": null,
            "align_content": null,
            "visibility": null,
            "align_self": null,
            "height": null,
            "min_height": null,
            "padding": null,
            "grid_auto_rows": null,
            "grid_gap": null,
            "max_width": null,
            "order": null,
            "_view_module_version": "1.2.0",
            "grid_template_areas": null,
            "object_position": null,
            "object_fit": null,
            "grid_auto_columns": null,
            "margin": null,
            "display": null,
            "left": null
          },
          "model_module_version": "1.2.0"
        },
        "a6ba08520e6a42eb9e228d82a991680f": {
          "model_module": "@jupyter-widgets/controls",
          "model_name": "DescriptionStyleModel",
          "state": {
            "_view_name": "StyleView",
            "_model_name": "DescriptionStyleModel",
            "description_width": "",
            "_view_module": "@jupyter-widgets/base",
            "_model_module_version": "1.5.0",
            "_view_count": null,
            "_view_module_version": "1.2.0",
            "_model_module": "@jupyter-widgets/controls"
          },
          "model_module_version": "1.5.0"
        },
        "9f94ece447cc4af486f880ec1c01b05a": {
          "model_module": "@jupyter-widgets/base",
          "model_name": "LayoutModel",
          "state": {
            "_view_name": "LayoutView",
            "grid_template_rows": null,
            "right": null,
            "justify_content": null,
            "_view_module": "@jupyter-widgets/base",
            "overflow": null,
            "_model_module_version": "1.2.0",
            "_view_count": null,
            "flex_flow": null,
            "width": null,
            "min_width": null,
            "border": null,
            "align_items": null,
            "bottom": null,
            "_model_module": "@jupyter-widgets/base",
            "top": null,
            "grid_column": null,
            "overflow_y": null,
            "overflow_x": null,
            "grid_auto_flow": null,
            "grid_area": null,
            "grid_template_columns": null,
            "flex": null,
            "_model_name": "LayoutModel",
            "justify_items": null,
            "grid_row": null,
            "max_height": null,
            "align_content": null,
            "visibility": null,
            "align_self": null,
            "height": null,
            "min_height": null,
            "padding": null,
            "grid_auto_rows": null,
            "grid_gap": null,
            "max_width": null,
            "order": null,
            "_view_module_version": "1.2.0",
            "grid_template_areas": null,
            "object_position": null,
            "object_fit": null,
            "grid_auto_columns": null,
            "margin": null,
            "display": null,
            "left": null
          },
          "model_module_version": "1.2.0"
        },
        "acc8a719c2d5474bb7a94ee863fe2215": {
          "model_module": "@jupyter-widgets/controls",
          "model_name": "HBoxModel",
          "state": {
            "_view_name": "HBoxView",
            "_dom_classes": [],
            "_model_name": "HBoxModel",
            "_view_module": "@jupyter-widgets/controls",
            "_model_module_version": "1.5.0",
            "_view_count": null,
            "_view_module_version": "1.5.0",
            "box_style": "",
            "layout": "IPY_MODEL_59589f24d741448b9ab6684c4de0b242",
            "_model_module": "@jupyter-widgets/controls",
            "children": [
              "IPY_MODEL_cd8470b209af467dad79d7bae3688d7e",
              "IPY_MODEL_04ecaa37833c4c22aadf4756d822de7a"
            ]
          },
          "model_module_version": "1.5.0"
        },
        "59589f24d741448b9ab6684c4de0b242": {
          "model_module": "@jupyter-widgets/base",
          "model_name": "LayoutModel",
          "state": {
            "_view_name": "LayoutView",
            "grid_template_rows": null,
            "right": null,
            "justify_content": null,
            "_view_module": "@jupyter-widgets/base",
            "overflow": null,
            "_model_module_version": "1.2.0",
            "_view_count": null,
            "flex_flow": null,
            "width": null,
            "min_width": null,
            "border": null,
            "align_items": null,
            "bottom": null,
            "_model_module": "@jupyter-widgets/base",
            "top": null,
            "grid_column": null,
            "overflow_y": null,
            "overflow_x": null,
            "grid_auto_flow": null,
            "grid_area": null,
            "grid_template_columns": null,
            "flex": null,
            "_model_name": "LayoutModel",
            "justify_items": null,
            "grid_row": null,
            "max_height": null,
            "align_content": null,
            "visibility": null,
            "align_self": null,
            "height": null,
            "min_height": null,
            "padding": null,
            "grid_auto_rows": null,
            "grid_gap": null,
            "max_width": null,
            "order": null,
            "_view_module_version": "1.2.0",
            "grid_template_areas": null,
            "object_position": null,
            "object_fit": null,
            "grid_auto_columns": null,
            "margin": null,
            "display": null,
            "left": null
          },
          "model_module_version": "1.2.0"
        },
        "cd8470b209af467dad79d7bae3688d7e": {
          "model_module": "@jupyter-widgets/controls",
          "model_name": "FloatProgressModel",
          "state": {
            "_view_name": "ProgressView",
            "style": "IPY_MODEL_952ad70a9b0944d9847930b4bd2de64f",
            "_dom_classes": [],
            "description": "#2: 100%",
            "_model_name": "FloatProgressModel",
            "bar_style": "success",
            "max": 6,
            "_view_module": "@jupyter-widgets/controls",
            "_model_module_version": "1.5.0",
            "value": 6,
            "_view_count": null,
            "_view_module_version": "1.5.0",
            "orientation": "horizontal",
            "min": 0,
            "description_tooltip": null,
            "_model_module": "@jupyter-widgets/controls",
            "layout": "IPY_MODEL_ce314d27c51a4fa0b71841a5d4f5185b"
          },
          "model_module_version": "1.5.0"
        },
        "04ecaa37833c4c22aadf4756d822de7a": {
          "model_module": "@jupyter-widgets/controls",
          "model_name": "HTMLModel",
          "state": {
            "_view_name": "HTMLView",
            "style": "IPY_MODEL_a3d42cc7a06a4d789e0789d00a8dae6c",
            "_dom_classes": [],
            "description": "",
            "_model_name": "HTMLModel",
            "placeholder": "​",
            "_view_module": "@jupyter-widgets/controls",
            "_model_module_version": "1.5.0",
            "value": " 6/6 [00:07&lt;00:00,  1.25s/ba]",
            "_view_count": null,
            "_view_module_version": "1.5.0",
            "description_tooltip": null,
            "_model_module": "@jupyter-widgets/controls",
            "layout": "IPY_MODEL_5c58b19ec8cc45628c58a7da6b3ae2ee"
          },
          "model_module_version": "1.5.0"
        },
        "952ad70a9b0944d9847930b4bd2de64f": {
          "model_module": "@jupyter-widgets/controls",
          "model_name": "ProgressStyleModel",
          "state": {
            "_view_name": "StyleView",
            "_model_name": "ProgressStyleModel",
            "description_width": "initial",
            "_view_module": "@jupyter-widgets/base",
            "_model_module_version": "1.5.0",
            "_view_count": null,
            "_view_module_version": "1.2.0",
            "bar_color": null,
            "_model_module": "@jupyter-widgets/controls"
          },
          "model_module_version": "1.5.0"
        },
        "ce314d27c51a4fa0b71841a5d4f5185b": {
          "model_module": "@jupyter-widgets/base",
          "model_name": "LayoutModel",
          "state": {
            "_view_name": "LayoutView",
            "grid_template_rows": null,
            "right": null,
            "justify_content": null,
            "_view_module": "@jupyter-widgets/base",
            "overflow": null,
            "_model_module_version": "1.2.0",
            "_view_count": null,
            "flex_flow": null,
            "width": null,
            "min_width": null,
            "border": null,
            "align_items": null,
            "bottom": null,
            "_model_module": "@jupyter-widgets/base",
            "top": null,
            "grid_column": null,
            "overflow_y": null,
            "overflow_x": null,
            "grid_auto_flow": null,
            "grid_area": null,
            "grid_template_columns": null,
            "flex": null,
            "_model_name": "LayoutModel",
            "justify_items": null,
            "grid_row": null,
            "max_height": null,
            "align_content": null,
            "visibility": null,
            "align_self": null,
            "height": null,
            "min_height": null,
            "padding": null,
            "grid_auto_rows": null,
            "grid_gap": null,
            "max_width": null,
            "order": null,
            "_view_module_version": "1.2.0",
            "grid_template_areas": null,
            "object_position": null,
            "object_fit": null,
            "grid_auto_columns": null,
            "margin": null,
            "display": null,
            "left": null
          },
          "model_module_version": "1.2.0"
        },
        "a3d42cc7a06a4d789e0789d00a8dae6c": {
          "model_module": "@jupyter-widgets/controls",
          "model_name": "DescriptionStyleModel",
          "state": {
            "_view_name": "StyleView",
            "_model_name": "DescriptionStyleModel",
            "description_width": "",
            "_view_module": "@jupyter-widgets/base",
            "_model_module_version": "1.5.0",
            "_view_count": null,
            "_view_module_version": "1.2.0",
            "_model_module": "@jupyter-widgets/controls"
          },
          "model_module_version": "1.5.0"
        },
        "5c58b19ec8cc45628c58a7da6b3ae2ee": {
          "model_module": "@jupyter-widgets/base",
          "model_name": "LayoutModel",
          "state": {
            "_view_name": "LayoutView",
            "grid_template_rows": null,
            "right": null,
            "justify_content": null,
            "_view_module": "@jupyter-widgets/base",
            "overflow": null,
            "_model_module_version": "1.2.0",
            "_view_count": null,
            "flex_flow": null,
            "width": null,
            "min_width": null,
            "border": null,
            "align_items": null,
            "bottom": null,
            "_model_module": "@jupyter-widgets/base",
            "top": null,
            "grid_column": null,
            "overflow_y": null,
            "overflow_x": null,
            "grid_auto_flow": null,
            "grid_area": null,
            "grid_template_columns": null,
            "flex": null,
            "_model_name": "LayoutModel",
            "justify_items": null,
            "grid_row": null,
            "max_height": null,
            "align_content": null,
            "visibility": null,
            "align_self": null,
            "height": null,
            "min_height": null,
            "padding": null,
            "grid_auto_rows": null,
            "grid_gap": null,
            "max_width": null,
            "order": null,
            "_view_module_version": "1.2.0",
            "grid_template_areas": null,
            "object_position": null,
            "object_fit": null,
            "grid_auto_columns": null,
            "margin": null,
            "display": null,
            "left": null
          },
          "model_module_version": "1.2.0"
        },
        "58bc6f353ca64d6faec3b6a04c2dcb3a": {
          "model_module": "@jupyter-widgets/controls",
          "model_name": "HBoxModel",
          "state": {
            "_view_name": "HBoxView",
            "_dom_classes": [],
            "_model_name": "HBoxModel",
            "_view_module": "@jupyter-widgets/controls",
            "_model_module_version": "1.5.0",
            "_view_count": null,
            "_view_module_version": "1.5.0",
            "box_style": "",
            "layout": "IPY_MODEL_276f33ee7cc340a1a7c97108420767e3",
            "_model_module": "@jupyter-widgets/controls",
            "children": [
              "IPY_MODEL_ef89e2624d3149f48ed5737e041169a2",
              "IPY_MODEL_1f58ad3d753e46398dbc56f6856418a0"
            ]
          },
          "model_module_version": "1.5.0"
        },
        "276f33ee7cc340a1a7c97108420767e3": {
          "model_module": "@jupyter-widgets/base",
          "model_name": "LayoutModel",
          "state": {
            "_view_name": "LayoutView",
            "grid_template_rows": null,
            "right": null,
            "justify_content": null,
            "_view_module": "@jupyter-widgets/base",
            "overflow": null,
            "_model_module_version": "1.2.0",
            "_view_count": null,
            "flex_flow": null,
            "width": null,
            "min_width": null,
            "border": null,
            "align_items": null,
            "bottom": null,
            "_model_module": "@jupyter-widgets/base",
            "top": null,
            "grid_column": null,
            "overflow_y": null,
            "overflow_x": null,
            "grid_auto_flow": null,
            "grid_area": null,
            "grid_template_columns": null,
            "flex": null,
            "_model_name": "LayoutModel",
            "justify_items": null,
            "grid_row": null,
            "max_height": null,
            "align_content": null,
            "visibility": null,
            "align_self": null,
            "height": null,
            "min_height": null,
            "padding": null,
            "grid_auto_rows": null,
            "grid_gap": null,
            "max_width": null,
            "order": null,
            "_view_module_version": "1.2.0",
            "grid_template_areas": null,
            "object_position": null,
            "object_fit": null,
            "grid_auto_columns": null,
            "margin": null,
            "display": null,
            "left": null
          },
          "model_module_version": "1.2.0"
        },
        "ef89e2624d3149f48ed5737e041169a2": {
          "model_module": "@jupyter-widgets/controls",
          "model_name": "FloatProgressModel",
          "state": {
            "_view_name": "ProgressView",
            "style": "IPY_MODEL_87251d69243a476a9acf02715ae2b6c1",
            "_dom_classes": [],
            "description": "#3: 100%",
            "_model_name": "FloatProgressModel",
            "bar_style": "success",
            "max": 6,
            "_view_module": "@jupyter-widgets/controls",
            "_model_module_version": "1.5.0",
            "value": 6,
            "_view_count": null,
            "_view_module_version": "1.5.0",
            "orientation": "horizontal",
            "min": 0,
            "description_tooltip": null,
            "_model_module": "@jupyter-widgets/controls",
            "layout": "IPY_MODEL_4252af94c2ca49709e19037d583e0a1c"
          },
          "model_module_version": "1.5.0"
        },
        "1f58ad3d753e46398dbc56f6856418a0": {
          "model_module": "@jupyter-widgets/controls",
          "model_name": "HTMLModel",
          "state": {
            "_view_name": "HTMLView",
            "style": "IPY_MODEL_32dcb9a9ed624253b3786a73d5a397ef",
            "_dom_classes": [],
            "description": "",
            "_model_name": "HTMLModel",
            "placeholder": "​",
            "_view_module": "@jupyter-widgets/controls",
            "_model_module_version": "1.5.0",
            "value": " 6/6 [00:06&lt;00:00,  1.09s/ba]",
            "_view_count": null,
            "_view_module_version": "1.5.0",
            "description_tooltip": null,
            "_model_module": "@jupyter-widgets/controls",
            "layout": "IPY_MODEL_164f7109aede4bcca51636eaa02d7119"
          },
          "model_module_version": "1.5.0"
        },
        "87251d69243a476a9acf02715ae2b6c1": {
          "model_module": "@jupyter-widgets/controls",
          "model_name": "ProgressStyleModel",
          "state": {
            "_view_name": "StyleView",
            "_model_name": "ProgressStyleModel",
            "description_width": "initial",
            "_view_module": "@jupyter-widgets/base",
            "_model_module_version": "1.5.0",
            "_view_count": null,
            "_view_module_version": "1.2.0",
            "bar_color": null,
            "_model_module": "@jupyter-widgets/controls"
          },
          "model_module_version": "1.5.0"
        },
        "4252af94c2ca49709e19037d583e0a1c": {
          "model_module": "@jupyter-widgets/base",
          "model_name": "LayoutModel",
          "state": {
            "_view_name": "LayoutView",
            "grid_template_rows": null,
            "right": null,
            "justify_content": null,
            "_view_module": "@jupyter-widgets/base",
            "overflow": null,
            "_model_module_version": "1.2.0",
            "_view_count": null,
            "flex_flow": null,
            "width": null,
            "min_width": null,
            "border": null,
            "align_items": null,
            "bottom": null,
            "_model_module": "@jupyter-widgets/base",
            "top": null,
            "grid_column": null,
            "overflow_y": null,
            "overflow_x": null,
            "grid_auto_flow": null,
            "grid_area": null,
            "grid_template_columns": null,
            "flex": null,
            "_model_name": "LayoutModel",
            "justify_items": null,
            "grid_row": null,
            "max_height": null,
            "align_content": null,
            "visibility": null,
            "align_self": null,
            "height": null,
            "min_height": null,
            "padding": null,
            "grid_auto_rows": null,
            "grid_gap": null,
            "max_width": null,
            "order": null,
            "_view_module_version": "1.2.0",
            "grid_template_areas": null,
            "object_position": null,
            "object_fit": null,
            "grid_auto_columns": null,
            "margin": null,
            "display": null,
            "left": null
          },
          "model_module_version": "1.2.0"
        },
        "32dcb9a9ed624253b3786a73d5a397ef": {
          "model_module": "@jupyter-widgets/controls",
          "model_name": "DescriptionStyleModel",
          "state": {
            "_view_name": "StyleView",
            "_model_name": "DescriptionStyleModel",
            "description_width": "",
            "_view_module": "@jupyter-widgets/base",
            "_model_module_version": "1.5.0",
            "_view_count": null,
            "_view_module_version": "1.2.0",
            "_model_module": "@jupyter-widgets/controls"
          },
          "model_module_version": "1.5.0"
        },
        "164f7109aede4bcca51636eaa02d7119": {
          "model_module": "@jupyter-widgets/base",
          "model_name": "LayoutModel",
          "state": {
            "_view_name": "LayoutView",
            "grid_template_rows": null,
            "right": null,
            "justify_content": null,
            "_view_module": "@jupyter-widgets/base",
            "overflow": null,
            "_model_module_version": "1.2.0",
            "_view_count": null,
            "flex_flow": null,
            "width": null,
            "min_width": null,
            "border": null,
            "align_items": null,
            "bottom": null,
            "_model_module": "@jupyter-widgets/base",
            "top": null,
            "grid_column": null,
            "overflow_y": null,
            "overflow_x": null,
            "grid_auto_flow": null,
            "grid_area": null,
            "grid_template_columns": null,
            "flex": null,
            "_model_name": "LayoutModel",
            "justify_items": null,
            "grid_row": null,
            "max_height": null,
            "align_content": null,
            "visibility": null,
            "align_self": null,
            "height": null,
            "min_height": null,
            "padding": null,
            "grid_auto_rows": null,
            "grid_gap": null,
            "max_width": null,
            "order": null,
            "_view_module_version": "1.2.0",
            "grid_template_areas": null,
            "object_position": null,
            "object_fit": null,
            "grid_auto_columns": null,
            "margin": null,
            "display": null,
            "left": null
          },
          "model_module_version": "1.2.0"
        },
        "a68ea3707a7f44c396f99afc3cda61f0": {
          "model_module": "@jupyter-widgets/controls",
          "model_name": "HBoxModel",
          "state": {
            "_view_name": "HBoxView",
            "_dom_classes": [],
            "_model_name": "HBoxModel",
            "_view_module": "@jupyter-widgets/controls",
            "_model_module_version": "1.5.0",
            "_view_count": null,
            "_view_module_version": "1.5.0",
            "box_style": "",
            "layout": "IPY_MODEL_436a68f9c7e84446ae1e45a892395399",
            "_model_module": "@jupyter-widgets/controls",
            "children": [
              "IPY_MODEL_a02d01900197455786c945632814fd95",
              "IPY_MODEL_fb01ecd9a90548548c43ceb8e43727c6"
            ]
          },
          "model_module_version": "1.5.0"
        },
        "436a68f9c7e84446ae1e45a892395399": {
          "model_module": "@jupyter-widgets/base",
          "model_name": "LayoutModel",
          "state": {
            "_view_name": "LayoutView",
            "grid_template_rows": null,
            "right": null,
            "justify_content": null,
            "_view_module": "@jupyter-widgets/base",
            "overflow": null,
            "_model_module_version": "1.2.0",
            "_view_count": null,
            "flex_flow": null,
            "width": null,
            "min_width": null,
            "border": null,
            "align_items": null,
            "bottom": null,
            "_model_module": "@jupyter-widgets/base",
            "top": null,
            "grid_column": null,
            "overflow_y": null,
            "overflow_x": null,
            "grid_auto_flow": null,
            "grid_area": null,
            "grid_template_columns": null,
            "flex": null,
            "_model_name": "LayoutModel",
            "justify_items": null,
            "grid_row": null,
            "max_height": null,
            "align_content": null,
            "visibility": null,
            "align_self": null,
            "height": null,
            "min_height": null,
            "padding": null,
            "grid_auto_rows": null,
            "grid_gap": null,
            "max_width": null,
            "order": null,
            "_view_module_version": "1.2.0",
            "grid_template_areas": null,
            "object_position": null,
            "object_fit": null,
            "grid_auto_columns": null,
            "margin": null,
            "display": null,
            "left": null
          },
          "model_module_version": "1.2.0"
        },
        "a02d01900197455786c945632814fd95": {
          "model_module": "@jupyter-widgets/controls",
          "model_name": "FloatProgressModel",
          "state": {
            "_view_name": "ProgressView",
            "style": "IPY_MODEL_8eab8aac556b4dc28032c5d4eb612fe5",
            "_dom_classes": [],
            "description": "Downloading: 100%",
            "_model_name": "FloatProgressModel",
            "bar_style": "success",
            "max": 1768,
            "_view_module": "@jupyter-widgets/controls",
            "_model_module_version": "1.5.0",
            "value": 1768,
            "_view_count": null,
            "_view_module_version": "1.5.0",
            "orientation": "horizontal",
            "min": 0,
            "description_tooltip": null,
            "_model_module": "@jupyter-widgets/controls",
            "layout": "IPY_MODEL_fa792297bfe64663908fd5c5134deeba"
          },
          "model_module_version": "1.5.0"
        },
        "fb01ecd9a90548548c43ceb8e43727c6": {
          "model_module": "@jupyter-widgets/controls",
          "model_name": "HTMLModel",
          "state": {
            "_view_name": "HTMLView",
            "style": "IPY_MODEL_e66642132d3445a9814606d409a2d976",
            "_dom_classes": [],
            "description": "",
            "_model_name": "HTMLModel",
            "placeholder": "​",
            "_view_module": "@jupyter-widgets/controls",
            "_model_module_version": "1.5.0",
            "value": " 1.77k/1.77k [00:00&lt;00:00, 28.5kB/s]",
            "_view_count": null,
            "_view_module_version": "1.5.0",
            "description_tooltip": null,
            "_model_module": "@jupyter-widgets/controls",
            "layout": "IPY_MODEL_cfb67ab8e8344fc7972d52d3b35056d7"
          },
          "model_module_version": "1.5.0"
        },
        "8eab8aac556b4dc28032c5d4eb612fe5": {
          "model_module": "@jupyter-widgets/controls",
          "model_name": "ProgressStyleModel",
          "state": {
            "_view_name": "StyleView",
            "_model_name": "ProgressStyleModel",
            "description_width": "initial",
            "_view_module": "@jupyter-widgets/base",
            "_model_module_version": "1.5.0",
            "_view_count": null,
            "_view_module_version": "1.2.0",
            "bar_color": null,
            "_model_module": "@jupyter-widgets/controls"
          },
          "model_module_version": "1.5.0"
        },
        "fa792297bfe64663908fd5c5134deeba": {
          "model_module": "@jupyter-widgets/base",
          "model_name": "LayoutModel",
          "state": {
            "_view_name": "LayoutView",
            "grid_template_rows": null,
            "right": null,
            "justify_content": null,
            "_view_module": "@jupyter-widgets/base",
            "overflow": null,
            "_model_module_version": "1.2.0",
            "_view_count": null,
            "flex_flow": null,
            "width": null,
            "min_width": null,
            "border": null,
            "align_items": null,
            "bottom": null,
            "_model_module": "@jupyter-widgets/base",
            "top": null,
            "grid_column": null,
            "overflow_y": null,
            "overflow_x": null,
            "grid_auto_flow": null,
            "grid_area": null,
            "grid_template_columns": null,
            "flex": null,
            "_model_name": "LayoutModel",
            "justify_items": null,
            "grid_row": null,
            "max_height": null,
            "align_content": null,
            "visibility": null,
            "align_self": null,
            "height": null,
            "min_height": null,
            "padding": null,
            "grid_auto_rows": null,
            "grid_gap": null,
            "max_width": null,
            "order": null,
            "_view_module_version": "1.2.0",
            "grid_template_areas": null,
            "object_position": null,
            "object_fit": null,
            "grid_auto_columns": null,
            "margin": null,
            "display": null,
            "left": null
          },
          "model_module_version": "1.2.0"
        },
        "e66642132d3445a9814606d409a2d976": {
          "model_module": "@jupyter-widgets/controls",
          "model_name": "DescriptionStyleModel",
          "state": {
            "_view_name": "StyleView",
            "_model_name": "DescriptionStyleModel",
            "description_width": "",
            "_view_module": "@jupyter-widgets/base",
            "_model_module_version": "1.5.0",
            "_view_count": null,
            "_view_module_version": "1.2.0",
            "_model_module": "@jupyter-widgets/controls"
          },
          "model_module_version": "1.5.0"
        },
        "cfb67ab8e8344fc7972d52d3b35056d7": {
          "model_module": "@jupyter-widgets/base",
          "model_name": "LayoutModel",
          "state": {
            "_view_name": "LayoutView",
            "grid_template_rows": null,
            "right": null,
            "justify_content": null,
            "_view_module": "@jupyter-widgets/base",
            "overflow": null,
            "_model_module_version": "1.2.0",
            "_view_count": null,
            "flex_flow": null,
            "width": null,
            "min_width": null,
            "border": null,
            "align_items": null,
            "bottom": null,
            "_model_module": "@jupyter-widgets/base",
            "top": null,
            "grid_column": null,
            "overflow_y": null,
            "overflow_x": null,
            "grid_auto_flow": null,
            "grid_area": null,
            "grid_template_columns": null,
            "flex": null,
            "_model_name": "LayoutModel",
            "justify_items": null,
            "grid_row": null,
            "max_height": null,
            "align_content": null,
            "visibility": null,
            "align_self": null,
            "height": null,
            "min_height": null,
            "padding": null,
            "grid_auto_rows": null,
            "grid_gap": null,
            "max_width": null,
            "order": null,
            "_view_module_version": "1.2.0",
            "grid_template_areas": null,
            "object_position": null,
            "object_fit": null,
            "grid_auto_columns": null,
            "margin": null,
            "display": null,
            "left": null
          },
          "model_module_version": "1.2.0"
        },
        "921a4681322d4cb7b45bad713ccb0340": {
          "model_module": "@jupyter-widgets/controls",
          "model_name": "HBoxModel",
          "state": {
            "_view_name": "HBoxView",
            "_dom_classes": [],
            "_model_name": "HBoxModel",
            "_view_module": "@jupyter-widgets/controls",
            "_model_module_version": "1.5.0",
            "_view_count": null,
            "_view_module_version": "1.5.0",
            "box_style": "",
            "layout": "IPY_MODEL_b87d1d1720564df4a2becd2bf282b4b3",
            "_model_module": "@jupyter-widgets/controls",
            "children": [
              "IPY_MODEL_9ba456a5c446483982c794844a218c68",
              "IPY_MODEL_6cbe9370c5924a128957c31bf0a6590d"
            ]
          },
          "model_module_version": "1.5.0"
        },
        "b87d1d1720564df4a2becd2bf282b4b3": {
          "model_module": "@jupyter-widgets/base",
          "model_name": "LayoutModel",
          "state": {
            "_view_name": "LayoutView",
            "grid_template_rows": null,
            "right": null,
            "justify_content": null,
            "_view_module": "@jupyter-widgets/base",
            "overflow": null,
            "_model_module_version": "1.2.0",
            "_view_count": null,
            "flex_flow": null,
            "width": null,
            "min_width": null,
            "border": null,
            "align_items": null,
            "bottom": null,
            "_model_module": "@jupyter-widgets/base",
            "top": null,
            "grid_column": null,
            "overflow_y": null,
            "overflow_x": null,
            "grid_auto_flow": null,
            "grid_area": null,
            "grid_template_columns": null,
            "flex": null,
            "_model_name": "LayoutModel",
            "justify_items": null,
            "grid_row": null,
            "max_height": null,
            "align_content": null,
            "visibility": null,
            "align_self": null,
            "height": null,
            "min_height": null,
            "padding": null,
            "grid_auto_rows": null,
            "grid_gap": null,
            "max_width": null,
            "order": null,
            "_view_module_version": "1.2.0",
            "grid_template_areas": null,
            "object_position": null,
            "object_fit": null,
            "grid_auto_columns": null,
            "margin": null,
            "display": null,
            "left": null
          },
          "model_module_version": "1.2.0"
        },
        "9ba456a5c446483982c794844a218c68": {
          "model_module": "@jupyter-widgets/controls",
          "model_name": "FloatProgressModel",
          "state": {
            "_view_name": "ProgressView",
            "style": "IPY_MODEL_7abb2db6ba7247e68dbfa2ad2d0393f2",
            "_dom_classes": [],
            "description": "Downloading: 100%",
            "_model_name": "FloatProgressModel",
            "bar_style": "success",
            "max": 1269737156,
            "_view_module": "@jupyter-widgets/controls",
            "_model_module_version": "1.5.0",
            "value": 1269737156,
            "_view_count": null,
            "_view_module_version": "1.5.0",
            "orientation": "horizontal",
            "min": 0,
            "description_tooltip": null,
            "_model_module": "@jupyter-widgets/controls",
            "layout": "IPY_MODEL_12b62a7b6d37453bb58d3ecae2489284"
          },
          "model_module_version": "1.5.0"
        },
        "6cbe9370c5924a128957c31bf0a6590d": {
          "model_module": "@jupyter-widgets/controls",
          "model_name": "HTMLModel",
          "state": {
            "_view_name": "HTMLView",
            "style": "IPY_MODEL_1c847db130dc40e295523d2442d46cf6",
            "_dom_classes": [],
            "description": "",
            "_model_name": "HTMLModel",
            "placeholder": "​",
            "_view_module": "@jupyter-widgets/controls",
            "_model_module_version": "1.5.0",
            "value": " 1.27G/1.27G [00:31&lt;00:00, 39.9MB/s]",
            "_view_count": null,
            "_view_module_version": "1.5.0",
            "description_tooltip": null,
            "_model_module": "@jupyter-widgets/controls",
            "layout": "IPY_MODEL_214ddcfb03c24d818364f7b50d5bac90"
          },
          "model_module_version": "1.5.0"
        },
        "7abb2db6ba7247e68dbfa2ad2d0393f2": {
          "model_module": "@jupyter-widgets/controls",
          "model_name": "ProgressStyleModel",
          "state": {
            "_view_name": "StyleView",
            "_model_name": "ProgressStyleModel",
            "description_width": "initial",
            "_view_module": "@jupyter-widgets/base",
            "_model_module_version": "1.5.0",
            "_view_count": null,
            "_view_module_version": "1.2.0",
            "bar_color": null,
            "_model_module": "@jupyter-widgets/controls"
          },
          "model_module_version": "1.5.0"
        },
        "12b62a7b6d37453bb58d3ecae2489284": {
          "model_module": "@jupyter-widgets/base",
          "model_name": "LayoutModel",
          "state": {
            "_view_name": "LayoutView",
            "grid_template_rows": null,
            "right": null,
            "justify_content": null,
            "_view_module": "@jupyter-widgets/base",
            "overflow": null,
            "_model_module_version": "1.2.0",
            "_view_count": null,
            "flex_flow": null,
            "width": null,
            "min_width": null,
            "border": null,
            "align_items": null,
            "bottom": null,
            "_model_module": "@jupyter-widgets/base",
            "top": null,
            "grid_column": null,
            "overflow_y": null,
            "overflow_x": null,
            "grid_auto_flow": null,
            "grid_area": null,
            "grid_template_columns": null,
            "flex": null,
            "_model_name": "LayoutModel",
            "justify_items": null,
            "grid_row": null,
            "max_height": null,
            "align_content": null,
            "visibility": null,
            "align_self": null,
            "height": null,
            "min_height": null,
            "padding": null,
            "grid_auto_rows": null,
            "grid_gap": null,
            "max_width": null,
            "order": null,
            "_view_module_version": "1.2.0",
            "grid_template_areas": null,
            "object_position": null,
            "object_fit": null,
            "grid_auto_columns": null,
            "margin": null,
            "display": null,
            "left": null
          },
          "model_module_version": "1.2.0"
        },
        "1c847db130dc40e295523d2442d46cf6": {
          "model_module": "@jupyter-widgets/controls",
          "model_name": "DescriptionStyleModel",
          "state": {
            "_view_name": "StyleView",
            "_model_name": "DescriptionStyleModel",
            "description_width": "",
            "_view_module": "@jupyter-widgets/base",
            "_model_module_version": "1.5.0",
            "_view_count": null,
            "_view_module_version": "1.2.0",
            "_model_module": "@jupyter-widgets/controls"
          },
          "model_module_version": "1.5.0"
        },
        "214ddcfb03c24d818364f7b50d5bac90": {
          "model_module": "@jupyter-widgets/base",
          "model_name": "LayoutModel",
          "state": {
            "_view_name": "LayoutView",
            "grid_template_rows": null,
            "right": null,
            "justify_content": null,
            "_view_module": "@jupyter-widgets/base",
            "overflow": null,
            "_model_module_version": "1.2.0",
            "_view_count": null,
            "flex_flow": null,
            "width": null,
            "min_width": null,
            "border": null,
            "align_items": null,
            "bottom": null,
            "_model_module": "@jupyter-widgets/base",
            "top": null,
            "grid_column": null,
            "overflow_y": null,
            "overflow_x": null,
            "grid_auto_flow": null,
            "grid_area": null,
            "grid_template_columns": null,
            "flex": null,
            "_model_name": "LayoutModel",
            "justify_items": null,
            "grid_row": null,
            "max_height": null,
            "align_content": null,
            "visibility": null,
            "align_self": null,
            "height": null,
            "min_height": null,
            "padding": null,
            "grid_auto_rows": null,
            "grid_gap": null,
            "max_width": null,
            "order": null,
            "_view_module_version": "1.2.0",
            "grid_template_areas": null,
            "object_position": null,
            "object_fit": null,
            "grid_auto_columns": null,
            "margin": null,
            "display": null,
            "left": null
          },
          "model_module_version": "1.2.0"
        }
      }
    }
  },
  "cells": [
    {
      "cell_type": "code",
      "metadata": {
        "id": "ErFNEMMvkNQc"
      },
      "source": [
        "#To connect with google drive\n",
        "from google.colab import drive\n",
        "drive.mount('/content/drive')"
      ],
      "execution_count": null,
      "outputs": []
    },
    {
      "cell_type": "code",
      "metadata": {
        "id": "GRVIOsWMf8yD"
      },
      "source": [
        "#Installings\n",
        "%%capture\n",
        "!pip install datasets==1.4.1\n",
        "!pip install transformers==4.4.0\n",
        "!pip install torchaudio\n",
        "!pip install librosa\n",
        "!pip install jiwer\n"
      ],
      "execution_count": null,
      "outputs": []
    },
    {
      "cell_type": "code",
      "metadata": {
        "id": "nnSuOB-nh9o3"
      },
      "source": [
        "import csv\n",
        "import random\n",
        "import datasets\n",
        "import pandas as pd\n",
        "#Function to genrate dataset accordingly\n",
        "def getDataSet(p):\n",
        "  ds=pd.read_csv(p,sep=',',quoting=csv.QUOTE_NONE,encoding='utf-8')\n",
        "  nv=float(\"NAN\")\n",
        "  ds.replace(\"\",nv,inplace=True)\n",
        "  ds.dropna(subset=[\"sentence\"],inplace=True)\n",
        "  return ds"
      ],
      "execution_count": null,
      "outputs": []
    },
    {
      "cell_type": "code",
      "metadata": {
        "id": "EbRtMGrKkIdI"
      },
      "source": [
        "#Getting datasets\n",
        "path_train=\"/content/drive/My Drive/NLP/DataSet/Training_file.csv\"\n",
        "path_test=\"/content/drive/My Drive/NLP/Test-DataSet/test_file.csv\"\n",
        "\n",
        "\n",
        "dataframe_train=getDataSet(path_train)\n",
        "dataframe_test=getDataSet(path_test)\n",
        "\n",
        "#Creating Datasets\n",
        "training_ds=datasets.Dataset.from_pandas(dataframe_train)\n",
        "test_ds=datasets.Dataset.from_pandas(dataframe_test)\n"
      ],
      "execution_count": null,
      "outputs": []
    },
    {
      "cell_type": "code",
      "metadata": {
        "id": "m56ydNSAncNT"
      },
      "source": [
        "from datasets import ClassLabel\n",
        "import random\n",
        "import pandas as pd\n",
        "from IPython.display import display, HTML\n",
        "#Function to generate the\n",
        "def show_random_elements(dataset, num_examples=10):\n",
        "    assert num_examples <= len(dataset), \"Can't pick more elements than there are in the dataset.\"\n",
        "    picks = []\n",
        "    for _ in range(num_examples):\n",
        "        pick = random.randint(0, len(dataset)-1)\n",
        "        while pick in picks:\n",
        "            pick = random.randint(0, len(dataset)-1)\n",
        "        picks.append(pick)\n",
        "\n",
        "    df = pd.DataFrame(dataset[picks])\n",
        "    display(HTML(df.to_html()))"
      ],
      "execution_count": null,
      "outputs": []
    },
    {
      "cell_type": "code",
      "metadata": {
        "colab": {
          "base_uri": "https://localhost:8080/",
          "height": 669
        },
        "id": "jm9616YWniut",
        "outputId": "9e97a530-e626-401b-bf5d-a7d1726b7c78"
      },
      "source": [
        "show_random_elements(training_ds.remove_columns([\"path\"]), num_examples=20)\n"
      ],
      "execution_count": null,
      "outputs": [
        {
          "output_type": "display_data",
          "data": {
            "text/html": [
              "<table border=\"1\" class=\"dataframe\">\n",
              "  <thead>\n",
              "    <tr style=\"text-align: right;\">\n",
              "      <th></th>\n",
              "      <th>sentence</th>\n",
              "      <th>__index_level_0__</th>\n",
              "    </tr>\n",
              "  </thead>\n",
              "  <tbody>\n",
              "    <tr>\n",
              "      <th>0</th>\n",
              "      <td>ڈاون کیوں کرنا چاہ رہے ہیں سر</td>\n",
              "      <td>360</td>\n",
              "    </tr>\n",
              "    <tr>\n",
              "      <th>1</th>\n",
              "      <td>بس آپ بے فکر ہو جائیں میں ھل  کرواتا ہوں</td>\n",
              "      <td>389</td>\n",
              "    </tr>\n",
              "    <tr>\n",
              "      <th>2</th>\n",
              "      <td>55</td>\n",
              "      <td>168</td>\n",
              "    </tr>\n",
              "    <tr>\n",
              "      <th>3</th>\n",
              "      <td>پی ٹی آئی کا معنی</td>\n",
              "      <td>399</td>\n",
              "    </tr>\n",
              "    <tr>\n",
              "      <th>4</th>\n",
              "      <td>تھینک یوویلکم سر</td>\n",
              "      <td>282</td>\n",
              "    </tr>\n",
              "    <tr>\n",
              "      <th>5</th>\n",
              "      <td>وہ نیکسٹ منتھ سے کٹ جائے گا</td>\n",
              "      <td>244</td>\n",
              "    </tr>\n",
              "    <tr>\n",
              "      <th>6</th>\n",
              "      <td>دس کا لوڈ کیا جاتا ہے لیکن</td>\n",
              "      <td>119</td>\n",
              "    </tr>\n",
              "    <tr>\n",
              "      <th>7</th>\n",
              "      <td>حاجی ڈبل بن ڈبل ٹو</td>\n",
              "      <td>70</td>\n",
              "    </tr>\n",
              "    <tr>\n",
              "      <th>8</th>\n",
              "      <td>نومبر تک مطلب کے</td>\n",
              "      <td>295</td>\n",
              "    </tr>\n",
              "    <tr>\n",
              "      <th>9</th>\n",
              "      <td>حادثے کے لیے معذرت چاہتا ہوں</td>\n",
              "      <td>249</td>\n",
              "    </tr>\n",
              "    <tr>\n",
              "      <th>10</th>\n",
              "      <td>تختی کی باہر کی</td>\n",
              "      <td>91</td>\n",
              "    </tr>\n",
              "    <tr>\n",
              "      <th>11</th>\n",
              "      <td>نواز احمد ہے بھی آپ ہمیں ایک موقع</td>\n",
              "      <td>131</td>\n",
              "    </tr>\n",
              "    <tr>\n",
              "      <th>12</th>\n",
              "      <td>200 ایکسٹرا چارج ہوتے ہیں</td>\n",
              "      <td>457</td>\n",
              "    </tr>\n",
              "    <tr>\n",
              "      <th>13</th>\n",
              "      <td>ٹھیک ہے بے فکر ہو جائیں میں نے بل بھی آپ کو</td>\n",
              "      <td>496</td>\n",
              "    </tr>\n",
              "    <tr>\n",
              "      <th>14</th>\n",
              "      <td>یہ لائن کا ایشو ہو سکتا ہے</td>\n",
              "      <td>325</td>\n",
              "    </tr>\n",
              "    <tr>\n",
              "      <th>15</th>\n",
              "      <td>کس نمبر پر سر</td>\n",
              "      <td>477</td>\n",
              "    </tr>\n",
              "    <tr>\n",
              "      <th>16</th>\n",
              "      <td>صحیح ٹھیک ہے</td>\n",
              "      <td>364</td>\n",
              "    </tr>\n",
              "    <tr>\n",
              "      <th>17</th>\n",
              "      <td>اس کو آ کر</td>\n",
              "      <td>256</td>\n",
              "    </tr>\n",
              "    <tr>\n",
              "      <th>18</th>\n",
              "      <td>ویٹ</td>\n",
              "      <td>340</td>\n",
              "    </tr>\n",
              "    <tr>\n",
              "      <th>19</th>\n",
              "      <td>وہ آ چکا ہوگا</td>\n",
              "      <td>490</td>\n",
              "    </tr>\n",
              "  </tbody>\n",
              "</table>"
            ],
            "text/plain": [
              "<IPython.core.display.HTML object>"
            ]
          },
          "metadata": {
            "tags": []
          }
        }
      ]
    },
    {
      "cell_type": "code",
      "metadata": {
        "id": "ov-mmp0duWxk"
      },
      "source": [
        "import re\n",
        "chars_to_ignore_regex = '[\\,\\?\\.\\!\\-\\;\\:\\\"\\“\\%\\‘\\”\\�]'\n",
        "#Function to remove Special Charaters\n",
        "def remove_special_characters(batch):\n",
        "    batch[\"sentence\"] = re.sub(chars_to_ignore_regex, '', batch[\"sentence\"]).lower() + \" \"\n",
        "    return batch"
      ],
      "execution_count": null,
      "outputs": []
    },
    {
      "cell_type": "code",
      "metadata": {
        "colab": {
          "base_uri": "https://localhost:8080/",
          "height": 115,
          "referenced_widgets": [
            "4dc49bee77174894a47f214128d66b30",
            "398f0f1269794a39b13c91024a9bc6ea",
            "53d744b226d04abeb931f784e9cbadfe",
            "844e28f4ae014a27aeb6b09030671f7b",
            "cd42ba02b81647e8870bb8147c38f040",
            "101948a2132f4203b18e2ce27ded19e7",
            "03c57d75781d46e1ba85296a46789031",
            "80ede9e77abd47449943af789c4688ac",
            "d24c20e137594b27b2e75bbce53f8ec9",
            "11af0659e3784209b8d94287447599bf",
            "fb9b4ac1c34a460e926f86f567486dc5",
            "8957ddf5aadb44d882b112af99de0250",
            "5b50bedae332472cab204bc3fb21462b",
            "f73670f79343443c87faa193b5599dc2",
            "d2a231d901c448faa8a099bf3e7f5d9a",
            "b8eb61a165af40ac99d686f9db1f6e30"
          ]
        },
        "id": "wEuc9y7zugFB",
        "outputId": "ab404c01-a314-45c6-fc5b-59e5d1622086"
      },
      "source": [
        "#Removing Special Characters\n",
        "training_ds = training_ds.map(remove_special_characters)\n",
        "test_ds = test_ds.map(remove_special_characters)"
      ],
      "execution_count": null,
      "outputs": [
        {
          "output_type": "display_data",
          "data": {
            "application/vnd.jupyter.widget-view+json": {
              "model_id": "4dc49bee77174894a47f214128d66b30",
              "version_minor": 0,
              "version_major": 2
            },
            "text/plain": [
              "HBox(children=(FloatProgress(value=0.0, max=446.0), HTML(value='')))"
            ]
          },
          "metadata": {
            "tags": []
          }
        },
        {
          "output_type": "stream",
          "text": [
            "\n"
          ],
          "name": "stdout"
        },
        {
          "output_type": "display_data",
          "data": {
            "application/vnd.jupyter.widget-view+json": {
              "model_id": "d24c20e137594b27b2e75bbce53f8ec9",
              "version_minor": 0,
              "version_major": 2
            },
            "text/plain": [
              "HBox(children=(FloatProgress(value=0.0, max=169.0), HTML(value='')))"
            ]
          },
          "metadata": {
            "tags": []
          }
        },
        {
          "output_type": "stream",
          "text": [
            "\n"
          ],
          "name": "stdout"
        }
      ]
    },
    {
      "cell_type": "code",
      "metadata": {
        "colab": {
          "base_uri": "https://localhost:8080/",
          "height": 359
        },
        "id": "Vgcsg9-Ku6bB",
        "outputId": "c46eee5e-5038-47d3-b54c-a26e1f2e0fc8"
      },
      "source": [
        "#Showing the random rows from training dataset after removing the special characters\n",
        "show_random_elements(training_ds.remove_columns([\"path\"]))"
      ],
      "execution_count": null,
      "outputs": [
        {
          "output_type": "display_data",
          "data": {
            "text/html": [
              "<table border=\"1\" class=\"dataframe\">\n",
              "  <thead>\n",
              "    <tr style=\"text-align: right;\">\n",
              "      <th></th>\n",
              "      <th>__index_level_0__</th>\n",
              "      <th>sentence</th>\n",
              "    </tr>\n",
              "  </thead>\n",
              "  <tbody>\n",
              "    <tr>\n",
              "      <th>0</th>\n",
              "      <td>130</td>\n",
              "      <td>4 ہے 345 ہے</td>\n",
              "    </tr>\n",
              "    <tr>\n",
              "      <th>1</th>\n",
              "      <td>408</td>\n",
              "      <td>1035 ہے</td>\n",
              "    </tr>\n",
              "    <tr>\n",
              "      <th>2</th>\n",
              "      <td>364</td>\n",
              "      <td>صحیح ٹھیک ہے</td>\n",
              "    </tr>\n",
              "    <tr>\n",
              "      <th>3</th>\n",
              "      <td>366</td>\n",
              "      <td>جی جی</td>\n",
              "    </tr>\n",
              "    <tr>\n",
              "      <th>4</th>\n",
              "      <td>383</td>\n",
              "      <td>اچھا جو ایسے آ رہا ہے</td>\n",
              "    </tr>\n",
              "    <tr>\n",
              "      <th>5</th>\n",
              "      <td>326</td>\n",
              "      <td>چار سو روپے سر</td>\n",
              "    </tr>\n",
              "    <tr>\n",
              "      <th>6</th>\n",
              "      <td>117</td>\n",
              "      <td>دو سو روپے پڑھیں گے</td>\n",
              "    </tr>\n",
              "    <tr>\n",
              "      <th>7</th>\n",
              "      <td>82</td>\n",
              "      <td>اور یہ میں آپ کوشور آڈی دلوا دو گے مسئلہ کوئی</td>\n",
              "    </tr>\n",
              "    <tr>\n",
              "      <th>8</th>\n",
              "      <td>470</td>\n",
              "      <td>پی ٹی سی ایل ڈاٹ نیٹ ڈاٹ پی کے</td>\n",
              "    </tr>\n",
              "    <tr>\n",
              "      <th>9</th>\n",
              "      <td>80</td>\n",
              "      <td>ابھی چیک کریں گے تو ایڈ کوئی آتا ہی نہیں</td>\n",
              "    </tr>\n",
              "  </tbody>\n",
              "</table>"
            ],
            "text/plain": [
              "<IPython.core.display.HTML object>"
            ]
          },
          "metadata": {
            "tags": []
          }
        }
      ]
    },
    {
      "cell_type": "code",
      "metadata": {
        "id": "Pc_FN-77vTYx"
      },
      "source": [
        "#Function to exract chars from text used in text\n",
        "def extract_all_chars(batch):\n",
        "  all_text = \" \".join(batch[\"sentence\"])\n",
        "  vocab = list(set(all_text))\n",
        "  return {\"vocab\": [vocab], \"all_text\": [all_text]}"
      ],
      "execution_count": null,
      "outputs": []
    },
    {
      "cell_type": "code",
      "metadata": {
        "colab": {
          "base_uri": "https://localhost:8080/",
          "height": 115,
          "referenced_widgets": [
            "d46c4efe51f641f59ec7fa536ec61c06",
            "11c14dbda7874be9a8e9abce016a7250",
            "452e891cc23442b9a2e6c9be2af200e1",
            "46bcd554889a4b5c838560c9379a8650",
            "e1fd88948e5a406db0cc254534eb9dbb",
            "e4dc69c889c14726b5e6e9e6ca551050",
            "830226839650409fa83974a90d81ba53",
            "029744d1f8c2481c91644f6280a47ba1",
            "49c8c9d8335940e9b55259df4133d98e",
            "19079bb3bcd44beeb249201f10481f8a",
            "982c8c71434846e297eaa994c1b2ff9d",
            "4a35d68778b441b3a2adcf7d5f2eca0d",
            "7edbd14c761d49ad8ab58c2f4b36512d",
            "6780affe6fb840569559922eb5606974",
            "b3302851561c44978984fb530d988ac7",
            "79e9ae2c1d65476f9f057447cdafa08b"
          ]
        },
        "id": "UgplicvQvoxk",
        "outputId": "11d6ddbd-b622-4ebd-b10d-e950ca820778"
      },
      "source": [
        "#Extracting characters\n",
        "vocab_train = training_ds.map(extract_all_chars, batched=True, batch_size=-1, keep_in_memory=True, remove_columns=training_ds.column_names)\n",
        "vocab_test = test_ds.map(extract_all_chars, batched=True, batch_size=-1, keep_in_memory=True, remove_columns=test_ds.column_names)"
      ],
      "execution_count": null,
      "outputs": [
        {
          "output_type": "display_data",
          "data": {
            "application/vnd.jupyter.widget-view+json": {
              "model_id": "d46c4efe51f641f59ec7fa536ec61c06",
              "version_minor": 0,
              "version_major": 2
            },
            "text/plain": [
              "HBox(children=(FloatProgress(value=0.0, max=1.0), HTML(value='')))"
            ]
          },
          "metadata": {
            "tags": []
          }
        },
        {
          "output_type": "stream",
          "text": [
            "\n"
          ],
          "name": "stdout"
        },
        {
          "output_type": "display_data",
          "data": {
            "application/vnd.jupyter.widget-view+json": {
              "model_id": "49c8c9d8335940e9b55259df4133d98e",
              "version_minor": 0,
              "version_major": 2
            },
            "text/plain": [
              "HBox(children=(FloatProgress(value=0.0, max=1.0), HTML(value='')))"
            ]
          },
          "metadata": {
            "tags": []
          }
        },
        {
          "output_type": "stream",
          "text": [
            "\n"
          ],
          "name": "stdout"
        }
      ]
    },
    {
      "cell_type": "code",
      "metadata": {
        "id": "W7qutOnZv-3G"
      },
      "source": [
        "vocab_list = list(set(vocab_train[\"vocab\"][0]) | set(vocab_test[\"vocab\"][0]))"
      ],
      "execution_count": null,
      "outputs": []
    },
    {
      "cell_type": "code",
      "metadata": {
        "colab": {
          "base_uri": "https://localhost:8080/"
        },
        "id": "2wAN5BkZwDas",
        "outputId": "193be9af-2140-449a-a05f-37ef8fd9e9ab"
      },
      "source": [
        "#Showing vocab_dict\n",
        "vocab_dict = {v: k for k, v in enumerate(vocab_list)}\n",
        "vocab_dict"
      ],
      "execution_count": null,
      "outputs": [
        {
          "output_type": "execute_result",
          "data": {
            "text/plain": [
              "{' ': 11,\n",
              " '0': 63,\n",
              " '1': 37,\n",
              " '2': 46,\n",
              " '3': 35,\n",
              " '4': 38,\n",
              " '5': 49,\n",
              " '6': 42,\n",
              " '7': 1,\n",
              " '8': 21,\n",
              " '9': 10,\n",
              " 'c': 39,\n",
              " 'k': 8,\n",
              " 'l': 64,\n",
              " 'm': 57,\n",
              " 'o': 25,\n",
              " 'p': 50,\n",
              " 't': 23,\n",
              " 'ء': 4,\n",
              " 'آ': 41,\n",
              " 'ؤ': 28,\n",
              " 'ئ': 26,\n",
              " 'ا': 53,\n",
              " 'ب': 34,\n",
              " 'ت': 31,\n",
              " 'ث': 27,\n",
              " 'ج': 7,\n",
              " 'ح': 2,\n",
              " 'خ': 15,\n",
              " 'د': 65,\n",
              " 'ذ': 58,\n",
              " 'ر': 5,\n",
              " 'ز': 54,\n",
              " 'س': 61,\n",
              " 'ش': 40,\n",
              " 'ص': 45,\n",
              " 'ض': 55,\n",
              " 'ط': 47,\n",
              " 'ظ': 56,\n",
              " 'ع': 24,\n",
              " 'غ': 0,\n",
              " 'ف': 14,\n",
              " 'ق': 33,\n",
              " 'ك': 43,\n",
              " 'ل': 17,\n",
              " 'م': 60,\n",
              " 'ن': 20,\n",
              " 'و': 6,\n",
              " 'َ': 12,\n",
              " 'ُ': 52,\n",
              " 'ِ': 3,\n",
              " 'ْ': 48,\n",
              " 'ٹ': 44,\n",
              " 'پ': 22,\n",
              " 'چ': 13,\n",
              " 'ڈ': 18,\n",
              " 'ڑ': 36,\n",
              " 'ک': 16,\n",
              " 'گ': 30,\n",
              " 'ں': 59,\n",
              " 'ھ': 32,\n",
              " 'ہ': 9,\n",
              " 'ۃ': 19,\n",
              " 'ی': 29,\n",
              " 'ے': 62,\n",
              " '\\u200f': 51}"
            ]
          },
          "metadata": {
            "tags": []
          },
          "execution_count": 86
        }
      ]
    },
    {
      "cell_type": "code",
      "metadata": {
        "id": "e4_MRDFpwMlx"
      },
      "source": [
        "vocab_dict[\"|\"] = vocab_dict[\" \"]\n",
        "del vocab_dict[\" \"]"
      ],
      "execution_count": null,
      "outputs": []
    },
    {
      "cell_type": "code",
      "metadata": {
        "colab": {
          "base_uri": "https://localhost:8080/"
        },
        "id": "0p3QealIwP-J",
        "outputId": "a0068bde-5efd-4d81-fb98-2f5c1f230528"
      },
      "source": [
        "#Showing the len of the vocab_dict\n",
        "vocab_dict[\"[UNK]\"] = len(vocab_dict)\n",
        "vocab_dict[\"[PAD]\"] = len(vocab_dict)\n",
        "len(vocab_dict)"
      ],
      "execution_count": null,
      "outputs": [
        {
          "output_type": "execute_result",
          "data": {
            "text/plain": [
              "68"
            ]
          },
          "metadata": {
            "tags": []
          },
          "execution_count": 88
        }
      ]
    },
    {
      "cell_type": "code",
      "metadata": {
        "id": "_5UMI3TuwbdT"
      },
      "source": [
        "import json\n",
        "with open('vocab.json', 'w') as vocab_file:\n",
        "    json.dump(vocab_dict, vocab_file)"
      ],
      "execution_count": null,
      "outputs": []
    },
    {
      "cell_type": "code",
      "metadata": {
        "id": "lotrvvAgwjIC"
      },
      "source": [
        "from transformers import Wav2Vec2CTCTokenizer\n",
        "\n",
        "tokenizer = Wav2Vec2CTCTokenizer(\"./vocab.json\", unk_token=\"[UNK]\", pad_token=\"[PAD]\", word_delimiter_token=\"|\")"
      ],
      "execution_count": null,
      "outputs": []
    },
    {
      "cell_type": "code",
      "metadata": {
        "id": "Ztk7LUtLwn_B"
      },
      "source": [
        "from transformers import Wav2Vec2FeatureExtractor\n",
        "\n",
        "feature_extractor = Wav2Vec2FeatureExtractor(feature_size=1, sampling_rate=16000, padding_value=0.0, do_normalize=True, return_attention_mask=True)"
      ],
      "execution_count": null,
      "outputs": []
    },
    {
      "cell_type": "code",
      "metadata": {
        "id": "VP-HaBK4wruQ"
      },
      "source": [
        "from transformers import Wav2Vec2Processor\n",
        "\n",
        "processor = Wav2Vec2Processor(feature_extractor=feature_extractor, tokenizer=tokenizer)"
      ],
      "execution_count": null,
      "outputs": []
    },
    {
      "cell_type": "code",
      "metadata": {
        "colab": {
          "base_uri": "https://localhost:8080/"
        },
        "id": "A4WWOrmKwxcC",
        "outputId": "7f206403-fd93-4812-ed5f-a7fb47dbcece"
      },
      "source": [
        "#Showing the third row of training dataset\n",
        "training_ds[3]"
      ],
      "execution_count": null,
      "outputs": [
        {
          "output_type": "execute_result",
          "data": {
            "text/plain": [
              "{'__index_level_0__': 4,\n",
              " 'path': '/content/drive/MyDrive/NLP/DataSet/Audio Files/9320619f-4123-444b-bcf4-18a559496595.wav',\n",
              " 'sentence': 'چارجز آپ کے ایکسٹرا ہی چارج ہوتے ہیں '}"
            ]
          },
          "metadata": {
            "tags": []
          },
          "execution_count": 93
        }
      ]
    },
    {
      "cell_type": "code",
      "metadata": {
        "id": "yWY_v1wzxAjD"
      },
      "source": [
        "import torchaudio\n",
        "\n",
        "#Function to convert speechfile to array_fn\n",
        "def speech_file_to_array_fn(batch):\n",
        "    speech_array, sampling_rate = torchaudio.load(batch[\"path\"])\n",
        "    batch[\"speech\"] = speech_array[0].numpy()\n",
        "    batch[\"sampling_rate\"] = sampling_rate\n",
        "    batch[\"target_text\"] = batch[\"sentence\"]\n",
        "    return batch"
      ],
      "execution_count": null,
      "outputs": []
    },
    {
      "cell_type": "code",
      "metadata": {
        "colab": {
          "base_uri": "https://localhost:8080/",
          "height": 115,
          "referenced_widgets": [
            "2f5a505e14d64ce1a756e0e1a8e1c218",
            "71f520cdef7f456aae2b321f36684561",
            "06c105d0fdca438f95c5391f89ae7ebc",
            "a75357aeeba947b49b3f1114eec76a86",
            "b8073f5d96dc4a4393efd042f51667bd",
            "81aedd765db84e6885160c1bc531232f",
            "9aab7968358849519a3222023e4d6283",
            "ae7960aff7d7411f955e3f69fec29ef5",
            "1b3d20074f874da1af1a5fa6739fdc7b",
            "cae47d74deac49699ea1128b5f813b10",
            "2e060bf7d9524f699d42ea565989fffc",
            "1ff0b30034694ec8b97790d0544fe2ef",
            "c5a7be2241b34fc5b4a0fd10728527d5",
            "21eeebb1f74c488697196ba9b99fe6cf",
            "2d51e437b1ba454f9a60983c9181bc74",
            "db804b20a2ca49dd9cff4a61533206a9"
          ]
        },
        "id": "68MOptgW7Lo9",
        "outputId": "e3cbb6f0-97a7-4b69-bd1d-b0645ee2147c"
      },
      "source": [
        "training_ds = training_ds.map(speech_file_to_array_fn, remove_columns=training_ds.column_names)\n",
        "test_ds = test_ds.map(speech_file_to_array_fn, remove_columns=test_ds.column_names)"
      ],
      "execution_count": null,
      "outputs": [
        {
          "output_type": "display_data",
          "data": {
            "application/vnd.jupyter.widget-view+json": {
              "model_id": "2f5a505e14d64ce1a756e0e1a8e1c218",
              "version_minor": 0,
              "version_major": 2
            },
            "text/plain": [
              "HBox(children=(FloatProgress(value=0.0, max=446.0), HTML(value='')))"
            ]
          },
          "metadata": {
            "tags": []
          }
        },
        {
          "output_type": "stream",
          "text": [
            "\n"
          ],
          "name": "stdout"
        },
        {
          "output_type": "display_data",
          "data": {
            "application/vnd.jupyter.widget-view+json": {
              "model_id": "1b3d20074f874da1af1a5fa6739fdc7b",
              "version_minor": 0,
              "version_major": 2
            },
            "text/plain": [
              "HBox(children=(FloatProgress(value=0.0, max=169.0), HTML(value='')))"
            ]
          },
          "metadata": {
            "tags": []
          }
        },
        {
          "output_type": "stream",
          "text": [
            "\n"
          ],
          "name": "stdout"
        }
      ]
    },
    {
      "cell_type": "code",
      "metadata": {
        "colab": {
          "base_uri": "https://localhost:8080/",
          "height": 75
        },
        "id": "ywVJqJuf-6IY",
        "outputId": "cfcce891-b42a-423d-dcbb-1ae55204291f"
      },
      "source": [
        "#Playing Random\n",
        "import IPython.display as ipd\n",
        "import numpy as np\n",
        "import random\n",
        "\n",
        "rand_int = random.randint(0, len(training_ds)-1)\n",
        "\n",
        "ipd.Audio(data=np.asarray(training_ds[rand_int][\"speech\"]), autoplay=True, rate=16000)"
      ],
      "execution_count": null,
      "outputs": [
        {
          "output_type": "execute_result",
          "data": {
            "text/html": [
              "\n",
              "                <audio controls=\"controls\" autoplay=\"autoplay\">\n",
              "                    <source src=\"data:audio/wav;base64,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\" type=\"audio/wav\" />\n",
              "                    Your browser does not support the audio element.\n",
              "                </audio>\n",
              "              "
            ],
            "text/plain": [
              "<IPython.lib.display.Audio object>"
            ]
          },
          "metadata": {
            "tags": []
          },
          "execution_count": 99
        }
      ]
    },
    {
      "cell_type": "code",
      "metadata": {
        "colab": {
          "base_uri": "https://localhost:8080/"
        },
        "id": "7gWFecgh8qJG",
        "outputId": "994bc549-88ae-43a6-a815-9a950994774a"
      },
      "source": [
        "#Just getting random target text\n",
        "rand_int = random.randint(0, len(training_ds)-1)\n",
        "\n",
        "print(\"Target text:\", training_ds[rand_int][\"target_text\"])\n",
        "print(\"Input array shape:\", np.asarray(training_ds[rand_int][\"speech\"]).shape)\n",
        "print(\"Sampling rate:\", training_ds[rand_int][\"sampling_rate\"])"
      ],
      "execution_count": null,
      "outputs": [
        {
          "output_type": "stream",
          "text": [
            "Target text: میں یہاں سے ایک دفعہ ریفریش \n",
            "Input array shape: (34400,)\n",
            "Sampling rate: 16000\n"
          ],
          "name": "stdout"
        }
      ]
    },
    {
      "cell_type": "code",
      "metadata": {
        "id": "FHJmaYm3_dQG"
      },
      "source": [
        "#Function to prepare dataset\n",
        "def prepare_dataset(batch):\n",
        "    # check that all files have the correct sampling rate\n",
        "    assert (\n",
        "        len(set(batch[\"sampling_rate\"])) == 1\n",
        "    ), f\"Make sure all inputs have the same sampling rate of {processor.feature_extractor.sampling_rate}.\"\n",
        "\n",
        "    batch[\"input_values\"] = processor(batch[\"speech\"], sampling_rate=batch[\"sampling_rate\"][0]).input_values\n",
        "\n",
        "    with processor.as_target_processor():\n",
        "        batch[\"labels\"] = processor(batch[\"target_text\"]).input_ids\n",
        "    return batch"
      ],
      "execution_count": null,
      "outputs": []
    },
    {
      "cell_type": "code",
      "metadata": {
        "colab": {
          "base_uri": "https://localhost:8080/",
          "height": 633,
          "referenced_widgets": [
            "a4cef8d0c7bd4ea1b5afef1cb942cec5",
            "e5301ee3716b4fdbb1c5566e39a83e5d",
            "fdfab51b0ee549bfb1c1b59da6e7e081",
            "a0aee3a80bd94e5cb16bcde4ea28c45f",
            "180e9039d0a34ce8b83d1221ab18603f",
            "d9ca5817339b4e44bcb65fa6caa91369",
            "b50601f79ef4430cbdaa3dff43d8ad26",
            "f87a3f9a42cd43b9a72b6adf1d2d5a07",
            "6530b55003dc4565a52884f962a07d0d",
            "6ff471c23155400e8b5fbf34835af6ea",
            "f83b3e36f48b44599f5de88bbf517ed1",
            "7da2ae7e79774da2b875d063469d6a16",
            "ad0dfb16404845b59ade26787dce730b",
            "0a56874ad024442da1dc86762c18e5bb",
            "9366508923a44ec9acc89feb82320d2b",
            "470d299a8b0443f68dc12ff6d8d979b7",
            "0bdd9b02d6da4c2d94b6b406641256d8",
            "c148db8191d64189af9e0214c3f85224",
            "7d87bcc123bf4eb4b1261c9f9762f401",
            "35b1d17050524d95a98ff275a1379a2a",
            "658e35e8a94144b1afea76543625aa90",
            "1a414d3b78ae494c9cb89d2a56916823",
            "78799dbfaf4b450dbebafbf64393377a",
            "28172546ad0a43f8b73b7883aab1ff5d",
            "6f6caddfd27b42b0876bffffe8758920",
            "e7113b9c721c4ad7bdc6d3c5f069ec03",
            "360d8a6205024dfc89fe76307b51a68c",
            "cede2a663f294e2896f32c9455cc8ce8",
            "a6f9a1dfa0394dc0b4121110e4916e77",
            "ac6d8700c79a4318a3c37e3ed1e0f2f7",
            "f97e1d65af3f45ae80815c3009da1be8",
            "bb5a9f2c9fc64a38a4813918a4a4f807",
            "a57a5ee13d2c49e5be0b170a3aeee5ee",
            "73eb01745c4b4612acb46feab9fd0b59",
            "42eb79d66e6b459eb2692598f3b8770f",
            "fa8e5e86889d485a99491145e0e250ee",
            "6c500ba4780c4a0fa09cf7aef9df7e51",
            "bbd496f024614ddc90f5ab829abcbd64",
            "5859c279dc9d4775adf884746293aed7",
            "e886e5dfb555412c9d0b6451d4b5bc36",
            "f1f3757a23d64ef2a22931f05f4261cb",
            "b5861778878e4eb1832792cab86190bc",
            "a34c090054384044b97c5d206212ac7b",
            "f4fa8ee4252e49149fbd7077c52bfb91",
            "002c5f38ee074ef0a4a4295c0a1d2c10",
            "f311a3fbc801400bab83313892f0bbbe",
            "a6ba08520e6a42eb9e228d82a991680f",
            "9f94ece447cc4af486f880ec1c01b05a",
            "acc8a719c2d5474bb7a94ee863fe2215",
            "59589f24d741448b9ab6684c4de0b242",
            "cd8470b209af467dad79d7bae3688d7e",
            "04ecaa37833c4c22aadf4756d822de7a",
            "952ad70a9b0944d9847930b4bd2de64f",
            "ce314d27c51a4fa0b71841a5d4f5185b",
            "a3d42cc7a06a4d789e0789d00a8dae6c",
            "5c58b19ec8cc45628c58a7da6b3ae2ee",
            "58bc6f353ca64d6faec3b6a04c2dcb3a",
            "276f33ee7cc340a1a7c97108420767e3",
            "ef89e2624d3149f48ed5737e041169a2",
            "1f58ad3d753e46398dbc56f6856418a0",
            "87251d69243a476a9acf02715ae2b6c1",
            "4252af94c2ca49709e19037d583e0a1c",
            "32dcb9a9ed624253b3786a73d5a397ef",
            "164f7109aede4bcca51636eaa02d7119"
          ]
        },
        "id": "BP5G5E10_j-H",
        "outputId": "dfc8e21e-bd4d-4684-d5db-dad6f0be6820"
      },
      "source": [
        "#Preparing dataset\n",
        "training_ds = training_ds.map(prepare_dataset, remove_columns=training_ds.column_names, batch_size=8, num_proc=4, batched=True)\n",
        "test_ds = test_ds.map(prepare_dataset, remove_columns=test_ds.column_names, batch_size=8, num_proc=4, batched=True)"
      ],
      "execution_count": null,
      "outputs": [
        {
          "output_type": "stream",
          "text": [
            " "
          ],
          "name": "stdout"
        },
        {
          "output_type": "display_data",
          "data": {
            "application/vnd.jupyter.widget-view+json": {
              "model_id": "a4cef8d0c7bd4ea1b5afef1cb942cec5",
              "version_minor": 0,
              "version_major": 2
            },
            "text/plain": [
              "HBox(children=(FloatProgress(value=0.0, description='#0', max=14.0, style=ProgressStyle(description_width='ini…"
            ]
          },
          "metadata": {
            "tags": []
          }
        },
        {
          "output_type": "stream",
          "text": [
            " "
          ],
          "name": "stdout"
        },
        {
          "output_type": "display_data",
          "data": {
            "application/vnd.jupyter.widget-view+json": {
              "model_id": "6530b55003dc4565a52884f962a07d0d",
              "version_minor": 0,
              "version_major": 2
            },
            "text/plain": [
              "HBox(children=(FloatProgress(value=0.0, description='#1', max=14.0, style=ProgressStyle(description_width='ini…"
            ]
          },
          "metadata": {
            "tags": []
          }
        },
        {
          "output_type": "stream",
          "text": [
            " "
          ],
          "name": "stdout"
        },
        {
          "output_type": "display_data",
          "data": {
            "application/vnd.jupyter.widget-view+json": {
              "model_id": "0bdd9b02d6da4c2d94b6b406641256d8",
              "version_minor": 0,
              "version_major": 2
            },
            "text/plain": [
              "HBox(children=(FloatProgress(value=0.0, description='#2', max=14.0, style=ProgressStyle(description_width='ini…"
            ]
          },
          "metadata": {
            "tags": []
          }
        },
        {
          "output_type": "stream",
          "text": [
            " "
          ],
          "name": "stdout"
        },
        {
          "output_type": "display_data",
          "data": {
            "application/vnd.jupyter.widget-view+json": {
              "model_id": "6f6caddfd27b42b0876bffffe8758920",
              "version_minor": 0,
              "version_major": 2
            },
            "text/plain": [
              "HBox(children=(FloatProgress(value=0.0, description='#3', max=14.0, style=ProgressStyle(description_width='ini…"
            ]
          },
          "metadata": {
            "tags": []
          }
        },
        {
          "output_type": "stream",
          "text": [
            "/usr/local/lib/python3.7/dist-packages/numpy/core/_asarray.py:83: VisibleDeprecationWarning: Creating an ndarray from ragged nested sequences (which is a list-or-tuple of lists-or-tuples-or ndarrays with different lengths or shapes) is deprecated. If you meant to do this, you must specify 'dtype=object' when creating the ndarray\n",
            "  return array(a, dtype, copy=False, order=order)\n"
          ],
          "name": "stderr"
        },
        {
          "output_type": "stream",
          "text": [
            "\n",
            "\n",
            "\n",
            "\n"
          ],
          "name": "stdout"
        },
        {
          "output_type": "stream",
          "text": [
            "/usr/local/lib/python3.7/dist-packages/numpy/core/_asarray.py:83: VisibleDeprecationWarning: Creating an ndarray from ragged nested sequences (which is a list-or-tuple of lists-or-tuples-or ndarrays with different lengths or shapes) is deprecated. If you meant to do this, you must specify 'dtype=object' when creating the ndarray\n",
            "  return array(a, dtype, copy=False, order=order)\n"
          ],
          "name": "stderr"
        },
        {
          "output_type": "stream",
          "text": [
            " "
          ],
          "name": "stdout"
        },
        {
          "output_type": "display_data",
          "data": {
            "application/vnd.jupyter.widget-view+json": {
              "model_id": "a57a5ee13d2c49e5be0b170a3aeee5ee",
              "version_minor": 0,
              "version_major": 2
            },
            "text/plain": [
              "HBox(children=(FloatProgress(value=0.0, description='#0', max=6.0, style=ProgressStyle(description_width='init…"
            ]
          },
          "metadata": {
            "tags": []
          }
        },
        {
          "output_type": "stream",
          "text": [
            " "
          ],
          "name": "stdout"
        },
        {
          "output_type": "display_data",
          "data": {
            "application/vnd.jupyter.widget-view+json": {
              "model_id": "f1f3757a23d64ef2a22931f05f4261cb",
              "version_minor": 0,
              "version_major": 2
            },
            "text/plain": [
              "HBox(children=(FloatProgress(value=0.0, description='#1', max=6.0, style=ProgressStyle(description_width='init…"
            ]
          },
          "metadata": {
            "tags": []
          }
        },
        {
          "output_type": "stream",
          "text": [
            " "
          ],
          "name": "stdout"
        },
        {
          "output_type": "display_data",
          "data": {
            "application/vnd.jupyter.widget-view+json": {
              "model_id": "acc8a719c2d5474bb7a94ee863fe2215",
              "version_minor": 0,
              "version_major": 2
            },
            "text/plain": [
              "HBox(children=(FloatProgress(value=0.0, description='#2', max=6.0, style=ProgressStyle(description_width='init…"
            ]
          },
          "metadata": {
            "tags": []
          }
        },
        {
          "output_type": "stream",
          "text": [
            " "
          ],
          "name": "stdout"
        },
        {
          "output_type": "display_data",
          "data": {
            "application/vnd.jupyter.widget-view+json": {
              "model_id": "58bc6f353ca64d6faec3b6a04c2dcb3a",
              "version_minor": 0,
              "version_major": 2
            },
            "text/plain": [
              "HBox(children=(FloatProgress(value=0.0, description='#3', max=6.0, style=ProgressStyle(description_width='init…"
            ]
          },
          "metadata": {
            "tags": []
          }
        },
        {
          "output_type": "stream",
          "text": [
            "\n",
            "\n",
            "\n",
            "\n"
          ],
          "name": "stdout"
        }
      ]
    },
    {
      "cell_type": "code",
      "metadata": {
        "id": "R6_GRHxX_66v"
      },
      "source": [
        "import torch\n",
        "\n",
        "from dataclasses import dataclass, field\n",
        "from typing import Any, Dict, List, Optional, Union\n",
        "\n",
        "@dataclass\n",
        "class DataCollatorCTCWithPadding:\n",
        "    \"\"\"\n",
        "    Data collator that will dynamically pad the inputs received.\n",
        "    Args:\n",
        "        processor (:class:`~transformers.Wav2Vec2Processor`)\n",
        "            The processor used for proccessing the data.\n",
        "        padding (:obj:`bool`, :obj:`str` or :class:`~transformers.tokenization_utils_base.PaddingStrategy`, `optional`, defaults to :obj:`True`):\n",
        "            Select a strategy to pad the returned sequences (according to the model's padding side and padding index)\n",
        "            among:\n",
        "            * :obj:`True` or :obj:`'longest'`: Pad to the longest sequence in the batch (or no padding if only a single\n",
        "              sequence if provided).\n",
        "            * :obj:`'max_length'`: Pad to a maximum length specified with the argument :obj:`max_length` or to the\n",
        "              maximum acceptable input length for the model if that argument is not provided.\n",
        "            * :obj:`False` or :obj:`'do_not_pad'` (default): No padding (i.e., can output a batch with sequences of\n",
        "              different lengths).\n",
        "        max_length (:obj:`int`, `optional`):\n",
        "            Maximum length of the ``input_values`` of the returned list and optionally padding length (see above).\n",
        "        max_length_labels (:obj:`int`, `optional`):\n",
        "            Maximum length of the ``labels`` returned list and optionally padding length (see above).\n",
        "        pad_to_multiple_of (:obj:`int`, `optional`):\n",
        "            If set will pad the sequence to a multiple of the provided value.\n",
        "            This is especially useful to enable the use of Tensor Cores on NVIDIA hardware with compute capability >=\n",
        "            7.5 (Volta).\n",
        "    \"\"\"\n",
        "\n",
        "    processor: Wav2Vec2Processor\n",
        "    padding: Union[bool, str] = True\n",
        "    max_length: Optional[int] = None\n",
        "    max_length_labels: Optional[int] = None\n",
        "    pad_to_multiple_of: Optional[int] = None\n",
        "    pad_to_multiple_of_labels: Optional[int] = None\n",
        "\n",
        "    def __call__(self, features: List[Dict[str, Union[List[int], torch.Tensor]]]) -> Dict[str, torch.Tensor]:\n",
        "        # split inputs and labels since they have to be of different lenghts and need\n",
        "        # different padding methods\n",
        "        input_features = [{\"input_values\": feature[\"input_values\"]} for feature in features]\n",
        "        label_features = [{\"input_ids\": feature[\"labels\"]} for feature in features]\n",
        "\n",
        "        batch = self.processor.pad(\n",
        "            input_features,\n",
        "            padding=self.padding,\n",
        "            max_length=self.max_length,\n",
        "            pad_to_multiple_of=self.pad_to_multiple_of,\n",
        "            return_tensors=\"pt\",\n",
        "        )\n",
        "        with self.processor.as_target_processor():\n",
        "            labels_batch = self.processor.pad(\n",
        "                label_features,\n",
        "                padding=self.padding,\n",
        "                max_length=self.max_length_labels,\n",
        "                pad_to_multiple_of=self.pad_to_multiple_of_labels,\n",
        "                return_tensors=\"pt\",\n",
        "            )\n",
        "\n",
        "        # replace padding with -100 to ignore loss correctly\n",
        "        labels = labels_batch[\"input_ids\"].masked_fill(labels_batch.attention_mask.ne(1), -100)\n",
        "\n",
        "        batch[\"labels\"] = labels\n",
        "\n",
        "        return batch"
      ],
      "execution_count": null,
      "outputs": []
    },
    {
      "cell_type": "code",
      "metadata": {
        "id": "4Rd-rI2n_99z"
      },
      "source": [
        "#Collecting data\n",
        "data_collator = DataCollatorCTCWithPadding(processor=processor, padding=True)"
      ],
      "execution_count": null,
      "outputs": []
    },
    {
      "cell_type": "code",
      "metadata": {
        "colab": {
          "base_uri": "https://localhost:8080/",
          "height": 220,
          "referenced_widgets": [
            "a68ea3707a7f44c396f99afc3cda61f0",
            "436a68f9c7e84446ae1e45a892395399",
            "a02d01900197455786c945632814fd95",
            "fb01ecd9a90548548c43ceb8e43727c6",
            "8eab8aac556b4dc28032c5d4eb612fe5",
            "fa792297bfe64663908fd5c5134deeba",
            "e66642132d3445a9814606d409a2d976",
            "cfb67ab8e8344fc7972d52d3b35056d7",
            "921a4681322d4cb7b45bad713ccb0340",
            "b87d1d1720564df4a2becd2bf282b4b3",
            "9ba456a5c446483982c794844a218c68",
            "6cbe9370c5924a128957c31bf0a6590d",
            "7abb2db6ba7247e68dbfa2ad2d0393f2",
            "12b62a7b6d37453bb58d3ecae2489284",
            "1c847db130dc40e295523d2442d46cf6",
            "214ddcfb03c24d818364f7b50d5bac90"
          ]
        },
        "id": "bmvt7kWkACsi",
        "outputId": "cc0b94e5-7792-4217-aecf-e3f01df29e2b"
      },
      "source": [
        "from transformers import Wav2Vec2ForCTC\n",
        "\n",
        "model = Wav2Vec2ForCTC.from_pretrained(\n",
        "    \"facebook/wav2vec2-large-xlsr-53\",\n",
        "    attention_dropout=0.1,\n",
        "    hidden_dropout=0.1,\n",
        "    feat_proj_dropout=0.0,\n",
        "    mask_time_prob=0.05,\n",
        "    layerdrop=0.1,\n",
        "    gradient_checkpointing=True,\n",
        "    ctc_loss_reduction=\"mean\",\n",
        "    pad_token_id=processor.tokenizer.pad_token_id,\n",
        "    vocab_size=len(processor.tokenizer)\n",
        ")"
      ],
      "execution_count": null,
      "outputs": [
        {
          "output_type": "display_data",
          "data": {
            "application/vnd.jupyter.widget-view+json": {
              "model_id": "a68ea3707a7f44c396f99afc3cda61f0",
              "version_minor": 0,
              "version_major": 2
            },
            "text/plain": [
              "HBox(children=(FloatProgress(value=0.0, description='Downloading', max=1768.0, style=ProgressStyle(description…"
            ]
          },
          "metadata": {
            "tags": []
          }
        },
        {
          "output_type": "stream",
          "text": [
            "\n"
          ],
          "name": "stdout"
        },
        {
          "output_type": "display_data",
          "data": {
            "application/vnd.jupyter.widget-view+json": {
              "model_id": "921a4681322d4cb7b45bad713ccb0340",
              "version_minor": 0,
              "version_major": 2
            },
            "text/plain": [
              "HBox(children=(FloatProgress(value=0.0, description='Downloading', max=1269737156.0, style=ProgressStyle(descr…"
            ]
          },
          "metadata": {
            "tags": []
          }
        },
        {
          "output_type": "stream",
          "text": [
            "\n"
          ],
          "name": "stdout"
        },
        {
          "output_type": "stream",
          "text": [
            "Some weights of the model checkpoint at facebook/wav2vec2-large-xlsr-53 were not used when initializing Wav2Vec2ForCTC: ['quantizer.codevectors', 'quantizer.weight_proj.weight', 'quantizer.weight_proj.bias', 'project_q.weight', 'project_q.bias', 'project_hid.weight', 'project_hid.bias']\n",
            "- This IS expected if you are initializing Wav2Vec2ForCTC from the checkpoint of a model trained on another task or with another architecture (e.g. initializing a BertForSequenceClassification model from a BertForPreTraining model).\n",
            "- This IS NOT expected if you are initializing Wav2Vec2ForCTC from the checkpoint of a model that you expect to be exactly identical (initializing a BertForSequenceClassification model from a BertForSequenceClassification model).\n",
            "Some weights of Wav2Vec2ForCTC were not initialized from the model checkpoint at facebook/wav2vec2-large-xlsr-53 and are newly initialized: ['lm_head.weight', 'lm_head.bias']\n",
            "You should probably TRAIN this model on a down-stream task to be able to use it for predictions and inference.\n"
          ],
          "name": "stderr"
        }
      ]
    },
    {
      "cell_type": "code",
      "metadata": {
        "id": "LS4IFKQDAgbo"
      },
      "source": [
        "model.freeze_feature_extractor()"
      ],
      "execution_count": null,
      "outputs": []
    },
    {
      "cell_type": "code",
      "metadata": {
        "colab": {
          "base_uri": "https://localhost:8080/",
          "height": 86
        },
        "id": "CqgsUUe7Ajxl",
        "outputId": "42ad6d08-8627-48a2-8dc6-175c8a0465df"
      },
      "source": [
        "from transformers import TrainingArguments\n",
        "\n",
        "training_args = TrainingArguments(\n",
        "  output_dir=\"/content/gdrive/MyDrive/Urdu_demo\",\n",
        "  # output_dir=\"./wav2vec2-large-xlsr-turkish-demo\",\n",
        "  group_by_length=True,\n",
        "  per_device_train_batch_size=16,\n",
        "  gradient_accumulation_steps=2,\n",
        "  evaluation_strategy=\"steps\",\n",
        "  num_train_epochs=30,\n",
        "  fp16=True,\n",
        "  save_steps=400,\n",
        "  eval_steps=400,\n",
        "  logging_steps=400,\n",
        "  learning_rate=3e-4,\n",
        "  warmup_steps=500,\n",
        "  save_total_limit=2,\n",
        ")"
      ],
      "execution_count": null,
      "outputs": [
        {
          "output_type": "execute_result",
          "data": {
            "application/vnd.google.colaboratory.intrinsic+json": {
              "type": "string"
            },
            "text/plain": [
              "'from transformers import TrainingArguments\\n\\ntraining_args = TrainingArguments(\\n  output_dir=\"/content/gdrive/MyDrive/Urdu_demo\",\\n  # output_dir=\"./wav2vec2-large-xlsr-turkish-demo\",\\n  group_by_length=True,\\n  per_device_train_batch_size=16,\\n  gradient_accumulation_steps=2,\\n  evaluation_strategy=\"steps\",\\n  num_train_epochs=30,\\n  fp16=True,\\n  save_steps=400,\\n  eval_steps=400,\\n  logging_steps=400,\\n  learning_rate=3e-4,\\n  warmup_steps=500,\\n  save_total_limit=2,\\n)'"
            ]
          },
          "metadata": {
            "tags": []
          },
          "execution_count": 113
        }
      ]
    },
    {
      "cell_type": "code",
      "metadata": {
        "colab": {
          "base_uri": "https://localhost:8080/"
        },
        "id": "z_ofD-DWBMZa",
        "outputId": "cb68fb73-5c0f-4a09-8a5b-6d0234b31163"
      },
      "source": [
        "trainer.train()"
      ],
      "execution_count": null,
      "outputs": [
        {
          "output_type": "stream",
          "text": [
            "Trained Successfully\n"
          ],
          "name": "stdout"
        }
      ]
    },
    {
      "cell_type": "code",
      "metadata": {
        "colab": {
          "base_uri": "https://localhost:8080/"
        },
        "id": "cJMwJtXEBfrH",
        "outputId": "6a1f1056-4c7f-455a-c030-ee60e0ae16a3"
      },
      "source": [
        "model = Wav2Vec2ForCTC.from_pretrained(\"patrickvonplaten/urdu-demo\").to(\"cuda\")\n",
        "processor = Wav2Vec2Processor.from_pretrained(\"patrickvonplaten/urdu-demo\")"
      ],
      "execution_count": null,
      "outputs": [
        {
          "output_type": "stream",
          "text": [
            "Special tokens have been added in the vocabulary, make sure the associated word embedding are fine-tuned or trained\n"
          ],
          "name": "stdout"
        }
      ]
    },
    {
      "cell_type": "code",
      "metadata": {
        "colab": {
          "base_uri": "https://localhost:8080/"
        },
        "id": "JvpKmCPWB1Hn",
        "outputId": "40e98241-047c-41b2-f824-bf54c8926b0e"
      },
      "source": [
        "input_dict = processor(common_voice_test[0][\"input_values\"], return_tensors=\"pt\", padding=True)\n",
        "\n",
        "logits = model(input_dict.input_values.to(\"cuda\")).logits\n",
        "\n",
        "pred_ids = torch.argmax(logits, dim=-1)[0]\n"
      ],
      "execution_count": null,
      "outputs": [
        {
          "output_type": "stream",
          "text": [
            "It is strongly recommended to pass the ``sampling_rate`` argument to this function.Failing to do so can result in silent errors that might be hard to debug\n"
          ],
          "name": "stdout"
        }
      ]
    },
    {
      "cell_type": "code",
      "metadata": {
        "colab": {
          "base_uri": "https://localhost:8080/"
        },
        "id": "JBvSYtkXCEOA",
        "outputId": "3d067c05-4f23-4ad5-c219-d5815635a52a"
      },
      "source": [
        "print(\"Prediction:\")\n",
        "print(prediction[0][\"sentence\"])\n",
        "\n",
        "print(\"\\nReference:\")\n",
        "print(test_transcription[0][\"sentence\"].lower())"
      ],
      "execution_count": null,
      "outputs": [
        {
          "output_type": "stream",
          "text": [
            "Prediction:\n",
            "اسلام علیکم یاد کر رہا ہں جی فرمائے آپ سے کیا مدد کر سکتا ہوں\n",
            "\n",
            "Reference:\n",
            "اسلام علیکم بات کر رہا ہوں جی فرمائے میں آپکی کیا مدد کر سکتا ہوں\n"
          ],
          "name": "stdout"
        }
      ]
    },
    {
      "cell_type": "code",
      "metadata": {
        "colab": {
          "base_uri": "https://localhost:8080/"
        },
        "id": "fmQ4D9ILD7O4",
        "outputId": "028056b8-cfd1-4376-c5e4-d68a5c32fd57"
      },
      "source": [
        "\n",
        "#################Module to Calculate Edit Distance between Reference and Prediction##################\n",
        "##################################Implemented By Self#######################################\n",
        "Edit_Distance=0\n",
        "#Function to genrate array of words\n",
        "def wordTokenizer(text):\n",
        "    words=[]\n",
        "    current_word=\"\"\n",
        "    for c in text:\n",
        "      #Detecting word boundries\n",
        "      if c==\" \"  or c==\"۔\" or ord(c)==10 or ord(c)==9:\n",
        "          if current_word!=\"\":\n",
        "              words.append(current_word)\n",
        "              current_word=\"\"\n",
        "      else:\n",
        "        current_word=current_word+c\n",
        "\n",
        "    if current_word!=\"\":\n",
        "      words.append(current_word)\n",
        "\n",
        "    return words\n",
        "\n",
        "\n",
        "\n",
        "#Function to count word occurance in sequence\n",
        "def getWordCount(word,sequence):\n",
        "  #sequence=wordTokenizer(sequence)\n",
        "  count=0\n",
        "  for w in sequence:\n",
        "    if w==word:\n",
        "      count=count+1\n",
        "\n",
        "  return count\n",
        "\n",
        "\n",
        "s=769\n",
        "#Function to get optimal mapping from words to word\n",
        "def getMapping(ref,pre):\n",
        "  ref=wordTokenizer(ref)\n",
        "  pre=wordTokenizer(pre)\n",
        "\n",
        "  mapped=[]\n",
        "  map={}\n",
        "  n=0\n",
        "  #Loop for each char in src\n",
        "  for j in range(0,len(ref)):\n",
        "    s=ref[j]\n",
        "    for i in range(n,len(pre)):\n",
        "      t=pre[i]\n",
        "      #If can be mapped\n",
        "      if s==t:\n",
        "        mapped.append(s)\n",
        "        map[j]=i\n",
        "        n=i+1\n",
        "        break\n",
        "      else:\n",
        "\n",
        "          ref_count_c = getWordCount(pre[i], ref[j:len(ref)])\n",
        "          pre_count_c=getWordCount(pre[i],pre[i:len(pre)])\n",
        "          #Check if we cross a char or not to get optimal mapping\n",
        "          if ref_count_c<=pre_count_c and ref_count_c>0:\n",
        "             #print(tar[i]+str(i)+\" Cant sacrifise to map \"+s)\n",
        "             n = i\n",
        "             break\n",
        "\n",
        "\n",
        "  #print(mapped)\n",
        "  return map\n",
        "\n",
        "\n",
        "\n",
        "\n",
        "total_sentences=s\n",
        "#Function to detect missed maped Words\n",
        "def MissedMaps(ref,pre,mapping):\n",
        "    ref=wordTokenizer(ref)\n",
        "    pre=wordTokenizer(pre)\n",
        "\n",
        "    s_index = 0\n",
        "    t_index = 0\n",
        "    current_key=-1\n",
        "    ref_misseds=[]\n",
        "    pre_misseds=[]\n",
        "    #Loop for each mapped char\n",
        "    for key in mapping:\n",
        "        current_key=key\n",
        "        s_i = key;\n",
        "        t_i = mapping[s_i]\n",
        "        ref_sub = \"\"\n",
        "        pre_sub = \"\"\n",
        "        #Loop to concatinate ref miss mapped words\n",
        "        for i in range(s_index, s_i):\n",
        "          ref_sub=ref_sub+ref[i]+\" \"\n",
        "        for i in range(t_index, t_i):\n",
        "          pre_sub=pre_sub+pre[i]+\" \"\n",
        "\n",
        "        #Updatings\n",
        "        if not (ref_sub==\"\" and pre_sub==\"\"):\n",
        "          ref_misseds.append(ref_sub)\n",
        "          pre_misseds.append(pre_sub)\n",
        "        s_index=s_i+1\n",
        "        t_index=t_i+1\n",
        "    #Getting words from last\n",
        "    ref_sub = \"\"\n",
        "    pre_sub = \"\"\n",
        "    for i in range(s_index, len(ref)):\n",
        "        ref_sub=ref_sub+ref[i]+\" \"\n",
        "    for i in range(t_index,len(pre)):\n",
        "        pre_sub=pre_sub+pre[i]+\" \"\n",
        "\n",
        "    #Updatings\n",
        "    if not (ref_sub==\"\" and pre_sub==\"\"):\n",
        "      ref_misseds.append(ref_sub)\n",
        "      pre_misseds.append(pre_sub)\n",
        "\n",
        "    l=[ref_misseds,pre_misseds]\n",
        "    return l\n",
        "\n",
        "\n",
        "\n",
        "\n",
        "#Function to detect Operations\n",
        "def detectOprs(src,tar):\n",
        "    global Edit_Distance\n",
        "    src=wordTokenizer(src)\n",
        "    tar=wordTokenizer(tar)\n",
        "\n",
        "    src_list=[]\n",
        "    tar_list=[]\n",
        "    #Genrating two equal lists to map missed mapping\n",
        "    if len(src)>len(tar):\n",
        "        for i in range(0,len(src)):\n",
        "            src_list.append(src[i])\n",
        "            try:\n",
        "                tar_list.append(tar[i])\n",
        "            except:\n",
        "                tar_list.append(\"\")\n",
        "\n",
        "    else:\n",
        "        for i in range(0,len(tar)):\n",
        "            tar_list.append(tar[i])\n",
        "            try:\n",
        "                src_list.append(src[i])\n",
        "            except:\n",
        "                src_list.append(\"\")\n",
        "\n",
        "    Edit_Distance=Edit_Distance+len(src_list)\n",
        "\n",
        "\n",
        "\n",
        "\n",
        "#Function to calculate the Word Error Rate\n",
        "def getWordErrorRate(ref,pre):\n",
        "     global Edit_Distance\n",
        "     mapping=getMapping(ref,pre)\n",
        "     l=MissedMaps(ref,pre,mapping)\n",
        "     ref_subs=l[0]\n",
        "     pre_subs=l[1]\n",
        "     for i in range(0,len(ref_subs)):\n",
        "        detectOprs(ref_subs[i],pre_subs[i])\n",
        "\n",
        "     t=len(wordTokenizer(ref))\n",
        "     wer=Edit_Distance/(t)\n",
        "     Edit_Distance=0\n",
        "     return wer\n",
        "\n",
        "\n",
        "\n",
        "\n",
        "\n",
        "\n",
        "\n",
        "\n",
        "\n",
        "wer=0\n",
        "for i in range(0,169):\n",
        "  pre=prediction[i][\"sentence\"]\n",
        "  ref=test_transcription[i][\"sentence\"]\n",
        "  wer=wer+getWordErrorRateOverTestDataSet(pre,ref)\n",
        "\n",
        "\n",
        "wer=wer/total_sentences\n",
        "print(\"Word Error Rate Over the Whole Test Set:\"+str(wer))\n",
        "\n",
        "\n",
        "\n"
      ],
      "execution_count": null,
      "outputs": [
        {
          "output_type": "stream",
          "text": [
            "Word Error Rate Over the Whole Test Set:0.27837017771998374\n"
          ],
          "name": "stdout"
        }
      ]
    },
    {
      "cell_type": "markdown",
      "metadata": {
        "id": "qo4kYrFD7Kkz"
      },
      "source": [
        "# **Research Report:**\n",
        "## *Introduction*:\n",
        "Wav2Vec2 is a pretrained model for Automatic Speech Recognition (ASR) and was released in September 2020 by Alexei Baevski, Michael Auli, and Alex Conneau. Soon after the superior performance of Wav2Vec2 was demonstrated on the English ASR dataset LibriSpeech, Facebook AI presented XLSR-Wav2Vec2 (click here). XLSR stands for cross-lingual speech representations and refers to XLSR-Wav2Vec2`s ability to learn speech representations that are useful across multiple languages.\n",
        "\n",
        "Similar to Wav2Vec2, XLSR-Wav2Vec2 learns powerful speech representations from hundreds of thousands of hours of speech in more than 50 languages of unlabeled speech. Similar, to BERT's masked language modeling, the model learns contextualized speech representations by randomly masking feature vectors before passing them to a transformer network.\n",
        "## *Prepare Data, Tokenizer, Feature Extractor*:\n",
        "ASR models transcribe speech to text, which means that we both need a feature extractor that processes the speech signal to the model's input format, e.g. a feature vector, and a tokenizer that processes the model's output format to text.\n",
        "\n",
        "In 🤗 Transformers, the XLSR-Wav2Vec2 model is thus accompanied by both a tokenizer, called Wav2Vec2CTCTokenizer, and a feature extractor, called Wav2Vec2FeatureExtractor.\n",
        "\n",
        "## *Create Wav2Vec2CTCTokenizer*:\n",
        "The pretrained Wav2Vec2 checkpoint maps the speech signal to a sequence of context representations as illustrated in the figure above. A fine-tuned XLSR-Wav2Vec2 checkpoint needs to map this sequence of context representations to its corresponding transcription so that a linear layer has to be added on top of the transformer block (shown in yellow). This linear layer is used to classifies each context representation to a token class analogous how, e.g., after pretraining a linear layer is added on top of BERT's embeddings for further classification - cf. with *\"BERT\"* section of this blog post.\n",
        "\n",
        "The output size of this layer corresponds to the number of tokens in the vocabulary, which does not depend on XLSR-Wav2Vec2's pretraining task, but only on the labeled dataset used for fine-tuning. So in the first step, we will take a look at Common Voice and define a vocabulary based on the dataset's transcriptions.\n",
        "\n",
        "## *Create Wav2Vec2CTCTokenizer*:\n",
        "We can see that the transcriptions contain some special characters, such as ,.?!;:. Without a language model, it is much harder to classify speech chunks to such special characters because they don't really correspond to a characteristic sound unit. E.g., the letter \"s\" has a more or less clear sound, whereas the special character \".\" does not. Also in order to understand the meaning of a speech signal, it is usually not necessary to include special characters in the transcription.\n",
        "\n",
        "In addition, we normalize the text to only have lower case letters and append a word separator token at the end.\n",
        "\n",
        "## *Create XLSR-Wav2Vec2 Feature Extractor*:\n",
        "Speech is a continuous signal and to be treated by computers, it first has to be discretized, which is usually called sampling. The sampling rate hereby plays an important role in that it defines how many data points of the speech signal are measured per second. Therefore, sampling with a higher sampling rate results in a better approximation of the real speech signal but also necessitates more values per second.\n",
        "\n",
        "A pretrained checkpoint expects its input data to have been sampled more or less from the same distribution as the data it was trained on. The same speech signals sampled at two different rates have a very different distribution, e.g., doubling the sampling rate results in data points being twice as long. Thus, before fine-tuning a pretrained checkpoint of an ASR model, it is crucial to verify that the sampling rate of the data that was used to pretrain the model matches the sampling rate of the dataset used to fine-tune the model.\n",
        "\n",
        "XLSR-Wav2Vec2 was pretrained on the audio data of Babel, Multilingual LibriSpeech (MLS), and Common Voice. Most of those datasets were sampled at 16kHz, so that Common Voice, sampled at 48kHz, has to be downsampled to 16kHz for training. Therefore, we will have to downsample our fine-tuning data to 16kHz in the following.\n",
        "\n",
        "## Training\n",
        "\n",
        "The data is processed so that we are ready to start setting up the training pipeline. We will make use of 🤗's [Trainer](https://huggingface.co/transformers/master/main_classes/trainer.html?highlight=trainer) for which we essentially need to do the following:\n",
        "\n",
        "- Define a data collator. In contrast to most NLP models, XLSR-Wav2Vec2 has a much larger input length than output length. *E.g.*, a sample of input length 50000 has an output length of no more than 100. Given the large input sizes, it is much more efficient to pad the training batches dynamically meaning that all training samples should only be padded to the longest sample in their batch and not the overall longest sample. Therefore, fine-tuning XLSR-Wav2Vec2 requires a special padding data collator, which we will define below\n",
        "\n",
        "- Evaluation metric. During training, the model should be evaluated on the word error rate. We should define a `compute_metrics` function accordingly\n",
        "\n",
        "- Load a pretrained checkpoint. We need to load a pretrained checkpoint and configure it correctly for training.\n",
        "\n",
        "\n",
        "## *End of Documentation*:\n",
        "\n",
        "\n"
      ]
    }
  ]
}