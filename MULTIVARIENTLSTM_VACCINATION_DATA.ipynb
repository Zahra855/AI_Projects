{
  "cells": [
    {
      "cell_type": "code",
      "execution_count": 1,
      "metadata": {
        "id": "w0aqTZ6kVW6v",
        "colab": {
          "base_uri": "https://localhost:8080/"
        },
        "outputId": "01e43839-bfd2-4598-db8b-5350205b4c02"
      },
      "outputs": [
        {
          "output_type": "stream",
          "name": "stdout",
          "text": [
            "\u001b[31mERROR: pip's dependency resolver does not currently take into account all the packages that are installed. This behaviour is the source of the following dependency conflicts.\n",
            "markdown 3.3.7 requires importlib-metadata>=4.4; python_version < \"3.10\", but you have importlib-metadata 2.1.3 which is incompatible.\u001b[0m\n"
          ]
        }
      ],
      "source": [
        "!pip install -Uq watermark"
      ]
    },
    {
      "cell_type": "code",
      "execution_count": 2,
      "metadata": {
        "id": "A1d67LWwUtdx"
      },
      "outputs": [],
      "source": [
        "import numpy as np\n",
        "from tensorflow.keras.models import Sequential\n",
        "from tensorflow.keras.layers import LSTM\n",
        "from tensorflow.keras.layers import Dense, Dropout\n",
        "import pandas as pd\n",
        "from matplotlib import pyplot as plt\n",
        "from sklearn.preprocessing import StandardScaler\n",
        "import seaborn as sns\n",
        "import datetime as dt\n",
        "from datetime import datetime\n",
        "\n",
        "from keras.callbacks import EarlyStopping, ReduceLROnPlateau, ModelCheckpoint, TensorBoard\n"
      ]
    },
    {
      "cell_type": "code",
      "execution_count": 3,
      "metadata": {
        "id": "cdFc4KrvU2Mf",
        "colab": {
          "base_uri": "https://localhost:8080/"
        },
        "outputId": "adfd4b4e-000f-4d24-8ecd-e0d8bdeacd39"
      },
      "outputs": [
        {
          "output_type": "stream",
          "name": "stdout",
          "text": [
            "Mounted at /content/drive\n",
            "connected to my drive\n"
          ]
        }
      ],
      "source": [
        "from google.colab import drive\n",
        "drive.mount('/content/drive')\n",
        "print(\"connected to my drive\")"
      ]
    },
    {
      "cell_type": "code",
      "execution_count": 4,
      "metadata": {
        "id": "orPj89uYVF-1"
      },
      "outputs": [],
      "source": [
        "path2 = '/content/drive/MyDrive/latest_vaccination_data_tweets.csv'\n",
        "df = pd.read_csv(path2)\n"
      ]
    },
    {
      "cell_type": "code",
      "source": [
        "df"
      ],
      "metadata": {
        "id": "qsM02oqdAI-T"
      },
      "execution_count": null,
      "outputs": []
    },
    {
      "cell_type": "code",
      "source": [
        "df= df[['date','total_cases','total_deaths','total_vaccinations','people_vaccinated','people_fully_vaccinated','Negative','Positive']]"
      ],
      "metadata": {
        "id": "mpCpgLSFAqLn"
      },
      "execution_count": 6,
      "outputs": []
    },
    {
      "cell_type": "code",
      "source": [
        "df"
      ],
      "metadata": {
        "id": "SiqjTUZ_BHGj"
      },
      "execution_count": null,
      "outputs": []
    },
    {
      "cell_type": "code",
      "execution_count": null,
      "metadata": {
        "id": "_TfvDvVKXsJZ"
      },
      "outputs": [],
      "source": [
        "df['date'] = pd.to_datetime(df['date'], dayfirst=True)\n",
        "df['date'] = pd.to_datetime(df['date'], format='%Y-%m-%d')\n",
        "df"
      ]
    },
    {
      "cell_type": "code",
      "source": [
        "#Plot daily vaccinations as a function of date\n",
        "plt.figure(figsize=(18,6))\n",
        "sns.lineplot(data=df, x=\"date\", y=\"people_fully_vaccinated\")\n",
        "\n",
        "plt.xticks(rotation=90)\n",
        "plt.title(\"people_fully_vaccinated\")"
      ],
      "metadata": {
        "id": "obAGgSbDbK-4",
        "colab": {
          "base_uri": "https://localhost:8080/",
          "height": 453
        },
        "outputId": "e2f632ca-3159-408b-8f19-f6e58e9beeb4"
      },
      "execution_count": 33,
      "outputs": [
        {
          "output_type": "execute_result",
          "data": {
            "text/plain": [
              "Text(0.5, 1.0, 'people_fully_vaccinated')"
            ]
          },
          "metadata": {},
          "execution_count": 33
        },
        {
          "output_type": "display_data",
          "data": {
            "text/plain": [
              "<Figure size 1296x432 with 1 Axes>"
            ],
            "image/png": "[encoded data removed]"
          },
          "metadata": {
            "needs_background": "light"
          }
        }
      ]
    },
    {
      "cell_type": "code",
      "execution_count": 34,
      "metadata": {
        "id": "WSox_9tZbvfj"
      },
      "outputs": [],
      "source": [
        "from datetime import datetime\n",
        "train_test_split = datetime.strptime('2021-12-03', '%Y-%m-%d')\n",
        "df_train = df.loc[df['date'] < train_test_split]\n",
        "df_test = df.loc[df['date'] >= train_test_split]"
      ]
    },
    {
      "cell_type": "code",
      "execution_count": 36,
      "metadata": {
        "id": "r8jbtIKVXWjk",
        "colab": {
          "base_uri": "https://localhost:8080/"
        },
        "outputId": "08de0a05-df5a-44ba-8dee-3f2c325c7352"
      },
      "outputs": [
        {
          "output_type": "stream",
          "name": "stdout",
          "text": [
            "Training set shape == (336, 8)\n",
            "All timestamps == 336\n",
            "Featured selected: ['total_cases', 'total_deaths', 'total_vaccinations', 'people_vaccinated', 'people_fully_vaccinated', 'Negative', 'Positive']\n",
            "Training set shape == (142, 8)\n",
            "All timestamps == 142\n",
            "Featured selected: ['total_cases', 'total_deaths', 'total_vaccinations', 'people_vaccinated', 'people_fully_vaccinated', 'Negative', 'Positive']\n"
          ]
        }
      ],
      "source": [
        "# Importing Training Set\n",
        "dataset_train = df_train\n",
        "dataset_test=df_test\n",
        "\n",
        "# Select features (columns) to be involved intro training and predictions\n",
        "cols = list(dataset_train)[1:8]\n",
        "cols_test = list(dataset_test)[1:8]\n",
        "\n",
        "# Extract dates (will be used in visualization)\n",
        "datelist_train = list(dataset_train['date'])\n",
        "datelist_test = list(dataset_test['date'])\n",
        "\n",
        "# datelist_train = [dt.datetime.strptime(date, '%Y-%m-%d').date() for date in datelist_train]\n",
        "\n",
        "print('Training set shape == {}'.format(dataset_train.shape))\n",
        "print('All timestamps == {}'.format(len(datelist_train)))\n",
        "print('Featured selected: {}'.format(cols))\n",
        "\n",
        "print('Training set shape == {}'.format(dataset_test.shape))\n",
        "print('All timestamps == {}'.format(len(datelist_test)))\n",
        "print('Featured selected: {}'.format(cols_test))"
      ]
    },
    {
      "cell_type": "code",
      "execution_count": 37,
      "metadata": {
        "id": "-DUg8W_v6vn0",
        "colab": {
          "base_uri": "https://localhost:8080/"
        },
        "outputId": "f6379064-3d92-4f08-c18f-2638dced28e0"
      },
      "outputs": [
        {
          "output_type": "execute_result",
          "data": {
            "text/plain": [
              "['total_cases',\n",
              " 'total_deaths',\n",
              " 'total_vaccinations',\n",
              " 'people_vaccinated',\n",
              " 'people_fully_vaccinated',\n",
              " 'Negative',\n",
              " 'Positive']"
            ]
          },
          "metadata": {},
          "execution_count": 37
        }
      ],
      "source": [
        "cols"
      ]
    },
    {
      "cell_type": "code",
      "execution_count": 38,
      "metadata": {
        "id": "Ap1nT7hQ6fs9"
      },
      "outputs": [],
      "source": [
        "cols = list(df_train)[1:8]\n",
        "cols_test = list(df_test)[1:8]"
      ]
    },
    {
      "cell_type": "code",
      "execution_count": 15,
      "metadata": {
        "id": "HPdUC1ddklSe",
        "colab": {
          "base_uri": "https://localhost:8080/"
        },
        "outputId": "0241a7f1-a62d-48fd-c4a2-ccd5de554fa8"
      },
      "outputs": [
        {
          "output_type": "execute_result",
          "data": {
            "text/plain": [
              "['total_cases',\n",
              " 'total_deaths',\n",
              " 'total_vaccinations',\n",
              " 'people_vaccinated',\n",
              " 'people_fully_vaccinated']"
            ]
          },
          "metadata": {},
          "execution_count": 15
        }
      ],
      "source": [
        "cols"
      ]
    },
    {
      "cell_type": "code",
      "execution_count": 16,
      "metadata": {
        "id": "IdKN-LFmkiDl",
        "colab": {
          "base_uri": "https://localhost:8080/"
        },
        "outputId": "d99bd021-92a3-4f78-a5c8-a6103f2439e0"
      },
      "outputs": [
        {
          "output_type": "execute_result",
          "data": {
            "text/plain": [
              "['total_cases',\n",
              " 'total_deaths',\n",
              " 'total_vaccinations',\n",
              " 'people_vaccinated',\n",
              " 'people_fully_vaccinated']"
            ]
          },
          "metadata": {},
          "execution_count": 16
        }
      ],
      "source": [
        "cols_test"
      ]
    },
    {
      "cell_type": "code",
      "execution_count": 39,
      "metadata": {
        "id": "issZbidPkpZL",
        "colab": {
          "base_uri": "https://localhost:8080/",
          "height": 424
        },
        "outputId": "21d74cfc-24ab-4339-c002-5c1cd149a995"
      },
      "outputs": [
        {
          "output_type": "execute_result",
          "data": {
            "text/plain": [
              "          date  total_cases  total_deaths  total_vaccinations  \\\n",
              "336 2021-12-03   58642457.0     1176308.0         770464034.0   \n",
              "337 2021-12-04   58713446.0     1177021.0         772124960.0   \n",
              "338 2021-12-05   58776809.0     1177763.0         774232662.0   \n",
              "339 2021-12-06   58962044.0     1179386.0         776442627.0   \n",
              "340 2021-12-07   59080778.0     1181016.0         778699151.0   \n",
              "..         ...          ...           ...                 ...   \n",
              "473 2022-04-19   95544347.0     1425176.0         976943068.0   \n",
              "474 2022-04-20   95634436.0     1426305.0         978498233.0   \n",
              "475 2022-04-21   95709192.0     1426802.0         979792525.0   \n",
              "476 2022-04-22   95819697.0     1427496.0         981095387.0   \n",
              "477 2022-04-23   95849087.0     1427710.0         981440260.0   \n",
              "\n",
              "     people_vaccinated  people_fully_vaccinated  Negative  Positive  \n",
              "336        388703973.0              334836140.0     0.033     0.050  \n",
              "337        389079598.0              335325500.0     0.018     0.019  \n",
              "338        390243318.0              335837292.0     0.000     0.000  \n",
              "339        390778187.0              336306068.0     0.092     0.181  \n",
              "340        391282108.0              336721339.0     0.017     0.007  \n",
              "..                 ...                      ...       ...       ...  \n",
              "473        427275424.0              376127683.0     0.125     0.000  \n",
              "474        427361419.0              376188792.0     0.081     0.000  \n",
              "475        427481556.0              376283883.0     0.030     0.149  \n",
              "476        427612279.0              376361456.0     0.071     0.046  \n",
              "477        427651963.0              376397434.0     0.040     0.120  \n",
              "\n",
              "[142 rows x 8 columns]"
            ],
            "text/html": [
              "\n",
              "  <div id=\"df-88c2db9a-6395-44e3-99ea-506966b665df\">\n",
              "    <div class=\"colab-df-container\">\n",
              "      <div>\n",
              "<style scoped>\n",
              "    .dataframe tbody tr th:only-of-type {\n",
              "        vertical-align: middle;\n",
              "    }\n",
              "\n",
              "    .dataframe tbody tr th {\n",
              "        vertical-align: top;\n",
              "    }\n",
              "\n",
              "    .dataframe thead th {\n",
              "        text-align: right;\n",
              "    }\n",
              "</style>\n",
              "<table border=\"1\" class=\"dataframe\">\n",
              "  <thead>\n",
              "    <tr style=\"text-align: right;\">\n",
              "      <th></th>\n",
              "      <th>date</th>\n",
              "      <th>total_cases</th>\n",
              "      <th>total_deaths</th>\n",
              "      <th>total_vaccinations</th>\n",
              "      <th>people_vaccinated</th>\n",
              "      <th>people_fully_vaccinated</th>\n",
              "      <th>Negative</th>\n",
              "      <th>Positive</th>\n",
              "    </tr>\n",
              "  </thead>\n",
              "  <tbody>\n",
              "    <tr>\n",
              "      <th>336</th>\n",
              "      <td>2021-12-03</td>\n",
              "      <td>58642457.0</td>\n",
              "      <td>1176308.0</td>\n",
              "      <td>770464034.0</td>\n",
              "      <td>388703973.0</td>\n",
              "      <td>334836140.0</td>\n",
              "      <td>0.033</td>\n",
              "      <td>0.050</td>\n",
              "    </tr>\n",
              "    <tr>\n",
              "      <th>337</th>\n",
              "      <td>2021-12-04</td>\n",
              "      <td>58713446.0</td>\n",
              "      <td>1177021.0</td>\n",
              "      <td>772124960.0</td>\n",
              "      <td>389079598.0</td>\n",
              "      <td>335325500.0</td>\n",
              "      <td>0.018</td>\n",
              "      <td>0.019</td>\n",
              "    </tr>\n",
              "    <tr>\n",
              "      <th>338</th>\n",
              "      <td>2021-12-05</td>\n",
              "      <td>58776809.0</td>\n",
              "      <td>1177763.0</td>\n",
              "      <td>774232662.0</td>\n",
              "      <td>390243318.0</td>\n",
              "      <td>335837292.0</td>\n",
              "      <td>0.000</td>\n",
              "      <td>0.000</td>\n",
              "    </tr>\n",
              "    <tr>\n",
              "      <th>339</th>\n",
              "      <td>2021-12-06</td>\n",
              "      <td>58962044.0</td>\n",
              "      <td>1179386.0</td>\n",
              "      <td>776442627.0</td>\n",
              "      <td>390778187.0</td>\n",
              "      <td>336306068.0</td>\n",
              "      <td>0.092</td>\n",
              "      <td>0.181</td>\n",
              "    </tr>\n",
              "    <tr>\n",
              "      <th>340</th>\n",
              "      <td>2021-12-07</td>\n",
              "      <td>59080778.0</td>\n",
              "      <td>1181016.0</td>\n",
              "      <td>778699151.0</td>\n",
              "      <td>391282108.0</td>\n",
              "      <td>336721339.0</td>\n",
              "      <td>0.017</td>\n",
              "      <td>0.007</td>\n",
              "    </tr>\n",
              "    <tr>\n",
              "      <th>...</th>\n",
              "      <td>...</td>\n",
              "      <td>...</td>\n",
              "      <td>...</td>\n",
              "      <td>...</td>\n",
              "      <td>...</td>\n",
              "      <td>...</td>\n",
              "      <td>...</td>\n",
              "      <td>...</td>\n",
              "    </tr>\n",
              "    <tr>\n",
              "      <th>473</th>\n",
              "      <td>2022-04-19</td>\n",
              "      <td>95544347.0</td>\n",
              "      <td>1425176.0</td>\n",
              "      <td>976943068.0</td>\n",
              "      <td>427275424.0</td>\n",
              "      <td>376127683.0</td>\n",
              "      <td>0.125</td>\n",
              "      <td>0.000</td>\n",
              "    </tr>\n",
              "    <tr>\n",
              "      <th>474</th>\n",
              "      <td>2022-04-20</td>\n",
              "      <td>95634436.0</td>\n",
              "      <td>1426305.0</td>\n",
              "      <td>978498233.0</td>\n",
              "      <td>427361419.0</td>\n",
              "      <td>376188792.0</td>\n",
              "      <td>0.081</td>\n",
              "      <td>0.000</td>\n",
              "    </tr>\n",
              "    <tr>\n",
              "      <th>475</th>\n",
              "      <td>2022-04-21</td>\n",
              "      <td>95709192.0</td>\n",
              "      <td>1426802.0</td>\n",
              "      <td>979792525.0</td>\n",
              "      <td>427481556.0</td>\n",
              "      <td>376283883.0</td>\n",
              "      <td>0.030</td>\n",
              "      <td>0.149</td>\n",
              "    </tr>\n",
              "    <tr>\n",
              "      <th>476</th>\n",
              "      <td>2022-04-22</td>\n",
              "      <td>95819697.0</td>\n",
              "      <td>1427496.0</td>\n",
              "      <td>981095387.0</td>\n",
              "      <td>427612279.0</td>\n",
              "      <td>376361456.0</td>\n",
              "      <td>0.071</td>\n",
              "      <td>0.046</td>\n",
              "    </tr>\n",
              "    <tr>\n",
              "      <th>477</th>\n",
              "      <td>2022-04-23</td>\n",
              "      <td>95849087.0</td>\n",
              "      <td>1427710.0</td>\n",
              "      <td>981440260.0</td>\n",
              "      <td>427651963.0</td>\n",
              "      <td>376397434.0</td>\n",
              "      <td>0.040</td>\n",
              "      <td>0.120</td>\n",
              "    </tr>\n",
              "  </tbody>\n",
              "</table>\n",
              "<p>142 rows × 8 columns</p>\n",
              "</div>\n",
              "      <button class=\"colab-df-convert\" onclick=\"convertToInteractive('df-88c2db9a-6395-44e3-99ea-506966b665df')\"\n",
              "              title=\"Convert this dataframe to an interactive table.\"\n",
              "              style=\"display:none;\">\n",
              "        \n",
              "  <svg xmlns=\"http://www.w3.org/2000/svg\" height=\"24px\"viewBox=\"0 0 24 24\"\n",
              "       width=\"24px\">\n",
              "    <path d=\"M0 0h24v24H0V0z\" fill=\"none\"/>\n",
              "    <path d=\"M18.56 5.44l.94 2.06.94-2.06 2.06-.94-2.06-.94-.94-2.06-.94 2.06-2.06.94zm-11 1L8.5 8.5l.94-2.06 2.06-.94-2.06-.94L8.5 2.5l-.94 2.06-2.06.94zm10 10l.94 2.06.94-2.06 2.06-.94-2.06-.94-.94-2.06-.94 2.06-2.06.94z\"/><path d=\"M17.41 7.96l-1.37-1.37c-.4-.4-.92-.59-1.43-.59-.52 0-1.04.2-1.43.59L10.3 9.45l-7.72 7.72c-.78.78-.78 2.05 0 2.83L4 21.41c.39.39.9.59 1.41.59.51 0 1.02-.2 1.41-.59l7.78-7.78 2.81-2.81c.8-.78.8-2.07 0-2.86zM5.41 20L4 18.59l7.72-7.72 1.47 1.35L5.41 20z\"/>\n",
              "  </svg>\n",
              "      </button>\n",
              "      \n",
              "  <style>\n",
              "    .colab-df-container {\n",
              "      display:flex;\n",
              "      flex-wrap:wrap;\n",
              "      gap: 12px;\n",
              "    }\n",
              "\n",
              "    .colab-df-convert {\n",
              "      background-color: #E8F0FE;\n",
              "      border: none;\n",
              "      border-radius: 50%;\n",
              "      cursor: pointer;\n",
              "      display: none;\n",
              "      fill: #1967D2;\n",
              "      height: 32px;\n",
              "      padding: 0 0 0 0;\n",
              "      width: 32px;\n",
              "    }\n",
              "\n",
              "    .colab-df-convert:hover {\n",
              "      background-color: #E2EBFA;\n",
              "      box-shadow: 0px 1px 2px rgba(60, 64, 67, 0.3), 0px 1px 3px 1px rgba(60, 64, 67, 0.15);\n",
              "      fill: #174EA6;\n",
              "    }\n",
              "\n",
              "    [theme=dark] .colab-df-convert {\n",
              "      background-color: #3B4455;\n",
              "      fill: #D2E3FC;\n",
              "    }\n",
              "\n",
              "    [theme=dark] .colab-df-convert:hover {\n",
              "      background-color: #434B5C;\n",
              "      box-shadow: 0px 1px 3px 1px rgba(0, 0, 0, 0.15);\n",
              "      filter: drop-shadow(0px 1px 2px rgba(0, 0, 0, 0.3));\n",
              "      fill: #FFFFFF;\n",
              "    }\n",
              "  </style>\n",
              "\n",
              "      <script>\n",
              "        const buttonEl =\n",
              "          document.querySelector('#df-88c2db9a-6395-44e3-99ea-506966b665df button.colab-df-convert');\n",
              "        buttonEl.style.display =\n",
              "          google.colab.kernel.accessAllowed ? 'block' : 'none';\n",
              "\n",
              "        async function convertToInteractive(key) {\n",
              "          const element = document.querySelector('#df-88c2db9a-6395-44e3-99ea-506966b665df');\n",
              "          const dataTable =\n",
              "            await google.colab.kernel.invokeFunction('convertToInteractive',\n",
              "                                                     [key], {});\n",
              "          if (!dataTable) return;\n",
              "\n",
              "          const docLinkHtml = 'Like what you see? Visit the ' +\n",
              "            '<a target=\"_blank\" href=https://colab.research.google.com/notebooks/data_table.ipynb>data table notebook</a>'\n",
              "            + ' to learn more about interactive tables.';\n",
              "          element.innerHTML = '';\n",
              "          dataTable['output_type'] = 'display_data';\n",
              "          await google.colab.output.renderOutput(dataTable, element);\n",
              "          const docLink = document.createElement('div');\n",
              "          docLink.innerHTML = docLinkHtml;\n",
              "          element.appendChild(docLink);\n",
              "        }\n",
              "      </script>\n",
              "    </div>\n",
              "  </div>\n",
              "  "
            ]
          },
          "metadata": {},
          "execution_count": 39
        }
      ],
      "source": [
        "dataset_test"
      ]
    },
    {
      "cell_type": "code",
      "source": [
        "dataset_train"
      ],
      "metadata": {
        "id": "zrtKFomNDgwR",
        "colab": {
          "base_uri": "https://localhost:8080/",
          "height": 424
        },
        "outputId": "f316d039-9bdf-4a53-b327-86fc29b93392"
      },
      "execution_count": 40,
      "outputs": [
        {
          "output_type": "execute_result",
          "data": {
            "text/plain": [
              "          date  total_cases  total_deaths  total_vaccinations  \\\n",
              "0   2021-01-01   23383084.0      514929.0           5904555.0   \n",
              "1   2021-01-02   23671140.0      517989.0           6173699.0   \n",
              "2   2021-01-03   23892824.0      519994.0           6320646.0   \n",
              "3   2021-01-04   24103350.0      522886.0           7023101.0   \n",
              "4   2021-01-05   24362273.0      527818.0           7880377.0   \n",
              "..         ...          ...           ...                 ...   \n",
              "331 2021-11-28   57859672.0     1163714.0         755545229.0   \n",
              "332 2021-11-29   58053538.0     1165836.0         757744684.0   \n",
              "333 2021-11-30   58176072.0     1167557.0         760173856.0   \n",
              "334 2021-12-01   58325930.0     1170195.0         763132762.0   \n",
              "335 2021-12-02   58470738.0     1174172.0         765959272.0   \n",
              "\n",
              "     people_vaccinated  people_fully_vaccinated  Negative  Positive  \n",
              "0            5761692.0                  49683.0     0.092     0.029  \n",
              "1            6022797.0                  52651.0     0.087     0.049  \n",
              "2            6162808.0                  55157.0     0.018     0.055  \n",
              "3            6807528.0                 100256.0     0.096     0.044  \n",
              "4            7564863.0                 187914.0     0.023     0.028  \n",
              "..                 ...                      ...       ...       ...  \n",
              "331        384578101.0              331670817.0     0.036     0.014  \n",
              "332        385565860.0              332248341.0     0.041     0.058  \n",
              "333        386256929.0              332796920.0     0.072     0.080  \n",
              "334        387191999.0              333468263.0     0.075     0.036  \n",
              "335        388105363.0              334007708.0     0.069     0.046  \n",
              "\n",
              "[336 rows x 8 columns]"
            ],
            "text/html": [
              "\n",
              "  <div id=\"df-ab577aa4-8c67-4c73-ad0d-3313677e3f6a\">\n",
              "    <div class=\"colab-df-container\">\n",
              "      <div>\n",
              "<style scoped>\n",
              "    .dataframe tbody tr th:only-of-type {\n",
              "        vertical-align: middle;\n",
              "    }\n",
              "\n",
              "    .dataframe tbody tr th {\n",
              "        vertical-align: top;\n",
              "    }\n",
              "\n",
              "    .dataframe thead th {\n",
              "        text-align: right;\n",
              "    }\n",
              "</style>\n",
              "<table border=\"1\" class=\"dataframe\">\n",
              "  <thead>\n",
              "    <tr style=\"text-align: right;\">\n",
              "      <th></th>\n",
              "      <th>date</th>\n",
              "      <th>total_cases</th>\n",
              "      <th>total_deaths</th>\n",
              "      <th>total_vaccinations</th>\n",
              "      <th>people_vaccinated</th>\n",
              "      <th>people_fully_vaccinated</th>\n",
              "      <th>Negative</th>\n",
              "      <th>Positive</th>\n",
              "    </tr>\n",
              "  </thead>\n",
              "  <tbody>\n",
              "    <tr>\n",
              "      <th>0</th>\n",
              "      <td>2021-01-01</td>\n",
              "      <td>23383084.0</td>\n",
              "      <td>514929.0</td>\n",
              "      <td>5904555.0</td>\n",
              "      <td>5761692.0</td>\n",
              "      <td>49683.0</td>\n",
              "      <td>0.092</td>\n",
              "      <td>0.029</td>\n",
              "    </tr>\n",
              "    <tr>\n",
              "      <th>1</th>\n",
              "      <td>2021-01-02</td>\n",
              "      <td>23671140.0</td>\n",
              "      <td>517989.0</td>\n",
              "      <td>6173699.0</td>\n",
              "      <td>6022797.0</td>\n",
              "      <td>52651.0</td>\n",
              "      <td>0.087</td>\n",
              "      <td>0.049</td>\n",
              "    </tr>\n",
              "    <tr>\n",
              "      <th>2</th>\n",
              "      <td>2021-01-03</td>\n",
              "      <td>23892824.0</td>\n",
              "      <td>519994.0</td>\n",
              "      <td>6320646.0</td>\n",
              "      <td>6162808.0</td>\n",
              "      <td>55157.0</td>\n",
              "      <td>0.018</td>\n",
              "      <td>0.055</td>\n",
              "    </tr>\n",
              "    <tr>\n",
              "      <th>3</th>\n",
              "      <td>2021-01-04</td>\n",
              "      <td>24103350.0</td>\n",
              "      <td>522886.0</td>\n",
              "      <td>7023101.0</td>\n",
              "      <td>6807528.0</td>\n",
              "      <td>100256.0</td>\n",
              "      <td>0.096</td>\n",
              "      <td>0.044</td>\n",
              "    </tr>\n",
              "    <tr>\n",
              "      <th>4</th>\n",
              "      <td>2021-01-05</td>\n",
              "      <td>24362273.0</td>\n",
              "      <td>527818.0</td>\n",
              "      <td>7880377.0</td>\n",
              "      <td>7564863.0</td>\n",
              "      <td>187914.0</td>\n",
              "      <td>0.023</td>\n",
              "      <td>0.028</td>\n",
              "    </tr>\n",
              "    <tr>\n",
              "      <th>...</th>\n",
              "      <td>...</td>\n",
              "      <td>...</td>\n",
              "      <td>...</td>\n",
              "      <td>...</td>\n",
              "      <td>...</td>\n",
              "      <td>...</td>\n",
              "      <td>...</td>\n",
              "      <td>...</td>\n",
              "    </tr>\n",
              "    <tr>\n",
              "      <th>331</th>\n",
              "      <td>2021-11-28</td>\n",
              "      <td>57859672.0</td>\n",
              "      <td>1163714.0</td>\n",
              "      <td>755545229.0</td>\n",
              "      <td>384578101.0</td>\n",
              "      <td>331670817.0</td>\n",
              "      <td>0.036</td>\n",
              "      <td>0.014</td>\n",
              "    </tr>\n",
              "    <tr>\n",
              "      <th>332</th>\n",
              "      <td>2021-11-29</td>\n",
              "      <td>58053538.0</td>\n",
              "      <td>1165836.0</td>\n",
              "      <td>757744684.0</td>\n",
              "      <td>385565860.0</td>\n",
              "      <td>332248341.0</td>\n",
              "      <td>0.041</td>\n",
              "      <td>0.058</td>\n",
              "    </tr>\n",
              "    <tr>\n",
              "      <th>333</th>\n",
              "      <td>2021-11-30</td>\n",
              "      <td>58176072.0</td>\n",
              "      <td>1167557.0</td>\n",
              "      <td>760173856.0</td>\n",
              "      <td>386256929.0</td>\n",
              "      <td>332796920.0</td>\n",
              "      <td>0.072</td>\n",
              "      <td>0.080</td>\n",
              "    </tr>\n",
              "    <tr>\n",
              "      <th>334</th>\n",
              "      <td>2021-12-01</td>\n",
              "      <td>58325930.0</td>\n",
              "      <td>1170195.0</td>\n",
              "      <td>763132762.0</td>\n",
              "      <td>387191999.0</td>\n",
              "      <td>333468263.0</td>\n",
              "      <td>0.075</td>\n",
              "      <td>0.036</td>\n",
              "    </tr>\n",
              "    <tr>\n",
              "      <th>335</th>\n",
              "      <td>2021-12-02</td>\n",
              "      <td>58470738.0</td>\n",
              "      <td>1174172.0</td>\n",
              "      <td>765959272.0</td>\n",
              "      <td>388105363.0</td>\n",
              "      <td>334007708.0</td>\n",
              "      <td>0.069</td>\n",
              "      <td>0.046</td>\n",
              "    </tr>\n",
              "  </tbody>\n",
              "</table>\n",
              "<p>336 rows × 8 columns</p>\n",
              "</div>\n",
              "      <button class=\"colab-df-convert\" onclick=\"convertToInteractive('df-ab577aa4-8c67-4c73-ad0d-3313677e3f6a')\"\n",
              "              title=\"Convert this dataframe to an interactive table.\"\n",
              "              style=\"display:none;\">\n",
              "        \n",
              "  <svg xmlns=\"http://www.w3.org/2000/svg\" height=\"24px\"viewBox=\"0 0 24 24\"\n",
              "       width=\"24px\">\n",
              "    <path d=\"M0 0h24v24H0V0z\" fill=\"none\"/>\n",
              "    <path d=\"M18.56 5.44l.94 2.06.94-2.06 2.06-.94-2.06-.94-.94-2.06-.94 2.06-2.06.94zm-11 1L8.5 8.5l.94-2.06 2.06-.94-2.06-.94L8.5 2.5l-.94 2.06-2.06.94zm10 10l.94 2.06.94-2.06 2.06-.94-2.06-.94-.94-2.06-.94 2.06-2.06.94z\"/><path d=\"M17.41 7.96l-1.37-1.37c-.4-.4-.92-.59-1.43-.59-.52 0-1.04.2-1.43.59L10.3 9.45l-7.72 7.72c-.78.78-.78 2.05 0 2.83L4 21.41c.39.39.9.59 1.41.59.51 0 1.02-.2 1.41-.59l7.78-7.78 2.81-2.81c.8-.78.8-2.07 0-2.86zM5.41 20L4 18.59l7.72-7.72 1.47 1.35L5.41 20z\"/>\n",
              "  </svg>\n",
              "      </button>\n",
              "      \n",
              "  <style>\n",
              "    .colab-df-container {\n",
              "      display:flex;\n",
              "      flex-wrap:wrap;\n",
              "      gap: 12px;\n",
              "    }\n",
              "\n",
              "    .colab-df-convert {\n",
              "      background-color: #E8F0FE;\n",
              "      border: none;\n",
              "      border-radius: 50%;\n",
              "      cursor: pointer;\n",
              "      display: none;\n",
              "      fill: #1967D2;\n",
              "      height: 32px;\n",
              "      padding: 0 0 0 0;\n",
              "      width: 32px;\n",
              "    }\n",
              "\n",
              "    .colab-df-convert:hover {\n",
              "      background-color: #E2EBFA;\n",
              "      box-shadow: 0px 1px 2px rgba(60, 64, 67, 0.3), 0px 1px 3px 1px rgba(60, 64, 67, 0.15);\n",
              "      fill: #174EA6;\n",
              "    }\n",
              "\n",
              "    [theme=dark] .colab-df-convert {\n",
              "      background-color: #3B4455;\n",
              "      fill: #D2E3FC;\n",
              "    }\n",
              "\n",
              "    [theme=dark] .colab-df-convert:hover {\n",
              "      background-color: #434B5C;\n",
              "      box-shadow: 0px 1px 3px 1px rgba(0, 0, 0, 0.15);\n",
              "      filter: drop-shadow(0px 1px 2px rgba(0, 0, 0, 0.3));\n",
              "      fill: #FFFFFF;\n",
              "    }\n",
              "  </style>\n",
              "\n",
              "      <script>\n",
              "        const buttonEl =\n",
              "          document.querySelector('#df-ab577aa4-8c67-4c73-ad0d-3313677e3f6a button.colab-df-convert');\n",
              "        buttonEl.style.display =\n",
              "          google.colab.kernel.accessAllowed ? 'block' : 'none';\n",
              "\n",
              "        async function convertToInteractive(key) {\n",
              "          const element = document.querySelector('#df-ab577aa4-8c67-4c73-ad0d-3313677e3f6a');\n",
              "          const dataTable =\n",
              "            await google.colab.kernel.invokeFunction('convertToInteractive',\n",
              "                                                     [key], {});\n",
              "          if (!dataTable) return;\n",
              "\n",
              "          const docLinkHtml = 'Like what you see? Visit the ' +\n",
              "            '<a target=\"_blank\" href=https://colab.research.google.com/notebooks/data_table.ipynb>data table notebook</a>'\n",
              "            + ' to learn more about interactive tables.';\n",
              "          element.innerHTML = '';\n",
              "          dataTable['output_type'] = 'display_data';\n",
              "          await google.colab.output.renderOutput(dataTable, element);\n",
              "          const docLink = document.createElement('div');\n",
              "          docLink.innerHTML = docLinkHtml;\n",
              "          element.appendChild(docLink);\n",
              "        }\n",
              "      </script>\n",
              "    </div>\n",
              "  </div>\n",
              "  "
            ]
          },
          "metadata": {},
          "execution_count": 40
        }
      ]
    },
    {
      "cell_type": "code",
      "execution_count": null,
      "metadata": {
        "id": "BB9e5b-PZ7Yj"
      },
      "outputs": [],
      "source": [
        "#for training\n",
        "dataset_train = dataset_train[cols].astype(str)\n",
        "dataset_test=dataset_test[cols_test].astype(str)\n",
        "for i in cols:\n",
        "    for j in range(2, len(dataset_train)):\n",
        "        dataset_train[i][j] = dataset_train[i][j].replace(',', '')\n",
        "\n",
        "for k in cols_test:\n",
        "    for l in range(336, len(cols_test)):\n",
        "        dataset_test[k][l] = dataset_test[k][l].replace(',', '')\n",
        "        \n",
        "dataset_train = dataset_train.astype(float)\n",
        "dataset_test = dataset_test.astype(float)\n",
        "\n",
        "# Using multiple features (predictors)\n",
        "training_set = dataset_train.to_numpy()\n",
        "testing_set = dataset_test.to_numpy()\n",
        "\n",
        "print('Shape of training set == {}.'.format(training_set.shape))\n",
        "training_set\n",
        "\n",
        "print('Shape of testing set == {}.'.format(testing_set.shape))\n",
        "testing_set"
      ]
    },
    {
      "cell_type": "code",
      "execution_count": 42,
      "metadata": {
        "id": "IDLVzPWXVYbr"
      },
      "outputs": [],
      "source": [
        "df_for_training = df_train[cols].astype(float)\n",
        "df_for_testing = df_test[cols].astype(float)"
      ]
    },
    {
      "cell_type": "code",
      "execution_count": null,
      "metadata": {
        "id": "hSaK6goZVsit"
      },
      "outputs": [],
      "source": [
        "# Feature Scaling\n",
        "from sklearn.preprocessing import StandardScaler\n",
        "\n",
        "sc = StandardScaler()\n",
        "training_set_scaled = sc.fit_transform(training_set)\n",
        "\n",
        "sc_predict = StandardScaler()\n",
        "sc_predict.fit_transform(training_set[:, 0:1])"
      ]
    },
    {
      "cell_type": "code",
      "execution_count": null,
      "metadata": {
        "id": "hxeezTsw2cBS"
      },
      "outputs": [],
      "source": [
        "# Feature Scaling for testing data\n",
        "from sklearn.preprocessing import StandardScaler\n",
        "\n",
        "sc1 = StandardScaler()\n",
        "testing_set_scaled = sc.fit_transform(testing_set)\n",
        "\n",
        "sc_predict1 = StandardScaler()\n",
        "sc_predict1.fit_transform(testing_set[:, 0:1])"
      ]
    },
    {
      "cell_type": "code",
      "execution_count": 23,
      "metadata": {
        "id": "wbjA0o_1R7yt"
      },
      "outputs": [],
      "source": [
        "# from sklearn.preprocessing import MinMaxScaler\n",
        "# cpu_list = [i for i in df.columns if i != 'date']\n",
        "# scaler = MinMaxScaler()\n",
        "# scaled_train = scaler.fit_transform(df_train[cpu_list])\n",
        "# scaled_test = scaler.transform(df_test[cpu_list])"
      ]
    },
    {
      "cell_type": "code",
      "execution_count": 45,
      "metadata": {
        "id": "gHmG_hEZVw6c",
        "colab": {
          "base_uri": "https://localhost:8080/"
        },
        "outputId": "c4d606d9-6dbe-4f96-88ac-4f08b015e40b"
      },
      "outputs": [
        {
          "output_type": "stream",
          "name": "stdout",
          "text": [
            "X_train shape == (222, 100, 7).\n",
            "y_train shape == (222, 1).\n"
          ]
        }
      ],
      "source": [
        "# Creating a data structure with 90 timestamps and 1 output training\n",
        "X_train = []\n",
        "y_train = []\n",
        "\n",
        "n_future= 15  # Number of days we want top predict into the future\n",
        "n_past = 100 # Number of past days we want to use to predict the future\n",
        "\n",
        "for i in range(n_past, len(df_train) - n_future +1):\n",
        "    X_train.append(training_set_scaled[i - n_past:i, 0:df_train.shape[1] - 1])\n",
        "    y_train.append(training_set_scaled[i + n_future - 1:i + n_future, 0])\n",
        "    # X_test.append(testing_set_scaled[i - n_past:i, 0:df.shape[1] - 1])\n",
        "    # y_test.append(testing_set_scaled[i + n_future - 1:i + n_future, 0])\n",
        "X_train, y_train = np.array(X_train), np.array(y_train)\n",
        "\n",
        "\n",
        "print('X_train shape == {}.'.format(X_train.shape))\n",
        "print('y_train shape == {}.'.format(y_train.shape))"
      ]
    },
    {
      "cell_type": "code",
      "execution_count": 46,
      "metadata": {
        "id": "ymkRp7MCJ05e",
        "colab": {
          "base_uri": "https://localhost:8080/"
        },
        "outputId": "d39499b6-4d8b-4f72-c3aa-038ae37db357"
      },
      "outputs": [
        {
          "output_type": "stream",
          "name": "stdout",
          "text": [
            "X_test shape == (28, 100, 7).\n",
            "y_test shape == (28, 1).\n"
          ]
        }
      ],
      "source": [
        "#testing\n",
        "X_test = []\n",
        "y_test = []\n",
        "\n",
        "n_future1 = 15  # Number of days we want top predict into the future\n",
        "n_past1 = 100 # Number of past days we want to use to predict the future\n",
        "\n",
        "for i in range(n_past1, len(df_test) - n_future1 +1):\n",
        "    X_test.append(testing_set_scaled[i - n_past1:i, 0:df.shape[1] - 1])\n",
        "    y_test.append(testing_set_scaled[i + n_future1 - 1:i + n_future1, 0])\n",
        "X_test, y_test = np.array(X_test), np.array(y_test)\n",
        "\n",
        "\n",
        "print('X_test shape == {}.'.format(X_test.shape))\n",
        "print('y_test shape == {}.'.format(y_test.shape))"
      ]
    },
    {
      "cell_type": "code",
      "execution_count": 47,
      "metadata": {
        "id": "LiOiGBZzV0bi"
      },
      "outputs": [],
      "source": [
        "# Import Libraries and packages from Keras\n",
        "from keras.models import Sequential\n",
        "from keras.layers import Dense\n",
        "from keras.layers import LSTM\n",
        "from keras.layers import Dropout\n",
        "from tensorflow.keras.optimizers import Adam, SGD, RMSprop\n",
        "import numpy as np\n",
        "import pandas as pd\n",
        "import matplotlib.pyplot as plt\n",
        "import datetime as dt\n",
        "from datetime import datetime\n",
        "from keras.callbacks import EarlyStopping, ReduceLROnPlateau, ModelCheckpoint, TensorBoard\n"
      ]
    },
    {
      "cell_type": "code",
      "execution_count": 48,
      "metadata": {
        "id": "KZ43JgTcYwVf"
      },
      "outputs": [],
      "source": [
        "from keras.layers import Bidirectional\n",
        " "
      ]
    },
    {
      "cell_type": "code",
      "execution_count": 28,
      "metadata": {
        "id": "iTPujq4zBkVH"
      },
      "outputs": [],
      "source": [
        "# def create_model():\n",
        "#     model = Sequential()\n",
        "#     model.add(LSTM(50,kernel_regularizer=l2(0.01), recurrent_regularizer=l2(0.01), bias_regularizer=l2(0.01), input_shape=(X_train.shape[1], X_train.shape[2])))\n",
        "#     # model.add(Conv1D(32, kernel_size=3, activation='relu'))\n",
        "#     # model.add(Bidirectional(LSTM(32, return_sequences=False)))\n",
        "#     model.add(Dropout(0.85))\n",
        "#     model.add(Dense(1))\n",
        "#     model.compile(loss='mean_squared_error', optimizer='adam')\n",
        "#     return model\n",
        "\n",
        "\n",
        "# # def create_model(x,y):\n",
        "#     # define LSTM\n",
        "#     model = Sequential()\n",
        "#     model.add(Bidirectional(LSTM(20, return_sequences=True), input_shape=(x,y)))\n",
        "#     model.add(TimeDistributed(Dense(1, activation='sigmoid')))\n",
        "#     model.compile(loss='mean_squared_error', optimizer='adam')\n",
        "#     return model "
      ]
    },
    {
      "cell_type": "code",
      "execution_count": 196,
      "metadata": {
        "id": "H-plpOYKBwNx"
      },
      "outputs": [],
      "source": [
        "from tensorflow.keras import Sequential\n",
        "from tensorflow.keras.layers import LSTM, Dense, Dropout, TimeDistributed, Conv1D, MaxPooling1D, Flatten, Bidirectional, Input, Flatten, Activation, Reshape, RepeatVector, Concatenate\n",
        "from tensorflow.keras.models import Model"
      ]
    },
    {
      "cell_type": "code",
      "execution_count": 666,
      "metadata": {
        "id": "4TkdcUu3V25l"
      },
      "outputs": [],
      "source": [
        "# Initializing the Neural Network based on LSTM\n",
        "model = Sequential()\n",
        "\n",
        "# Adding 1st LSTM layer\n",
        "model.add(LSTM(units=50, return_sequences=True, input_shape = (X_train.shape[1], X_train.shape[2])))\n",
        "\n",
        "# Adding 2nd LSTM layer\n",
        "model.add(LSTM(units=10, return_sequences=False))\n",
        "\n",
        "# Adding Dropout\n",
        "model.add(Dropout(0.2))\n",
        "\n",
        "# Output layer\n",
        "model.add(Dense(units=1, activation='linear'))\n",
        "\n",
        "# Compiling the Neural Network\n",
        "model.compile(optimizer = Adam(learning_rate=1e-5), loss='mean_squared_error')"
      ]
    },
    {
      "cell_type": "code",
      "execution_count": 667,
      "metadata": {
        "id": "YaKda-kpV-dX",
        "colab": {
          "base_uri": "https://localhost:8080/"
        },
        "outputId": "9afafcbc-1452-4869-aebd-85dacd47105a"
      },
      "outputs": [
        {
          "output_type": "stream",
          "name": "stdout",
          "text": [
            "Epoch 1/50\n",
            "23/23 [==============================] - ETA: 0s - loss: 0.3882\n",
            "Epoch 1: val_loss improved from inf to 2.62435, saving model to weights.h5\n",
            "23/23 [==============================] - 7s 105ms/step - loss: 0.3882 - val_loss: 2.6243 - lr: 1.0000e-05\n",
            "Epoch 2/50\n",
            "23/23 [==============================] - ETA: 0s - loss: 0.4037\n",
            "Epoch 2: val_loss improved from 2.62435 to 2.54845, saving model to weights.h5\n",
            "23/23 [==============================] - 2s 67ms/step - loss: 0.4037 - val_loss: 2.5484 - lr: 1.0000e-05\n",
            "Epoch 3/50\n",
            "23/23 [==============================] - ETA: 0s - loss: 0.3966\n",
            "Epoch 3: val_loss improved from 2.54845 to 2.47740, saving model to weights.h5\n",
            "23/23 [==============================] - 2s 67ms/step - loss: 0.3966 - val_loss: 2.4774 - lr: 1.0000e-05\n",
            "Epoch 4/50\n",
            "23/23 [==============================] - ETA: 0s - loss: 0.3822\n",
            "Epoch 4: val_loss improved from 2.47740 to 2.40364, saving model to weights.h5\n",
            "23/23 [==============================] - 2s 67ms/step - loss: 0.3822 - val_loss: 2.4036 - lr: 1.0000e-05\n",
            "Epoch 5/50\n",
            "23/23 [==============================] - ETA: 0s - loss: 0.3479\n",
            "Epoch 5: val_loss improved from 2.40364 to 2.32785, saving model to weights.h5\n",
            "23/23 [==============================] - 2s 68ms/step - loss: 0.3479 - val_loss: 2.3278 - lr: 1.0000e-05\n",
            "Epoch 6/50\n",
            "23/23 [==============================] - ETA: 0s - loss: 0.3394\n",
            "Epoch 6: val_loss improved from 2.32785 to 2.25985, saving model to weights.h5\n",
            "23/23 [==============================] - 2s 68ms/step - loss: 0.3394 - val_loss: 2.2599 - lr: 1.0000e-05\n",
            "Epoch 7/50\n",
            "23/23 [==============================] - ETA: 0s - loss: 0.3212\n",
            "Epoch 7: val_loss improved from 2.25985 to 2.20213, saving model to weights.h5\n",
            "23/23 [==============================] - 2s 68ms/step - loss: 0.3212 - val_loss: 2.2021 - lr: 1.0000e-05\n",
            "Epoch 8/50\n",
            "23/23 [==============================] - ETA: 0s - loss: 0.3114\n",
            "Epoch 8: val_loss improved from 2.20213 to 2.13686, saving model to weights.h5\n",
            "23/23 [==============================] - 2s 67ms/step - loss: 0.3114 - val_loss: 2.1369 - lr: 1.0000e-05\n",
            "Epoch 9/50\n",
            "23/23 [==============================] - ETA: 0s - loss: 0.3053\n",
            "Epoch 9: val_loss improved from 2.13686 to 2.08003, saving model to weights.h5\n",
            "23/23 [==============================] - 2s 67ms/step - loss: 0.3053 - val_loss: 2.0800 - lr: 1.0000e-05\n",
            "Epoch 10/50\n",
            "23/23 [==============================] - ETA: 0s - loss: 0.3167\n",
            "Epoch 10: val_loss improved from 2.08003 to 2.02056, saving model to weights.h5\n",
            "23/23 [==============================] - 2s 68ms/step - loss: 0.3167 - val_loss: 2.0206 - lr: 1.0000e-05\n",
            "Epoch 11/50\n",
            "23/23 [==============================] - ETA: 0s - loss: 0.2794\n",
            "Epoch 11: val_loss improved from 2.02056 to 1.96678, saving model to weights.h5\n",
            "23/23 [==============================] - 2s 68ms/step - loss: 0.2794 - val_loss: 1.9668 - lr: 1.0000e-05\n",
            "Epoch 12/50\n",
            "23/23 [==============================] - ETA: 0s - loss: 0.2683\n",
            "Epoch 12: val_loss improved from 1.96678 to 1.90783, saving model to weights.h5\n",
            "23/23 [==============================] - 2s 70ms/step - loss: 0.2683 - val_loss: 1.9078 - lr: 1.0000e-05\n",
            "Epoch 13/50\n",
            "23/23 [==============================] - ETA: 0s - loss: 0.2609\n",
            "Epoch 13: val_loss improved from 1.90783 to 1.85039, saving model to weights.h5\n",
            "23/23 [==============================] - 2s 68ms/step - loss: 0.2609 - val_loss: 1.8504 - lr: 1.0000e-05\n",
            "Epoch 14/50\n",
            "23/23 [==============================] - ETA: 0s - loss: 0.2334\n",
            "Epoch 14: val_loss improved from 1.85039 to 1.78899, saving model to weights.h5\n",
            "23/23 [==============================] - 2s 68ms/step - loss: 0.2334 - val_loss: 1.7890 - lr: 1.0000e-05\n",
            "Epoch 15/50\n",
            "23/23 [==============================] - ETA: 0s - loss: 0.2324\n",
            "Epoch 15: val_loss improved from 1.78899 to 1.73945, saving model to weights.h5\n",
            "23/23 [==============================] - 2s 69ms/step - loss: 0.2324 - val_loss: 1.7395 - lr: 1.0000e-05\n",
            "Epoch 16/50\n",
            "23/23 [==============================] - ETA: 0s - loss: 0.2235\n",
            "Epoch 16: val_loss improved from 1.73945 to 1.68418, saving model to weights.h5\n",
            "23/23 [==============================] - 2s 68ms/step - loss: 0.2235 - val_loss: 1.6842 - lr: 1.0000e-05\n",
            "Epoch 17/50\n",
            "23/23 [==============================] - ETA: 0s - loss: 0.2201\n",
            "Epoch 17: val_loss improved from 1.68418 to 1.63418, saving model to weights.h5\n",
            "23/23 [==============================] - 2s 67ms/step - loss: 0.2201 - val_loss: 1.6342 - lr: 1.0000e-05\n",
            "Epoch 18/50\n",
            "23/23 [==============================] - ETA: 0s - loss: 0.2082\n",
            "Epoch 18: val_loss improved from 1.63418 to 1.58749, saving model to weights.h5\n",
            "23/23 [==============================] - 2s 69ms/step - loss: 0.2082 - val_loss: 1.5875 - lr: 1.0000e-05\n",
            "Epoch 19/50\n",
            "23/23 [==============================] - ETA: 0s - loss: 0.1931\n",
            "Epoch 19: val_loss improved from 1.58749 to 1.53943, saving model to weights.h5\n",
            "23/23 [==============================] - 2s 68ms/step - loss: 0.1931 - val_loss: 1.5394 - lr: 1.0000e-05\n",
            "Epoch 20/50\n",
            "23/23 [==============================] - ETA: 0s - loss: 0.1741\n",
            "Epoch 20: val_loss improved from 1.53943 to 1.49317, saving model to weights.h5\n",
            "23/23 [==============================] - 2s 70ms/step - loss: 0.1741 - val_loss: 1.4932 - lr: 1.0000e-05\n",
            "Epoch 21/50\n",
            "23/23 [==============================] - ETA: 0s - loss: 0.1704\n",
            "Epoch 21: val_loss improved from 1.49317 to 1.43831, saving model to weights.h5\n",
            "23/23 [==============================] - 2s 69ms/step - loss: 0.1704 - val_loss: 1.4383 - lr: 1.0000e-05\n",
            "Epoch 22/50\n",
            "23/23 [==============================] - ETA: 0s - loss: 0.1470\n",
            "Epoch 22: val_loss improved from 1.43831 to 1.39415, saving model to weights.h5\n",
            "23/23 [==============================] - 2s 67ms/step - loss: 0.1470 - val_loss: 1.3941 - lr: 1.0000e-05\n",
            "Epoch 23/50\n",
            "23/23 [==============================] - ETA: 0s - loss: 0.1532\n",
            "Epoch 23: val_loss improved from 1.39415 to 1.34797, saving model to weights.h5\n",
            "23/23 [==============================] - 2s 69ms/step - loss: 0.1532 - val_loss: 1.3480 - lr: 1.0000e-05\n",
            "Epoch 24/50\n",
            "23/23 [==============================] - ETA: 0s - loss: 0.1446\n",
            "Epoch 24: val_loss improved from 1.34797 to 1.30208, saving model to weights.h5\n",
            "23/23 [==============================] - 2s 67ms/step - loss: 0.1446 - val_loss: 1.3021 - lr: 1.0000e-05\n",
            "Epoch 25/50\n",
            "23/23 [==============================] - ETA: 0s - loss: 0.1574\n",
            "Epoch 25: val_loss improved from 1.30208 to 1.26144, saving model to weights.h5\n",
            "23/23 [==============================] - 2s 68ms/step - loss: 0.1574 - val_loss: 1.2614 - lr: 1.0000e-05\n",
            "Epoch 26/50\n",
            "23/23 [==============================] - ETA: 0s - loss: 0.1469\n",
            "Epoch 26: val_loss improved from 1.26144 to 1.21477, saving model to weights.h5\n",
            "23/23 [==============================] - 2s 68ms/step - loss: 0.1469 - val_loss: 1.2148 - lr: 1.0000e-05\n",
            "Epoch 27/50\n",
            "23/23 [==============================] - ETA: 0s - loss: 0.1349\n",
            "Epoch 27: val_loss improved from 1.21477 to 1.17082, saving model to weights.h5\n",
            "23/23 [==============================] - 2s 68ms/step - loss: 0.1349 - val_loss: 1.1708 - lr: 1.0000e-05\n",
            "Epoch 28/50\n",
            "23/23 [==============================] - ETA: 0s - loss: 0.1243\n",
            "Epoch 28: val_loss improved from 1.17082 to 1.12632, saving model to weights.h5\n",
            "23/23 [==============================] - 2s 68ms/step - loss: 0.1243 - val_loss: 1.1263 - lr: 1.0000e-05\n",
            "Epoch 29/50\n",
            "23/23 [==============================] - ETA: 0s - loss: 0.1152\n",
            "Epoch 29: val_loss improved from 1.12632 to 1.08766, saving model to weights.h5\n",
            "23/23 [==============================] - 2s 72ms/step - loss: 0.1152 - val_loss: 1.0877 - lr: 1.0000e-05\n",
            "Epoch 30/50\n",
            "23/23 [==============================] - ETA: 0s - loss: 0.1097\n",
            "Epoch 30: val_loss improved from 1.08766 to 1.04701, saving model to weights.h5\n",
            "23/23 [==============================] - 2s 67ms/step - loss: 0.1097 - val_loss: 1.0470 - lr: 1.0000e-05\n",
            "Epoch 31/50\n",
            "23/23 [==============================] - ETA: 0s - loss: 0.1069\n",
            "Epoch 31: val_loss improved from 1.04701 to 1.00941, saving model to weights.h5\n",
            "23/23 [==============================] - 2s 68ms/step - loss: 0.1069 - val_loss: 1.0094 - lr: 1.0000e-05\n",
            "Epoch 32/50\n",
            "23/23 [==============================] - ETA: 0s - loss: 0.1036\n",
            "Epoch 32: val_loss improved from 1.00941 to 0.96957, saving model to weights.h5\n",
            "23/23 [==============================] - 2s 68ms/step - loss: 0.1036 - val_loss: 0.9696 - lr: 1.0000e-05\n",
            "Epoch 33/50\n",
            "23/23 [==============================] - ETA: 0s - loss: 0.0908\n",
            "Epoch 33: val_loss improved from 0.96957 to 0.93531, saving model to weights.h5\n",
            "23/23 [==============================] - 2s 68ms/step - loss: 0.0908 - val_loss: 0.9353 - lr: 1.0000e-05\n",
            "Epoch 34/50\n",
            "23/23 [==============================] - ETA: 0s - loss: 0.1007\n",
            "Epoch 34: val_loss improved from 0.93531 to 0.89914, saving model to weights.h5\n",
            "23/23 [==============================] - 2s 68ms/step - loss: 0.1007 - val_loss: 0.8991 - lr: 1.0000e-05\n",
            "Epoch 35/50\n",
            "23/23 [==============================] - ETA: 0s - loss: 0.0799\n",
            "Epoch 35: val_loss improved from 0.89914 to 0.86232, saving model to weights.h5\n",
            "23/23 [==============================] - 2s 71ms/step - loss: 0.0799 - val_loss: 0.8623 - lr: 1.0000e-05\n",
            "Epoch 36/50\n",
            "23/23 [==============================] - ETA: 0s - loss: 0.0965\n",
            "Epoch 36: val_loss improved from 0.86232 to 0.82648, saving model to weights.h5\n",
            "23/23 [==============================] - 2s 68ms/step - loss: 0.0965 - val_loss: 0.8265 - lr: 1.0000e-05\n",
            "Epoch 37/50\n",
            "23/23 [==============================] - ETA: 0s - loss: 0.0788\n",
            "Epoch 37: val_loss improved from 0.82648 to 0.79176, saving model to weights.h5\n",
            "23/23 [==============================] - 2s 68ms/step - loss: 0.0788 - val_loss: 0.7918 - lr: 1.0000e-05\n",
            "Epoch 38/50\n",
            "23/23 [==============================] - ETA: 0s - loss: 0.0685\n",
            "Epoch 38: val_loss improved from 0.79176 to 0.76031, saving model to weights.h5\n",
            "23/23 [==============================] - 2s 67ms/step - loss: 0.0685 - val_loss: 0.7603 - lr: 1.0000e-05\n",
            "Epoch 39/50\n",
            "23/23 [==============================] - ETA: 0s - loss: 0.0490\n",
            "Epoch 39: val_loss improved from 0.76031 to 0.73190, saving model to weights.h5\n",
            "23/23 [==============================] - 2s 68ms/step - loss: 0.0490 - val_loss: 0.7319 - lr: 1.0000e-05\n",
            "Epoch 40/50\n",
            "23/23 [==============================] - ETA: 0s - loss: 0.0663\n",
            "Epoch 40: val_loss improved from 0.73190 to 0.69959, saving model to weights.h5\n",
            "23/23 [==============================] - 2s 67ms/step - loss: 0.0663 - val_loss: 0.6996 - lr: 1.0000e-05\n",
            "Epoch 41/50\n",
            "23/23 [==============================] - ETA: 0s - loss: 0.0489\n",
            "Epoch 41: val_loss improved from 0.69959 to 0.67247, saving model to weights.h5\n",
            "23/23 [==============================] - 2s 68ms/step - loss: 0.0489 - val_loss: 0.6725 - lr: 1.0000e-05\n",
            "Epoch 42/50\n",
            "23/23 [==============================] - ETA: 0s - loss: 0.0612\n",
            "Epoch 42: val_loss improved from 0.67247 to 0.64543, saving model to weights.h5\n",
            "23/23 [==============================] - 2s 68ms/step - loss: 0.0612 - val_loss: 0.6454 - lr: 1.0000e-05\n",
            "Epoch 43/50\n",
            "23/23 [==============================] - ETA: 0s - loss: 0.0571\n",
            "Epoch 43: val_loss improved from 0.64543 to 0.61831, saving model to weights.h5\n",
            "23/23 [==============================] - 2s 69ms/step - loss: 0.0571 - val_loss: 0.6183 - lr: 1.0000e-05\n",
            "Epoch 44/50\n",
            "23/23 [==============================] - ETA: 0s - loss: 0.0476\n",
            "Epoch 44: val_loss improved from 0.61831 to 0.59220, saving model to weights.h5\n",
            "23/23 [==============================] - 2s 70ms/step - loss: 0.0476 - val_loss: 0.5922 - lr: 1.0000e-05\n",
            "Epoch 45/50\n",
            "23/23 [==============================] - ETA: 0s - loss: 0.0551\n",
            "Epoch 45: val_loss improved from 0.59220 to 0.56740, saving model to weights.h5\n",
            "23/23 [==============================] - 2s 68ms/step - loss: 0.0551 - val_loss: 0.5674 - lr: 1.0000e-05\n",
            "Epoch 46/50\n",
            "23/23 [==============================] - ETA: 0s - loss: 0.0536\n",
            "Epoch 46: val_loss improved from 0.56740 to 0.54421, saving model to weights.h5\n",
            "23/23 [==============================] - 2s 70ms/step - loss: 0.0536 - val_loss: 0.5442 - lr: 1.0000e-05\n",
            "Epoch 47/50\n",
            "23/23 [==============================] - ETA: 0s - loss: 0.0449\n",
            "Epoch 47: val_loss improved from 0.54421 to 0.52062, saving model to weights.h5\n",
            "23/23 [==============================] - 2s 68ms/step - loss: 0.0449 - val_loss: 0.5206 - lr: 1.0000e-05\n",
            "Epoch 48/50\n",
            "23/23 [==============================] - ETA: 0s - loss: 0.0400\n",
            "Epoch 48: val_loss improved from 0.52062 to 0.49936, saving model to weights.h5\n",
            "23/23 [==============================] - 2s 69ms/step - loss: 0.0400 - val_loss: 0.4994 - lr: 1.0000e-05\n",
            "Epoch 49/50\n",
            "23/23 [==============================] - ETA: 0s - loss: 0.0385\n",
            "Epoch 49: val_loss improved from 0.49936 to 0.47943, saving model to weights.h5\n",
            "23/23 [==============================] - 2s 68ms/step - loss: 0.0385 - val_loss: 0.4794 - lr: 1.0000e-05\n",
            "Epoch 50/50\n",
            "23/23 [==============================] - ETA: 0s - loss: 0.0443\n",
            "Epoch 50: val_loss improved from 0.47943 to 0.46104, saving model to weights.h5\n",
            "23/23 [==============================] - 2s 69ms/step - loss: 0.0443 - val_loss: 0.4610 - lr: 1.0000e-05\n"
          ]
        }
      ],
      "source": [
        "es = EarlyStopping(monitor='val_loss', min_delta=1e-10, patience=10, verbose=1)\n",
        "rlr = ReduceLROnPlateau(monitor='val_loss', factor=0.5, patience=10, verbose=1)\n",
        "mcp = ModelCheckpoint(filepath='weights.h5', monitor='val_loss', verbose=1, save_best_only=True, save_weights_only=True)\n",
        "\n",
        "tb = TensorBoard('logs')\n",
        "history = model.fit(X_train, y_train, shuffle=True, epochs=50, callbacks=[es, rlr, mcp, tb], validation_split=0.2, verbose=1, batch_size=8)\n"
      ]
    },
    {
      "cell_type": "code",
      "execution_count": 668,
      "metadata": {
        "id": "-ZKUijmhsGzi",
        "colab": {
          "base_uri": "https://localhost:8080/"
        },
        "outputId": "5908c534-4e25-40a2-c578-6e3c2a122c64"
      },
      "outputs": [
        {
          "output_type": "stream",
          "name": "stdout",
          "text": [
            "Model: \"sequential_25\"\n",
            "_________________________________________________________________\n",
            " Layer (type)                Output Shape              Param #   \n",
            "=================================================================\n",
            " lstm_50 (LSTM)              (None, 100, 50)           11600     \n",
            "                                                                 \n",
            " lstm_51 (LSTM)              (None, 10)                2440      \n",
            "                                                                 \n",
            " dropout_25 (Dropout)        (None, 10)                0         \n",
            "                                                                 \n",
            " dense_25 (Dense)            (None, 1)                 11        \n",
            "                                                                 \n",
            "=================================================================\n",
            "Total params: 14,051\n",
            "Trainable params: 14,051\n",
            "Non-trainable params: 0\n",
            "_________________________________________________________________\n"
          ]
        }
      ],
      "source": [
        "model.summary()"
      ]
    },
    {
      "cell_type": "code",
      "source": [
        "model.evaluate(X_train, y_train)"
      ],
      "metadata": {
        "id": "ykeLkqkUTqok",
        "colab": {
          "base_uri": "https://localhost:8080/"
        },
        "outputId": "69730c4a-19cb-438c-d03b-9b10bdc4f3ef"
      },
      "execution_count": 669,
      "outputs": [
        {
          "output_type": "stream",
          "name": "stdout",
          "text": [
            "7/7 [==============================] - 0s 19ms/step - loss: 0.1120\n"
          ]
        },
        {
          "output_type": "execute_result",
          "data": {
            "text/plain": [
              "0.11202666163444519"
            ]
          },
          "metadata": {},
          "execution_count": 669
        }
      ]
    },
    {
      "cell_type": "code",
      "execution_count": 670,
      "metadata": {
        "id": "MmWyXsMiPcO9",
        "colab": {
          "base_uri": "https://localhost:8080/",
          "height": 350
        },
        "outputId": "ce0cea98-2fcb-4f25-8c5d-cfa63f9b13bf"
      },
      "outputs": [
        {
          "output_type": "display_data",
          "data": {
            "text/plain": [
              "<Figure size 1008x360 with 1 Axes>"
            ],
            "image/png": "[encoded data removed]"
          },
          "metadata": {
            "needs_background": "light"
          }
        }
      ],
      "source": [
        "plt.plot(history.history['loss'], 'r', label='Training loss')\n",
        "plt.plot(history.history['val_loss'], 'g', label='Validation loss')\n",
        "plt.title('Training VS Validation loss')\n",
        "plt.xlabel('No. of Epochs')\n",
        "plt.ylabel('Loss')\n",
        "plt.legend()\n",
        "plt.show()"
      ]
    },
    {
      "cell_type": "code",
      "execution_count": 671,
      "metadata": {
        "id": "NJwAhnujWO9w"
      },
      "outputs": [],
      "source": [
        "# Extract dates (will be used in visualization)\n",
        "datelist_train = list(df_train['date'])\n"
      ]
    },
    {
      "cell_type": "code",
      "execution_count": 672,
      "metadata": {
        "id": "zPcoCZBfWVG8"
      },
      "outputs": [],
      "source": [
        "# Generate list of sequence of days for predictions\n",
        "datelist_future = pd.date_range(datelist_train[-1], periods=n_future, freq='1d').tolist()\n",
        "\n",
        "\n",
        "# Convert Pandas Timestamp to Datetime object (for transformation) --> FUTURE\n",
        "datelist_future_ = []\n",
        "for this_timestamp in datelist_future:\n",
        "    datelist_future_.append(this_timestamp.date())"
      ]
    },
    {
      "cell_type": "code",
      "execution_count": 673,
      "metadata": {
        "id": "0A7O1MhbWXjt"
      },
      "outputs": [],
      "source": [
        "# Perform predictions\n",
        "predictions_future = model.predict(X_train[-n_future:])\n",
        "\n",
        "predictions_train = model.predict(X_train[n_past:])"
      ]
    },
    {
      "cell_type": "code",
      "execution_count": 674,
      "metadata": {
        "id": "_uwTJtX2WmKB"
      },
      "outputs": [],
      "source": [
        "from datetime import datetime"
      ]
    },
    {
      "cell_type": "code",
      "execution_count": 675,
      "metadata": {
        "id": "cMk2EvNdWZdX",
        "colab": {
          "base_uri": "https://localhost:8080/",
          "height": 424
        },
        "outputId": "88c2ee74-1e0b-4811-dfb9-04e5fbbf8d94"
      },
      "outputs": [
        {
          "output_type": "execute_result",
          "data": {
            "text/plain": [
              "            sum_of_people_fully_vaccinated\n",
              "2021-08-03                      43399404.0\n",
              "2021-08-04                      43632736.0\n",
              "2021-08-05                      43737128.0\n",
              "2021-08-06                      43763796.0\n",
              "2021-08-07                      43725240.0\n",
              "...                                    ...\n",
              "2021-11-28                      50414640.0\n",
              "2021-11-29                      50510260.0\n",
              "2021-11-30                      50408664.0\n",
              "2021-12-01                      50373100.0\n",
              "2021-12-02                      50368448.0\n",
              "\n",
              "[122 rows x 1 columns]"
            ],
            "text/html": [
              "\n",
              "  <div id=\"df-8944f122-570c-4233-b847-1130c0ab05a2\">\n",
              "    <div class=\"colab-df-container\">\n",
              "      <div>\n",
              "<style scoped>\n",
              "    .dataframe tbody tr th:only-of-type {\n",
              "        vertical-align: middle;\n",
              "    }\n",
              "\n",
              "    .dataframe tbody tr th {\n",
              "        vertical-align: top;\n",
              "    }\n",
              "\n",
              "    .dataframe thead th {\n",
              "        text-align: right;\n",
              "    }\n",
              "</style>\n",
              "<table border=\"1\" class=\"dataframe\">\n",
              "  <thead>\n",
              "    <tr style=\"text-align: right;\">\n",
              "      <th></th>\n",
              "      <th>sum_of_people_fully_vaccinated</th>\n",
              "    </tr>\n",
              "  </thead>\n",
              "  <tbody>\n",
              "    <tr>\n",
              "      <th>2021-08-03</th>\n",
              "      <td>43399404.0</td>\n",
              "    </tr>\n",
              "    <tr>\n",
              "      <th>2021-08-04</th>\n",
              "      <td>43632736.0</td>\n",
              "    </tr>\n",
              "    <tr>\n",
              "      <th>2021-08-05</th>\n",
              "      <td>43737128.0</td>\n",
              "    </tr>\n",
              "    <tr>\n",
              "      <th>2021-08-06</th>\n",
              "      <td>43763796.0</td>\n",
              "    </tr>\n",
              "    <tr>\n",
              "      <th>2021-08-07</th>\n",
              "      <td>43725240.0</td>\n",
              "    </tr>\n",
              "    <tr>\n",
              "      <th>...</th>\n",
              "      <td>...</td>\n",
              "    </tr>\n",
              "    <tr>\n",
              "      <th>2021-11-28</th>\n",
              "      <td>50414640.0</td>\n",
              "    </tr>\n",
              "    <tr>\n",
              "      <th>2021-11-29</th>\n",
              "      <td>50510260.0</td>\n",
              "    </tr>\n",
              "    <tr>\n",
              "      <th>2021-11-30</th>\n",
              "      <td>50408664.0</td>\n",
              "    </tr>\n",
              "    <tr>\n",
              "      <th>2021-12-01</th>\n",
              "      <td>50373100.0</td>\n",
              "    </tr>\n",
              "    <tr>\n",
              "      <th>2021-12-02</th>\n",
              "      <td>50368448.0</td>\n",
              "    </tr>\n",
              "  </tbody>\n",
              "</table>\n",
              "<p>122 rows × 1 columns</p>\n",
              "</div>\n",
              "      <button class=\"colab-df-convert\" onclick=\"convertToInteractive('df-8944f122-570c-4233-b847-1130c0ab05a2')\"\n",
              "              title=\"Convert this dataframe to an interactive table.\"\n",
              "              style=\"display:none;\">\n",
              "        \n",
              "  <svg xmlns=\"http://www.w3.org/2000/svg\" height=\"24px\"viewBox=\"0 0 24 24\"\n",
              "       width=\"24px\">\n",
              "    <path d=\"M0 0h24v24H0V0z\" fill=\"none\"/>\n",
              "    <path d=\"M18.56 5.44l.94 2.06.94-2.06 2.06-.94-2.06-.94-.94-2.06-.94 2.06-2.06.94zm-11 1L8.5 8.5l.94-2.06 2.06-.94-2.06-.94L8.5 2.5l-.94 2.06-2.06.94zm10 10l.94 2.06.94-2.06 2.06-.94-2.06-.94-.94-2.06-.94 2.06-2.06.94z\"/><path d=\"M17.41 7.96l-1.37-1.37c-.4-.4-.92-.59-1.43-.59-.52 0-1.04.2-1.43.59L10.3 9.45l-7.72 7.72c-.78.78-.78 2.05 0 2.83L4 21.41c.39.39.9.59 1.41.59.51 0 1.02-.2 1.41-.59l7.78-7.78 2.81-2.81c.8-.78.8-2.07 0-2.86zM5.41 20L4 18.59l7.72-7.72 1.47 1.35L5.41 20z\"/>\n",
              "  </svg>\n",
              "      </button>\n",
              "      \n",
              "  <style>\n",
              "    .colab-df-container {\n",
              "      display:flex;\n",
              "      flex-wrap:wrap;\n",
              "      gap: 12px;\n",
              "    }\n",
              "\n",
              "    .colab-df-convert {\n",
              "      background-color: #E8F0FE;\n",
              "      border: none;\n",
              "      border-radius: 50%;\n",
              "      cursor: pointer;\n",
              "      display: none;\n",
              "      fill: #1967D2;\n",
              "      height: 32px;\n",
              "      padding: 0 0 0 0;\n",
              "      width: 32px;\n",
              "    }\n",
              "\n",
              "    .colab-df-convert:hover {\n",
              "      background-color: #E2EBFA;\n",
              "      box-shadow: 0px 1px 2px rgba(60, 64, 67, 0.3), 0px 1px 3px 1px rgba(60, 64, 67, 0.15);\n",
              "      fill: #174EA6;\n",
              "    }\n",
              "\n",
              "    [theme=dark] .colab-df-convert {\n",
              "      background-color: #3B4455;\n",
              "      fill: #D2E3FC;\n",
              "    }\n",
              "\n",
              "    [theme=dark] .colab-df-convert:hover {\n",
              "      background-color: #434B5C;\n",
              "      box-shadow: 0px 1px 3px 1px rgba(0, 0, 0, 0.15);\n",
              "      filter: drop-shadow(0px 1px 2px rgba(0, 0, 0, 0.3));\n",
              "      fill: #FFFFFF;\n",
              "    }\n",
              "  </style>\n",
              "\n",
              "      <script>\n",
              "        const buttonEl =\n",
              "          document.querySelector('#df-8944f122-570c-4233-b847-1130c0ab05a2 button.colab-df-convert');\n",
              "        buttonEl.style.display =\n",
              "          google.colab.kernel.accessAllowed ? 'block' : 'none';\n",
              "\n",
              "        async function convertToInteractive(key) {\n",
              "          const element = document.querySelector('#df-8944f122-570c-4233-b847-1130c0ab05a2');\n",
              "          const dataTable =\n",
              "            await google.colab.kernel.invokeFunction('convertToInteractive',\n",
              "                                                     [key], {});\n",
              "          if (!dataTable) return;\n",
              "\n",
              "          const docLinkHtml = 'Like what you see? Visit the ' +\n",
              "            '<a target=\"_blank\" href=https://colab.research.google.com/notebooks/data_table.ipynb>data table notebook</a>'\n",
              "            + ' to learn more about interactive tables.';\n",
              "          element.innerHTML = '';\n",
              "          dataTable['output_type'] = 'display_data';\n",
              "          await google.colab.output.renderOutput(dataTable, element);\n",
              "          const docLink = document.createElement('div');\n",
              "          docLink.innerHTML = docLinkHtml;\n",
              "          element.appendChild(docLink);\n",
              "        }\n",
              "      </script>\n",
              "    </div>\n",
              "  </div>\n",
              "  "
            ]
          },
          "metadata": {},
          "execution_count": 675
        }
      ],
      "source": [
        "# Inverse the predictions to original measurements\n",
        "\n",
        "# ---> Special function: convert <datetime.date> to <Timestamp>\n",
        "def datetime_to_timestamp(x):\n",
        "    '''\n",
        "        x : a given datetime value (datetime.date)\n",
        "    '''\n",
        "    return datetime.strptime(x.strftime('%Y%m%d'), '%Y%m%d')\n",
        " \n",
        "\n",
        "\n",
        "y_pred_future = sc_predict.inverse_transform(predictions_future)\n",
        "y_pred_train = sc_predict.inverse_transform(predictions_train)\n",
        "y_pred_train\n",
        "PREDICTIONS_FUTURE = pd.DataFrame(y_pred_future, columns=['sum_of_people_fully_vaccinated']).set_index(pd.Series(datelist_future))\n",
        "PREDICTION_TRAIN = pd.DataFrame(y_pred_train, columns=['sum_of_people_fully_vaccinated']).set_index(pd.Series(datelist_train[2 * n_past + n_future -1:]))\n",
        "\n",
        "# Convert <datetime.date> to <Timestamp> for PREDCITION_TRAIN\n",
        "PREDICTION_TRAIN.index = PREDICTION_TRAIN.index.to_series().apply(datetime_to_timestamp)\n",
        "\n",
        "PREDICTION_TRAIN"
      ]
    },
    {
      "cell_type": "code",
      "execution_count": 676,
      "metadata": {
        "id": "CbR1-BRPiw2q"
      },
      "outputs": [],
      "source": [
        "df_google = pd.DataFrame(df)"
      ]
    },
    {
      "cell_type": "code",
      "execution_count": 677,
      "metadata": {
        "id": "YhSH4s-ti5eR"
      },
      "outputs": [],
      "source": [
        "df_google.date = pd.to_datetime(df_google.date)"
      ]
    },
    {
      "cell_type": "code",
      "execution_count": 678,
      "metadata": {
        "id": "tijAjQchYkS9",
        "colab": {
          "base_uri": "https://localhost:8080/",
          "height": 379
        },
        "outputId": "428625bc-0d1f-44d7-fedd-abaaaaa0d5e4"
      },
      "outputs": [
        {
          "output_type": "display_data",
          "data": {
            "text/plain": [
              "<Figure size 1008x360 with 1 Axes>"
            ],
            "image/png": "[encoded data removed]"
          },
          "metadata": {
            "needs_background": "light"
          }
        }
      ],
      "source": [
        "# Set plot size \n",
        "from pylab import rcParams\n",
        "rcParams['figure.figsize'] = 14, 5\n",
        "\n",
        "# Plot parameters\n",
        "START_DATE_FOR_PLOTTING = '2021-1-01'\n",
        "\n",
        "plt.plot(PREDICTIONS_FUTURE.index, PREDICTIONS_FUTURE['sum_of_people_fully_vaccinated'], color='r', label='Prediction')\n",
        "plt.plot(PREDICTION_TRAIN.loc[START_DATE_FOR_PLOTTING:].index, PREDICTION_TRAIN.loc[START_DATE_FOR_PLOTTING:]['sum_of_people_fully_vaccinated'], color='orange', label='Training predictions')\n",
        "# plt.plot(df.loc[START_DATE_FOR_PLOTTING:].index, df.loc[START_DATE_FOR_PLOTTING:]['sum_of_people_fully_vaccinated'], color='b', label='Actual vaccinated')\n",
        "\n",
        "plt.axvline(x = min(PREDICTIONS_FUTURE.index), color='green', linewidth=2, linestyle='--')\n",
        "\n",
        "plt.grid(which='major', color='#cccccc', alpha=0.5)\n",
        "\n",
        "plt.legend(shadow=True)\n",
        "plt.title('Predcitions and Acutal values', family='Arial', fontsize=12)\n",
        "plt.xlabel('Timeline', family='Arial', fontsize=10)\n",
        "plt.ylabel('People fully vaccinated', family='Arial', fontsize=10)\n",
        "plt.xticks(rotation=45, fontsize=8)\n",
        "plt.show()"
      ]
    },
    {
      "cell_type": "code",
      "source": [
        "X_train.shape"
      ],
      "metadata": {
        "id": "Bl6vq3ymHRYi",
        "colab": {
          "base_uri": "https://localhost:8080/"
        },
        "outputId": "c513702e-da80-441b-b594-8b2f022bfd9a"
      },
      "execution_count": 679,
      "outputs": [
        {
          "output_type": "execute_result",
          "data": {
            "text/plain": [
              "(222, 100, 7)"
            ]
          },
          "metadata": {},
          "execution_count": 679
        }
      ]
    },
    {
      "cell_type": "code",
      "source": [
        "predictions_train.shape"
      ],
      "metadata": {
        "id": "czeS32gvHU38",
        "colab": {
          "base_uri": "https://localhost:8080/"
        },
        "outputId": "73eb5b55-7251-4270-a8a7-fb5446173834"
      },
      "execution_count": 680,
      "outputs": [
        {
          "output_type": "execute_result",
          "data": {
            "text/plain": [
              "(122, 1)"
            ]
          },
          "metadata": {},
          "execution_count": 680
        }
      ]
    },
    {
      "cell_type": "code",
      "source": [
        "# check model with test data\n",
        "prediction= model.predict(X_test)\n",
        "print(\"prediction\\n\", prediction)\n",
        "print(\"\\nPrediction Shape-\",prediction.shape)"
      ],
      "metadata": {
        "id": "lxthEaW7K8D-",
        "colab": {
          "base_uri": "https://localhost:8080/"
        },
        "outputId": "21d110c6-951b-4cfe-d902-089c3797d8fb"
      },
      "execution_count": 681,
      "outputs": [
        {
          "output_type": "stream",
          "name": "stdout",
          "text": [
            "prediction\n",
            " [[0.77474004]\n",
            " [0.7808328 ]\n",
            " [0.7858634 ]\n",
            " [0.80864   ]\n",
            " [0.81517124]\n",
            " [0.82679933]\n",
            " [0.8362916 ]\n",
            " [0.84397507]\n",
            " [0.8520937 ]\n",
            " [0.8667368 ]\n",
            " [0.8746366 ]\n",
            " [0.8783371 ]\n",
            " [0.87949383]\n",
            " [0.8873835 ]\n",
            " [0.88001645]\n",
            " [0.86650366]\n",
            " [0.86439955]\n",
            " [0.8688343 ]\n",
            " [0.87429273]\n",
            " [0.87766045]\n",
            " [0.87824875]\n",
            " [0.8847112 ]\n",
            " [0.89381963]\n",
            " [0.9046596 ]\n",
            " [0.9148444 ]\n",
            " [0.90502197]\n",
            " [0.88973945]\n",
            " [0.8762408 ]]\n",
            "\n",
            "Prediction Shape- (28, 1)\n"
          ]
        }
      ]
    },
    {
      "cell_type": "code",
      "execution_count": 682,
      "metadata": {
        "id": "BPWdGSo1sy5e"
      },
      "outputs": [],
      "source": [
        "prediction_copies_array = np.repeat(prediction,7, axis=-1)"
      ]
    },
    {
      "cell_type": "code",
      "execution_count": 683,
      "metadata": {
        "id": "fzZESZVltGjr"
      },
      "outputs": [],
      "source": [
        "pred=sc.inverse_transform(np.reshape(prediction_copies_array,(len(prediction),7)))[:,0]"
      ]
    },
    {
      "cell_type": "code",
      "source": [
        "X_test.shape"
      ],
      "metadata": {
        "id": "nK8-ztFcft26",
        "colab": {
          "base_uri": "https://localhost:8080/"
        },
        "outputId": "1cfa4e0b-e0a2-4d71-cc87-f8d3773763ed"
      },
      "execution_count": 684,
      "outputs": [
        {
          "output_type": "execute_result",
          "data": {
            "text/plain": [
              "(28, 100, 7)"
            ]
          },
          "metadata": {},
          "execution_count": 684
        }
      ]
    },
    {
      "cell_type": "code",
      "source": [
        "y_test.shape"
      ],
      "metadata": {
        "id": "uqxauis2fwAq",
        "colab": {
          "base_uri": "https://localhost:8080/"
        },
        "outputId": "d36d6f07-2c97-48b2-9f80-56333311901e"
      },
      "execution_count": 685,
      "outputs": [
        {
          "output_type": "execute_result",
          "data": {
            "text/plain": [
              "(28, 1)"
            ]
          },
          "metadata": {},
          "execution_count": 685
        }
      ]
    },
    {
      "cell_type": "code",
      "execution_count": 686,
      "metadata": {
        "id": "yIi2mTfutYso"
      },
      "outputs": [],
      "source": [
        "original_copies_array = np.repeat(y_test,7, axis=-1)\n",
        "original=sc.inverse_transform(np.reshape(original_copies_array,(len(X_test),7)))[:,0]"
      ]
    },
    {
      "cell_type": "code",
      "source": [
        "original.shape"
      ],
      "metadata": {
        "id": "6PMYyW-b4vF5",
        "colab": {
          "base_uri": "https://localhost:8080/"
        },
        "outputId": "851c878c-5805-4af9-b7c1-ece12a64eb0c"
      },
      "execution_count": 687,
      "outputs": [
        {
          "output_type": "execute_result",
          "data": {
            "text/plain": [
              "(28,)"
            ]
          },
          "metadata": {},
          "execution_count": 687
        }
      ]
    },
    {
      "cell_type": "code",
      "source": [
        "from sklearn.metrics import mean_squared_error"
      ],
      "metadata": {
        "id": "qCGRxCYPgAN1"
      },
      "execution_count": 688,
      "outputs": []
    },
    {
      "cell_type": "code",
      "source": [
        "import sklearn"
      ],
      "metadata": {
        "id": "0sZ7z2epQxvH"
      },
      "execution_count": 689,
      "outputs": []
    },
    {
      "cell_type": "code",
      "execution_count": 690,
      "metadata": {
        "id": "6XpuQSMEkJYl"
      },
      "outputs": [],
      "source": [
        "import math\n",
        "from numpy import sqrt \n",
        "mse = sklearn.metrics.mean_squared_error(original, pred)"
      ]
    },
    {
      "cell_type": "code",
      "source": [
        "mse"
      ],
      "metadata": {
        "colab": {
          "base_uri": "https://localhost:8080/"
        },
        "id": "oPAAPIgWQzqt",
        "outputId": "212f34c5-4bb4-47c6-ae37-089b3e7b93d7"
      },
      "execution_count": 691,
      "outputs": [
        {
          "output_type": "execute_result",
          "data": {
            "text/plain": [
              "107734566379.25"
            ]
          },
          "metadata": {},
          "execution_count": 691
        }
      ]
    },
    {
      "cell_type": "code",
      "source": [
        "rms = sqrt(mean_squared_error(original, pred))"
      ],
      "metadata": {
        "id": "-0YziYV-Q6c2"
      },
      "execution_count": 692,
      "outputs": []
    },
    {
      "cell_type": "code",
      "source": [
        "rms"
      ],
      "metadata": {
        "colab": {
          "base_uri": "https://localhost:8080/"
        },
        "id": "01e3TKrYQ93S",
        "outputId": "bbf9ed84-1c96-4146-e20b-1fe3a86e757a"
      },
      "execution_count": 693,
      "outputs": [
        {
          "output_type": "execute_result",
          "data": {
            "text/plain": [
              "328229.44167038094"
            ]
          },
          "metadata": {},
          "execution_count": 693
        }
      ]
    },
    {
      "cell_type": "code",
      "source": [
        "rmspe = np.sqrt(np.mean(np.square(((y_test - original) / y_test)), axis=0))"
      ],
      "metadata": {
        "id": "A2ybxqaGi1jk"
      },
      "execution_count": 694,
      "outputs": []
    },
    {
      "cell_type": "code",
      "execution_count": 695,
      "metadata": {
        "id": "PBSK1RpHt0fs",
        "colab": {
          "base_uri": "https://localhost:8080/"
        },
        "outputId": "91d9a3a3-75f2-47e6-9592-754af0a4b7e0"
      },
      "outputs": [
        {
          "output_type": "stream",
          "name": "stdout",
          "text": [
            "Pred Values--  [93738776. 93821144. 93889152. 94197072. 94285368. 94442568. 94570896.\n",
            " 94674768. 94784528. 94982488. 95089280. 95139312. 95154952. 95261608.\n",
            " 95162016. 94979336. 94950888. 95010840. 95084632. 95130160. 95138120.\n",
            " 95225480. 95348616. 95495168. 95632856. 95500064. 95293456. 95110968.]\n",
            "\n",
            "Original Values--  [94413510. 94461292. 94502405. 94559274. 94622603. 94674737. 94698786.\n",
            " 94709231. 94741481. 94785041. 94850311. 94938649. 95021384. 95054956.\n",
            " 95066921. 95108609. 95151256. 95274010. 95345322. 95374618. 95406235.\n",
            " 95417545. 95492682. 95544347. 95634436. 95709192. 95819697. 95849087.]\n"
          ]
        }
      ],
      "source": [
        "print(\"Pred Values-- \" ,pred)\n",
        "print(\"\\nOriginal Values-- \" ,original)"
      ]
    },
    {
      "cell_type": "code",
      "execution_count": 696,
      "metadata": {
        "id": "nLXRueLit4WE",
        "colab": {
          "base_uri": "https://localhost:8080/",
          "height": 350
        },
        "outputId": "7b5d73ca-9744-4f9a-b881-21c3b831e503"
      },
      "outputs": [
        {
          "output_type": "display_data",
          "data": {
            "text/plain": [
              "<Figure size 1008x360 with 1 Axes>"
            ],
            "image/png": "[encoded data removed]"
          },
          "metadata": {
            "needs_background": "light"
          }
        }
      ],
      "source": [
        "# Finally, draw a graph to compare our PRED with the original data.\n",
        "\n",
        "plt.plot(original, color = 'red', label = 'Actual people fully vaccinated')\n",
        "plt.plot(pred, color = 'blue', label = 'Predicted people fully vaccinate')\n",
        "plt.title(' people fully vaccinateed')\n",
        "plt.xlabel('Time')\n",
        "plt.ylabel('Vaccination Rate')\n",
        "plt.legend()\n",
        "plt.show()"
      ]
    },
    {
      "cell_type": "code",
      "source": [
        "mape = np.mean(np.abs((original - pred) / np.abs(original)))\n",
        "print('Mean Absolute Percentage Error (MAPE):', round(mape * 100, 2))"
      ],
      "metadata": {
        "colab": {
          "base_uri": "https://localhost:8080/"
        },
        "id": "N17L7yoCEy2d",
        "outputId": "12c4741a-5acd-426a-8fb1-044d3e5db203"
      },
      "execution_count": 697,
      "outputs": [
        {
          "output_type": "stream",
          "name": "stdout",
          "text": [
            "Mean Absolute Percentage Error (MAPE): 0.28\n"
          ]
        }
      ]
    },
    {
      "cell_type": "code",
      "source": [
        "df.describe()"
      ],
      "metadata": {
        "colab": {
          "base_uri": "https://localhost:8080/",
          "height": 300
        },
        "id": "TNAxGSsfP8Mu",
        "outputId": "0c2edc1b-5e76-4cf8-9591-9d171181d00b"
      },
      "execution_count": 698,
      "outputs": [
        {
          "output_type": "execute_result",
          "data": {
            "text/plain": [
              "        total_cases  total_deaths  total_vaccinations  people_vaccinated  \\\n",
              "count  4.780000e+02  4.780000e+02        4.780000e+02       4.780000e+02   \n",
              "mean   5.381863e+07  1.016685e+06        5.413698e+08       2.779881e+08   \n",
              "std    2.187990e+07  2.429786e+05        3.071146e+08       1.352733e+08   \n",
              "min    2.338308e+07  5.149290e+05        5.904555e+06       5.761692e+06   \n",
              "25%    3.768232e+07  8.451978e+05        3.004694e+08       1.820270e+08   \n",
              "50%    4.671314e+07  9.680935e+05        5.639401e+08       3.190270e+08   \n",
              "75%    6.209575e+07  1.211018e+06        8.273505e+08       4.027539e+08   \n",
              "max    9.584909e+07  1.427710e+06        9.814403e+08       4.276520e+08   \n",
              "\n",
              "       people_fully_vaccinated    Negative    Positive  \n",
              "count             4.780000e+02  478.000000  478.000000  \n",
              "mean              2.276991e+08    0.054540    0.045111  \n",
              "std               1.274438e+08    0.027308    0.036979  \n",
              "min               4.968300e+04    0.000000    0.000000  \n",
              "25%               1.251322e+08    0.039250    0.024000  \n",
              "50%               2.539696e+08    0.052000    0.039000  \n",
              "75%               3.496407e+08    0.068000    0.060750  \n",
              "max               3.763974e+08    0.161000    0.369000  "
            ],
            "text/html": [
              "\n",
              "  <div id=\"df-43b27de7-2e3e-45a6-82c1-ebefac0e2880\">\n",
              "    <div class=\"colab-df-container\">\n",
              "      <div>\n",
              "<style scoped>\n",
              "    .dataframe tbody tr th:only-of-type {\n",
              "        vertical-align: middle;\n",
              "    }\n",
              "\n",
              "    .dataframe tbody tr th {\n",
              "        vertical-align: top;\n",
              "    }\n",
              "\n",
              "    .dataframe thead th {\n",
              "        text-align: right;\n",
              "    }\n",
              "</style>\n",
              "<table border=\"1\" class=\"dataframe\">\n",
              "  <thead>\n",
              "    <tr style=\"text-align: right;\">\n",
              "      <th></th>\n",
              "      <th>total_cases</th>\n",
              "      <th>total_deaths</th>\n",
              "      <th>total_vaccinations</th>\n",
              "      <th>people_vaccinated</th>\n",
              "      <th>people_fully_vaccinated</th>\n",
              "      <th>Negative</th>\n",
              "      <th>Positive</th>\n",
              "    </tr>\n",
              "  </thead>\n",
              "  <tbody>\n",
              "    <tr>\n",
              "      <th>count</th>\n",
              "      <td>4.780000e+02</td>\n",
              "      <td>4.780000e+02</td>\n",
              "      <td>4.780000e+02</td>\n",
              "      <td>4.780000e+02</td>\n",
              "      <td>4.780000e+02</td>\n",
              "      <td>478.000000</td>\n",
              "      <td>478.000000</td>\n",
              "    </tr>\n",
              "    <tr>\n",
              "      <th>mean</th>\n",
              "      <td>5.381863e+07</td>\n",
              "      <td>1.016685e+06</td>\n",
              "      <td>5.413698e+08</td>\n",
              "      <td>2.779881e+08</td>\n",
              "      <td>2.276991e+08</td>\n",
              "      <td>0.054540</td>\n",
              "      <td>0.045111</td>\n",
              "    </tr>\n",
              "    <tr>\n",
              "      <th>std</th>\n",
              "      <td>2.187990e+07</td>\n",
              "      <td>2.429786e+05</td>\n",
              "      <td>3.071146e+08</td>\n",
              "      <td>1.352733e+08</td>\n",
              "      <td>1.274438e+08</td>\n",
              "      <td>0.027308</td>\n",
              "      <td>0.036979</td>\n",
              "    </tr>\n",
              "    <tr>\n",
              "      <th>min</th>\n",
              "      <td>2.338308e+07</td>\n",
              "      <td>5.149290e+05</td>\n",
              "      <td>5.904555e+06</td>\n",
              "      <td>5.761692e+06</td>\n",
              "      <td>4.968300e+04</td>\n",
              "      <td>0.000000</td>\n",
              "      <td>0.000000</td>\n",
              "    </tr>\n",
              "    <tr>\n",
              "      <th>25%</th>\n",
              "      <td>3.768232e+07</td>\n",
              "      <td>8.451978e+05</td>\n",
              "      <td>3.004694e+08</td>\n",
              "      <td>1.820270e+08</td>\n",
              "      <td>1.251322e+08</td>\n",
              "      <td>0.039250</td>\n",
              "      <td>0.024000</td>\n",
              "    </tr>\n",
              "    <tr>\n",
              "      <th>50%</th>\n",
              "      <td>4.671314e+07</td>\n",
              "      <td>9.680935e+05</td>\n",
              "      <td>5.639401e+08</td>\n",
              "      <td>3.190270e+08</td>\n",
              "      <td>2.539696e+08</td>\n",
              "      <td>0.052000</td>\n",
              "      <td>0.039000</td>\n",
              "    </tr>\n",
              "    <tr>\n",
              "      <th>75%</th>\n",
              "      <td>6.209575e+07</td>\n",
              "      <td>1.211018e+06</td>\n",
              "      <td>8.273505e+08</td>\n",
              "      <td>4.027539e+08</td>\n",
              "      <td>3.496407e+08</td>\n",
              "      <td>0.068000</td>\n",
              "      <td>0.060750</td>\n",
              "    </tr>\n",
              "    <tr>\n",
              "      <th>max</th>\n",
              "      <td>9.584909e+07</td>\n",
              "      <td>1.427710e+06</td>\n",
              "      <td>9.814403e+08</td>\n",
              "      <td>4.276520e+08</td>\n",
              "      <td>3.763974e+08</td>\n",
              "      <td>0.161000</td>\n",
              "      <td>0.369000</td>\n",
              "    </tr>\n",
              "  </tbody>\n",
              "</table>\n",
              "</div>\n",
              "      <button class=\"colab-df-convert\" onclick=\"convertToInteractive('df-43b27de7-2e3e-45a6-82c1-ebefac0e2880')\"\n",
              "              title=\"Convert this dataframe to an interactive table.\"\n",
              "              style=\"display:none;\">\n",
              "        \n",
              "  <svg xmlns=\"http://www.w3.org/2000/svg\" height=\"24px\"viewBox=\"0 0 24 24\"\n",
              "       width=\"24px\">\n",
              "    <path d=\"M0 0h24v24H0V0z\" fill=\"none\"/>\n",
              "    <path d=\"M18.56 5.44l.94 2.06.94-2.06 2.06-.94-2.06-.94-.94-2.06-.94 2.06-2.06.94zm-11 1L8.5 8.5l.94-2.06 2.06-.94-2.06-.94L8.5 2.5l-.94 2.06-2.06.94zm10 10l.94 2.06.94-2.06 2.06-.94-2.06-.94-.94-2.06-.94 2.06-2.06.94z\"/><path d=\"M17.41 7.96l-1.37-1.37c-.4-.4-.92-.59-1.43-.59-.52 0-1.04.2-1.43.59L10.3 9.45l-7.72 7.72c-.78.78-.78 2.05 0 2.83L4 21.41c.39.39.9.59 1.41.59.51 0 1.02-.2 1.41-.59l7.78-7.78 2.81-2.81c.8-.78.8-2.07 0-2.86zM5.41 20L4 18.59l7.72-7.72 1.47 1.35L5.41 20z\"/>\n",
              "  </svg>\n",
              "      </button>\n",
              "      \n",
              "  <style>\n",
              "    .colab-df-container {\n",
              "      display:flex;\n",
              "      flex-wrap:wrap;\n",
              "      gap: 12px;\n",
              "    }\n",
              "\n",
              "    .colab-df-convert {\n",
              "      background-color: #E8F0FE;\n",
              "      border: none;\n",
              "      border-radius: 50%;\n",
              "      cursor: pointer;\n",
              "      display: none;\n",
              "      fill: #1967D2;\n",
              "      height: 32px;\n",
              "      padding: 0 0 0 0;\n",
              "      width: 32px;\n",
              "    }\n",
              "\n",
              "    .colab-df-convert:hover {\n",
              "      background-color: #E2EBFA;\n",
              "      box-shadow: 0px 1px 2px rgba(60, 64, 67, 0.3), 0px 1px 3px 1px rgba(60, 64, 67, 0.15);\n",
              "      fill: #174EA6;\n",
              "    }\n",
              "\n",
              "    [theme=dark] .colab-df-convert {\n",
              "      background-color: #3B4455;\n",
              "      fill: #D2E3FC;\n",
              "    }\n",
              "\n",
              "    [theme=dark] .colab-df-convert:hover {\n",
              "      background-color: #434B5C;\n",
              "      box-shadow: 0px 1px 3px 1px rgba(0, 0, 0, 0.15);\n",
              "      filter: drop-shadow(0px 1px 2px rgba(0, 0, 0, 0.3));\n",
              "      fill: #FFFFFF;\n",
              "    }\n",
              "  </style>\n",
              "\n",
              "      <script>\n",
              "        const buttonEl =\n",
              "          document.querySelector('#df-43b27de7-2e3e-45a6-82c1-ebefac0e2880 button.colab-df-convert');\n",
              "        buttonEl.style.display =\n",
              "          google.colab.kernel.accessAllowed ? 'block' : 'none';\n",
              "\n",
              "        async function convertToInteractive(key) {\n",
              "          const element = document.querySelector('#df-43b27de7-2e3e-45a6-82c1-ebefac0e2880');\n",
              "          const dataTable =\n",
              "            await google.colab.kernel.invokeFunction('convertToInteractive',\n",
              "                                                     [key], {});\n",
              "          if (!dataTable) return;\n",
              "\n",
              "          const docLinkHtml = 'Like what you see? Visit the ' +\n",
              "            '<a target=\"_blank\" href=https://colab.research.google.com/notebooks/data_table.ipynb>data table notebook</a>'\n",
              "            + ' to learn more about interactive tables.';\n",
              "          element.innerHTML = '';\n",
              "          dataTable['output_type'] = 'display_data';\n",
              "          await google.colab.output.renderOutput(dataTable, element);\n",
              "          const docLink = document.createElement('div');\n",
              "          docLink.innerHTML = docLinkHtml;\n",
              "          element.appendChild(docLink);\n",
              "        }\n",
              "      </script>\n",
              "    </div>\n",
              "  </div>\n",
              "  "
            ]
          },
          "metadata": {},
          "execution_count": 698
        }
      ]
    }
  ],
  "metadata": {
    "colab": {
      "collapsed_sections": [],
      "name": "MULTIVARIENTLSTM_VACCINATION_DATA_tweetsbest.ipynb",
      "provenance": []
    },
    "kernelspec": {
      "display_name": "Python 3",
      "name": "python3"
    },
    "language_info": {
      "name": "python"
    }
  },
  "nbformat": 4,
  "nbformat_minor": 0
}